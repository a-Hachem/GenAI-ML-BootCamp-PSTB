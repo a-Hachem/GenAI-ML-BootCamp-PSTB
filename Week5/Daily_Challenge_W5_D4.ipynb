{
  "nbformat": 4,
  "nbformat_minor": 0,
  "metadata": {
    "colab": {
      "provenance": []
    },
    "kernelspec": {
      "name": "python3",
      "display_name": "Python 3"
    },
    "language_info": {
      "name": "python"
    }
  },
  "cells": [
    {
      "cell_type": "markdown",
      "source": [
        "# Building a LangGraph RAG Pipeline"
      ],
      "metadata": {
        "id": "JAGjYvBN9MAs"
      }
    },
    {
      "cell_type": "markdown",
      "source": [
        "#### 1. Document Loading:"
      ],
      "metadata": {
        "id": "H5DVYala9cz0"
      }
    },
    {
      "cell_type": "code",
      "execution_count": 1,
      "metadata": {
        "colab": {
          "base_uri": "https://localhost:8080/"
        },
        "id": "BYgMC4A46v31",
        "outputId": "5c1d5efe-3837-4ea4-e813-44914e9f77cb"
      },
      "outputs": [
        {
          "output_type": "stream",
          "name": "stdout",
          "text": [
            "\u001b[2K   \u001b[90m━━━━━━━━━━━━━━━━━━━━━━━━━━━━━━━━━━━━━━━━\u001b[0m \u001b[32m2.5/2.5 MB\u001b[0m \u001b[31m15.9 MB/s\u001b[0m eta \u001b[36m0:00:00\u001b[0m\n",
            "\u001b[2K   \u001b[90m━━━━━━━━━━━━━━━━━━━━━━━━━━━━━━━━━━━━━━━━\u001b[0m \u001b[32m50.9/50.9 kB\u001b[0m \u001b[31m1.6 MB/s\u001b[0m eta \u001b[36m0:00:00\u001b[0m\n",
            "\u001b[?25h"
          ]
        }
      ],
      "source": [
        "!pip install -qU langchain_community beautifulsoup4"
      ]
    },
    {
      "cell_type": "code",
      "source": [
        "!pip install faiss-cpu"
      ],
      "metadata": {
        "colab": {
          "base_uri": "https://localhost:8080/"
        },
        "id": "mOELslgffjIW",
        "outputId": "914ffacc-e3e1-4baf-9b1b-25a8250e7589"
      },
      "execution_count": 2,
      "outputs": [
        {
          "output_type": "stream",
          "name": "stdout",
          "text": [
            "Collecting faiss-cpu\n",
            "  Downloading faiss_cpu-1.10.0-cp311-cp311-manylinux_2_28_x86_64.whl.metadata (4.4 kB)\n",
            "Requirement already satisfied: numpy<3.0,>=1.25.0 in /usr/local/lib/python3.11/dist-packages (from faiss-cpu) (1.26.4)\n",
            "Requirement already satisfied: packaging in /usr/local/lib/python3.11/dist-packages (from faiss-cpu) (24.2)\n",
            "Downloading faiss_cpu-1.10.0-cp311-cp311-manylinux_2_28_x86_64.whl (30.7 MB)\n",
            "\u001b[2K   \u001b[90m━━━━━━━━━━━━━━━━━━━━━━━━━━━━━━━━━━━━━━━━\u001b[0m \u001b[32m30.7/30.7 MB\u001b[0m \u001b[31m56.5 MB/s\u001b[0m eta \u001b[36m0:00:00\u001b[0m\n",
            "\u001b[?25hInstalling collected packages: faiss-cpu\n",
            "Successfully installed faiss-cpu-1.10.0\n"
          ]
        }
      ]
    },
    {
      "cell_type": "code",
      "source": [
        "import bs4\n",
        "from langchain import hub\n",
        "from langchain_community.document_loaders import WebBaseLoader\n",
        "from langchain_core.documents import Document\n",
        "from langchain_text_splitters import RecursiveCharacterTextSplitter\n",
        "from typing_extensions import List, TypedDict\n",
        "from langchain.embeddings import HuggingFaceEmbeddings\n",
        "from langchain.vectorstores import FAISS\n",
        "from langchain.llms import HuggingFacePipeline\n",
        "from transformers import AutoModelForSeq2SeqLM, AutoTokenizer, pipeline\n",
        "\n"
      ],
      "metadata": {
        "id": "9-fnqwHgATIg"
      },
      "execution_count": 89,
      "outputs": []
    },
    {
      "cell_type": "code",
      "source": [
        "# Load and chunk contents of the blog\n",
        "# Load and chunk contents of the blog\n",
        "loader = WebBaseLoader(\n",
        "    web_paths=(\"https://lilianweng.github.io/posts/2023-06-23-agent/\",),  # URL to scrape\n",
        "    bs_kwargs={\n",
        "        \"parse_only\": bs4.SoupStrainer(\n",
        "            class_=(\"post-content\", \"post-title\", \"post-header\")\n",
        "        )\n",
        "    },\n",
        ")\n",
        "\n",
        "# Load the document\n",
        "docs = loader.load()\n",
        "\n",
        "docs = loader.load()"
      ],
      "metadata": {
        "id": "GjsqWnug70En"
      },
      "execution_count": 90,
      "outputs": []
    },
    {
      "cell_type": "code",
      "source": [
        "print(\"\\n First document preview:\")\n",
        "print(docs[0].page_content[:1000])  # Print the first 1000 characters"
      ],
      "metadata": {
        "colab": {
          "base_uri": "https://localhost:8080/"
        },
        "id": "MFCKtG1y86fb",
        "outputId": "44e17928-8256-4690-a8ef-6c96f20e5520"
      },
      "execution_count": 91,
      "outputs": [
        {
          "output_type": "stream",
          "name": "stdout",
          "text": [
            "\n",
            " First document preview:\n",
            "\n",
            "\n",
            "      LLM Powered Autonomous Agents\n",
            "    \n",
            "Date: June 23, 2023  |  Estimated Reading Time: 31 min  |  Author: Lilian Weng\n",
            "\n",
            "\n",
            "Building agents with LLM (large language model) as its core controller is a cool concept. Several proof-of-concepts demos, such as AutoGPT, GPT-Engineer and BabyAGI, serve as inspiring examples. The potentiality of LLM extends beyond generating well-written copies, stories, essays and programs; it can be framed as a powerful general problem solver.\n",
            "Agent System Overview#\n",
            "In a LLM-powered autonomous agent system, LLM functions as the agent’s brain, complemented by several key components:\n",
            "\n",
            "Planning\n",
            "\n",
            "Subgoal and decomposition: The agent breaks down large tasks into smaller, manageable subgoals, enabling efficient handling of complex tasks.\n",
            "Reflection and refinement: The agent can do self-criticism and self-reflection over past actions, learn from mistakes and refine them for future steps, thereby improving the quality of final results.\n",
            "\n",
            "\n",
            "Memory\n",
            "\n",
            "Short-term memory: I \n"
          ]
        }
      ]
    },
    {
      "cell_type": "code",
      "source": [
        "print(f\"Total number of documents: {len(docs)}\")"
      ],
      "metadata": {
        "colab": {
          "base_uri": "https://localhost:8080/"
        },
        "id": "bhVfZvn1-m6u",
        "outputId": "05163630-1634-4fb8-cb45-d702d2563a73"
      },
      "execution_count": 92,
      "outputs": [
        {
          "output_type": "stream",
          "name": "stdout",
          "text": [
            "Total number of documents: 1\n"
          ]
        }
      ]
    },
    {
      "cell_type": "code",
      "source": [
        "total_chars_before_split = len(docs[0].page_content)\n",
        "print(f\" Total number of characters before splitting: {total_chars_before_split}\")\n"
      ],
      "metadata": {
        "colab": {
          "base_uri": "https://localhost:8080/"
        },
        "id": "FNUGwaCQRITK",
        "outputId": "607c4c6d-cc4f-4cba-f0d1-fb0b7785ea78"
      },
      "execution_count": 93,
      "outputs": [
        {
          "output_type": "stream",
          "name": "stdout",
          "text": [
            " Total number of characters before splitting: 43130\n"
          ]
        }
      ]
    },
    {
      "cell_type": "code",
      "source": [
        "# Verify if obect \"docs\" has attribut \"metadata\" and count him\n",
        "if hasattr(docs[0], \"metadata\"):\n",
        "    num_metadatas = len(docs[0].metadata)\n",
        "    print(f\" Total number of metadata in document {num_metadatas}\")\n",
        "    print(\"\\n First document metadata:\")\n",
        "    print(docs[0].metadata)\n",
        "else:\n",
        "    print(\" This document has no attribut `metadata`.\")\n"
      ],
      "metadata": {
        "colab": {
          "base_uri": "https://localhost:8080/"
        },
        "id": "1HsRO7LqphRF",
        "outputId": "ed4e788e-ca2c-4f01-8efe-be6bac3ca3b0"
      },
      "execution_count": 94,
      "outputs": [
        {
          "output_type": "stream",
          "name": "stdout",
          "text": [
            " Total number of metadata in document 1\n",
            "\n",
            " First document metadata:\n",
            "{'source': 'https://lilianweng.github.io/posts/2023-06-23-agent/'}\n"
          ]
        }
      ]
    },
    {
      "cell_type": "markdown",
      "source": [
        "#### 2. Document Splitting"
      ],
      "metadata": {
        "id": "ueZbAizd9O5c"
      }
    },
    {
      "cell_type": "markdown",
      "source": [
        "  * Use RecursiveCharacterTextSplitter to split the loaded document into smaller chunks.\n",
        "  * Set chunk_size and chunk_overlap parameters to appropriate values.\n",
        "  * Ensure add_start_index is set to track the original document position.\n",
        "  * Verify the amount of created chunks."
      ],
      "metadata": {
        "id": "N4fmgkY69XJ6"
      }
    },
    {
      "cell_type": "code",
      "source": [
        "text_splitter = RecursiveCharacterTextSplitter(chunk_size=1000,    # Each chunk will contain at most 1000 characters\n",
        "                                               chunk_overlap=200,  # Ensures 200 characters of overlap between consecutive chunks\n",
        "                                               add_start_index=True  # Adds metadata to track the original position in the document\n",
        "                                               )\n",
        "\n",
        "# Split the loaded documents into smaller chunks\n",
        "all_splits = text_splitter.split_documents(docs)\n",
        "\n",
        "# Print number of created chunks\n",
        "print(f\"Now we have {len(all_splits)} splits.\")\n",
        "\n",
        "\n",
        "# Print metadata of the first chunk to verify start index\n",
        "print(\"\\n - First chunk metadata:\")\n",
        "print(all_splits[0].metadata)"
      ],
      "metadata": {
        "colab": {
          "base_uri": "https://localhost:8080/"
        },
        "id": "XGw_nN_b84MP",
        "outputId": "f10fd6d0-5898-418f-ff02-59203c0861c8"
      },
      "execution_count": 95,
      "outputs": [
        {
          "output_type": "stream",
          "name": "stdout",
          "text": [
            "Now we have 66 splits.\n",
            "\n",
            " - First chunk metadata:\n",
            "{'source': 'https://lilianweng.github.io/posts/2023-06-23-agent/', 'start_index': 8}\n"
          ]
        }
      ]
    },
    {
      "cell_type": "markdown",
      "source": [
        "3. Vector Store Indexing:\n",
        "\n",
        "  * Embed the document chunks and store them in a vector store (you will need to setup a vector store and embedding model, like in the previous daily challenge).\n",
        "  * Store the document id’s returned from the vector store.\n",
        "  * Verify the document ID’s."
      ],
      "metadata": {
        "id": "LdiLawmiFjlt"
      }
    },
    {
      "cell_type": "code",
      "source": [
        "# Convert text chunks into vectors using an embedding model\n",
        "embeddings = HuggingFaceEmbeddings(model_name=\"sentence-transformers/all-MiniLM-l6-v2\")"
      ],
      "metadata": {
        "id": "c6ObqIFa9Cqh"
      },
      "execution_count": 97,
      "outputs": []
    },
    {
      "cell_type": "code",
      "source": [
        "# Store the vectors in FAISS\n",
        "vector_store = FAISS.from_documents(all_splits, embeddings)\n"
      ],
      "metadata": {
        "id": "AvCZSH_HSK8d"
      },
      "execution_count": 98,
      "outputs": []
    },
    {
      "cell_type": "code",
      "source": [
        "# Retrieve the top 3 most similar documents based on vector similarity\n",
        "retrieved_docs = vector_store.similarity_search(\"test\", k=3)\n",
        "\n",
        "# Print retrieved document IDs and a preview of their content\n",
        "print(\" Vérification des IDs des documents récupérés :\")\n",
        "for i, doc in enumerate(retrieved_docs):\n",
        "    print(f\" - Document {i+1} ID: {doc.metadata.get('doc_id', 'No ID')}\")  # Retrieve document ID (or display 'No ID' if missing)\n",
        "    print(f\" - Content: {doc.page_content[:200]}...\")  # Show the first 200 characters as a preview\n",
        "    print(\"-\" * 50) # Separator for readability\n"
      ],
      "metadata": {
        "colab": {
          "base_uri": "https://localhost:8080/"
        },
        "id": "SUvUGnBFzAw9",
        "outputId": "9c96c546-3273-42b9-e580-6cb1ef4c3a35"
      },
      "execution_count": 99,
      "outputs": [
        {
          "output_type": "stream",
          "name": "stdout",
          "text": [
            " Vérification des IDs des documents récupérés :\n",
            " - Document 1 ID: No ID\n",
            " - Content: 11. Delete file: \"delete_file\", args: \"file\": \"<file>\"\n",
            "12. Search Files: \"search_files\", args: \"directory\": \"<directory>\"\n",
            "13. Analyze Code: \"analyze_code\", args: \"code\": \"<full_code_string>\"\n",
            "14. Get I...\n",
            "--------------------------------------------------\n",
            " - Document 2 ID: No ID\n",
            " - Content: Resources:\n",
            "1. Internet access for searches and information gathering.\n",
            "2. Long Term memory management.\n",
            "3. GPT-3.5 powered Agents for delegation of simple tasks.\n",
            "4. File output.\n",
            "\n",
            "Performance Evaluation:...\n",
            "--------------------------------------------------\n",
            " - Document 3 ID: No ID\n",
            " - Content: They also discussed the risks, especially with illicit drugs and bioweapons. They developed a test set containing a list of known chemical weapon agents and asked the agent to synthesize them. 4 out o...\n",
            "--------------------------------------------------\n"
          ]
        }
      ]
    },
    {
      "cell_type": "markdown",
      "source": [
        "4. LangGraph Pipeline Setup:"
      ],
      "metadata": {
        "id": "Apc6_SNqave3"
      }
    },
    {
      "cell_type": "code",
      "source": [
        "from typing import TypedDict  # Import TypedDict for defining structured dictionaries\n",
        "\n",
        "# Define application state structure as a dictionary with predefined keys\n",
        "class QAState(TypedDict):\n",
        "    question: str  # Stores the user's question\n",
        "    context: str   # Stores the retrieved context from the vector database\n",
        "    answer: str    # Stores the generated answer from the language model\n",
        "\n",
        "print(\" - Application state structure defined.\")  # Confirmation message\n"
      ],
      "metadata": {
        "colab": {
          "base_uri": "https://localhost:8080/"
        },
        "id": "H5MfweZpav90",
        "outputId": "099c44a7-2a03-429e-b000-d0376e697f94"
      },
      "execution_count": 100,
      "outputs": [
        {
          "output_type": "stream",
          "name": "stdout",
          "text": [
            " - Application state structure defined.\n"
          ]
        }
      ]
    },
    {
      "cell_type": "code",
      "source": [
        "def retrieve(state: QAState) -> QAState:\n",
        "    \"\"\"Retrieve relevant document chunks from the FAISS vector store.\"\"\"\n",
        "\n",
        "    # Convert FAISS vector store into a retriever for similarity search\n",
        "    retriever = vector_store.as_retriever(search_kwargs=dict(k=3))  # Retrieve top 3 most similar documents\n",
        "\n",
        "    # Search FAISS and return relevant documents based on semantic similarity\n",
        "    retrieved_docs = retriever.get_relevant_documents(state[\"question\"])\n",
        "\n",
        "    # Combine retrieved document contents into a single string\n",
        "    context = \"\\n\".join([doc.page_content for doc in retrieved_docs])\n",
        "\n",
        "    print(f\"\\n  Retrieved {len(retrieved_docs)} relevant documents.\")  # Display the number of retrieved documents\n",
        "\n",
        "    # Return updated state with retrieved context added\n",
        "    return {**state, \"context\": context}"
      ],
      "metadata": {
        "id": "ROAH8MwEa2sy"
      },
      "execution_count": 101,
      "outputs": []
    },
    {
      "cell_type": "code",
      "source": [
        "# Load a local LLM model (NO API KEY NEEDED)\n",
        "model_name = \"google/flan-t5-small\"  # Small version of Flan-T5 for text generation\n",
        "tokenizer = AutoTokenizer.from_pretrained(model_name)  # Load tokenizer\n",
        "model = AutoModelForSeq2SeqLM.from_pretrained(model_name)  # Load model\n",
        "\n",
        "# Define text generation pipeline\n",
        "generator = pipeline(\"text2text-generation\", model=model, tokenizer=tokenizer)\n",
        "\n",
        "# Wrap the Hugging Face pipeline in LangChain's LLM wrapper\n",
        "llm = HuggingFacePipeline(pipeline=generator)\n",
        "\n",
        "def generate(state: QAState) -> QAState:\n",
        "    \"\"\"Generate an answer using the retrieved context and the LLM.\"\"\"\n",
        "\n",
        "    # Construct a prompt using the retrieved context and the question\n",
        "    prompt = f\"Context:\\n{state['context']}\\n\\nQuestion: {state['question']}\\nAnswer:\"\n",
        "\n",
        "    # Generate an answer using the LLM\n",
        "    answer = llm.invoke(prompt)\n",
        "\n",
        "    return {**state, \"answer\": answer}  # Update the state with the generated answer\n"
      ],
      "metadata": {
        "colab": {
          "base_uri": "https://localhost:8080/"
        },
        "id": "Te1yTgzfa8Qb",
        "outputId": "c6ed138d-1d27-4d17-fad1-19c75c6972da"
      },
      "execution_count": 102,
      "outputs": [
        {
          "output_type": "stream",
          "name": "stderr",
          "text": [
            "Device set to use cpu\n"
          ]
        }
      ]
    },
    {
      "cell_type": "markdown",
      "source": [
        "##  Testing a New Prompt Template\n",
        "\n",
        "This section modifies the **prompt template** used for generating answers.  \n",
        "Instead of using a **simple question-answer format**, we introduce a more **structured prompt** to improve response quality.\n"
      ],
      "metadata": {
        "id": "qAKGGt_9JzmX"
      }
    },
    {
      "cell_type": "code",
      "source": [
        "from langchain import PromptTemplate, LLMChain  # Import LangChain components for prompt customization\n",
        "\n",
        "#  Define a new structured prompt template\n",
        "new_prompt = PromptTemplate(\n",
        "    input_variables=[\"question\", \"context\"],  # Define input placeholders\n",
        "    template=\"\"\"\n",
        "    You are an AI expert in machine learning and databases. Answer the following question using the given context.\n",
        "\n",
        "    **Question:** {question}\n",
        "\n",
        "    **Context:** {context}\n",
        "\n",
        "    Your answer should be **clear, detailed, and include examples** if relevant.\n",
        "    \"\"\"\n",
        ")\n",
        "\n",
        "# Create an LLMChain to combine the prompt with the language model\n",
        "llm_chain = LLMChain(llm=llm, prompt=new_prompt)\n",
        "print(\" **New prompt template applied!**\")  # Confirmation message\n",
        "\n",
        "# Updated 'generate' function to use the new LLMChain prompt\n",
        "def generate(state: QAState) -> QAState:\n",
        "    \"\"\"Generate an answer using the retrieved context and the LLMChain.\"\"\"\n",
        "\n",
        "    # Execute the LLMChain using the updated prompt format\n",
        "    answer = llm_chain.run(question=state['question'], context=state['context'])\n",
        "\n",
        "    # Return updated state with the generated answer\n",
        "    return {**state, \"answer\": answer}\n"
      ],
      "metadata": {
        "colab": {
          "base_uri": "https://localhost:8080/"
        },
        "id": "rwkcB8WjCvOg",
        "outputId": "36960084-6e2f-4842-8cbf-be83ebb339ba"
      },
      "execution_count": 73,
      "outputs": [
        {
          "output_type": "stream",
          "name": "stdout",
          "text": [
            " **New prompt template applied!**\n"
          ]
        },
        {
          "output_type": "stream",
          "name": "stderr",
          "text": [
            "<ipython-input-73-93ed38c13cd4>:18: LangChainDeprecationWarning: The class `LLMChain` was deprecated in LangChain 0.1.17 and will be removed in 1.0. Use :meth:`~RunnableSequence, e.g., `prompt | llm`` instead.\n",
            "  llm_chain = LLMChain(llm=llm, prompt=new_prompt)\n"
          ]
        }
      ]
    },
    {
      "cell_type": "code",
      "source": [
        "import langchain.hub\n",
        "\n",
        "# Load predefined RAG prompt template\n",
        "rag_prompt = langchain.hub.pull(\"rlm/rag-prompt\")\n",
        "\n",
        "print(\" - LangChain RAG prompt template loaded!\")\n"
      ],
      "metadata": {
        "colab": {
          "base_uri": "https://localhost:8080/"
        },
        "id": "shPn37FjbCqy",
        "outputId": "16423d57-bfa9-4e91-ae7f-a277f567c49d"
      },
      "execution_count": 103,
      "outputs": [
        {
          "output_type": "stream",
          "name": "stderr",
          "text": [
            "/usr/local/lib/python3.11/dist-packages/langsmith/client.py:253: LangSmithMissingAPIKeyWarning: API key must be provided when using hosted LangSmith API\n",
            "  warnings.warn(\n"
          ]
        },
        {
          "output_type": "stream",
          "name": "stdout",
          "text": [
            " - LangChain RAG prompt template loaded!\n"
          ]
        }
      ]
    },
    {
      "cell_type": "code",
      "source": [
        "!pip install langgraph"
      ],
      "metadata": {
        "colab": {
          "base_uri": "https://localhost:8080/"
        },
        "id": "-v8vVYUu0GQM",
        "outputId": "74f1b6a1-5193-420e-c970-604a8a8c9c8d"
      },
      "execution_count": 29,
      "outputs": [
        {
          "output_type": "stream",
          "name": "stdout",
          "text": [
            "Collecting langgraph\n",
            "  Downloading langgraph-0.3.10-py3-none-any.whl.metadata (7.5 kB)\n",
            "Requirement already satisfied: langchain-core<0.4,>=0.1 in /usr/local/lib/python3.11/dist-packages (from langgraph) (0.3.43)\n",
            "Collecting langgraph-checkpoint<3.0.0,>=2.0.10 (from langgraph)\n",
            "  Downloading langgraph_checkpoint-2.0.19-py3-none-any.whl.metadata (4.6 kB)\n",
            "Collecting langgraph-prebuilt<0.2,>=0.1.1 (from langgraph)\n",
            "  Downloading langgraph_prebuilt-0.1.3-py3-none-any.whl.metadata (5.0 kB)\n",
            "Collecting langgraph-sdk<0.2.0,>=0.1.42 (from langgraph)\n",
            "  Downloading langgraph_sdk-0.1.57-py3-none-any.whl.metadata (1.8 kB)\n",
            "Requirement already satisfied: langsmith<0.4,>=0.1.125 in /usr/local/lib/python3.11/dist-packages (from langchain-core<0.4,>=0.1->langgraph) (0.3.13)\n",
            "Requirement already satisfied: tenacity!=8.4.0,<10.0.0,>=8.1.0 in /usr/local/lib/python3.11/dist-packages (from langchain-core<0.4,>=0.1->langgraph) (9.0.0)\n",
            "Requirement already satisfied: jsonpatch<2.0,>=1.33 in /usr/local/lib/python3.11/dist-packages (from langchain-core<0.4,>=0.1->langgraph) (1.33)\n",
            "Requirement already satisfied: PyYAML>=5.3 in /usr/local/lib/python3.11/dist-packages (from langchain-core<0.4,>=0.1->langgraph) (6.0.2)\n",
            "Requirement already satisfied: packaging<25,>=23.2 in /usr/local/lib/python3.11/dist-packages (from langchain-core<0.4,>=0.1->langgraph) (24.2)\n",
            "Requirement already satisfied: typing-extensions>=4.7 in /usr/local/lib/python3.11/dist-packages (from langchain-core<0.4,>=0.1->langgraph) (4.12.2)\n",
            "Requirement already satisfied: pydantic<3.0.0,>=2.5.2 in /usr/local/lib/python3.11/dist-packages (from langchain-core<0.4,>=0.1->langgraph) (2.10.6)\n",
            "Requirement already satisfied: msgpack<2.0.0,>=1.1.0 in /usr/local/lib/python3.11/dist-packages (from langgraph-checkpoint<3.0.0,>=2.0.10->langgraph) (1.1.0)\n",
            "Requirement already satisfied: httpx>=0.25.2 in /usr/local/lib/python3.11/dist-packages (from langgraph-sdk<0.2.0,>=0.1.42->langgraph) (0.28.1)\n",
            "Requirement already satisfied: orjson>=3.10.1 in /usr/local/lib/python3.11/dist-packages (from langgraph-sdk<0.2.0,>=0.1.42->langgraph) (3.10.15)\n",
            "Requirement already satisfied: anyio in /usr/local/lib/python3.11/dist-packages (from httpx>=0.25.2->langgraph-sdk<0.2.0,>=0.1.42->langgraph) (3.7.1)\n",
            "Requirement already satisfied: certifi in /usr/local/lib/python3.11/dist-packages (from httpx>=0.25.2->langgraph-sdk<0.2.0,>=0.1.42->langgraph) (2025.1.31)\n",
            "Requirement already satisfied: httpcore==1.* in /usr/local/lib/python3.11/dist-packages (from httpx>=0.25.2->langgraph-sdk<0.2.0,>=0.1.42->langgraph) (1.0.7)\n",
            "Requirement already satisfied: idna in /usr/local/lib/python3.11/dist-packages (from httpx>=0.25.2->langgraph-sdk<0.2.0,>=0.1.42->langgraph) (3.10)\n",
            "Requirement already satisfied: h11<0.15,>=0.13 in /usr/local/lib/python3.11/dist-packages (from httpcore==1.*->httpx>=0.25.2->langgraph-sdk<0.2.0,>=0.1.42->langgraph) (0.14.0)\n",
            "Requirement already satisfied: jsonpointer>=1.9 in /usr/local/lib/python3.11/dist-packages (from jsonpatch<2.0,>=1.33->langchain-core<0.4,>=0.1->langgraph) (3.0.0)\n",
            "Requirement already satisfied: requests<3,>=2 in /usr/local/lib/python3.11/dist-packages (from langsmith<0.4,>=0.1.125->langchain-core<0.4,>=0.1->langgraph) (2.32.3)\n",
            "Requirement already satisfied: requests-toolbelt<2.0.0,>=1.0.0 in /usr/local/lib/python3.11/dist-packages (from langsmith<0.4,>=0.1.125->langchain-core<0.4,>=0.1->langgraph) (1.0.0)\n",
            "Requirement already satisfied: zstandard<0.24.0,>=0.23.0 in /usr/local/lib/python3.11/dist-packages (from langsmith<0.4,>=0.1.125->langchain-core<0.4,>=0.1->langgraph) (0.23.0)\n",
            "Requirement already satisfied: annotated-types>=0.6.0 in /usr/local/lib/python3.11/dist-packages (from pydantic<3.0.0,>=2.5.2->langchain-core<0.4,>=0.1->langgraph) (0.7.0)\n",
            "Requirement already satisfied: pydantic-core==2.27.2 in /usr/local/lib/python3.11/dist-packages (from pydantic<3.0.0,>=2.5.2->langchain-core<0.4,>=0.1->langgraph) (2.27.2)\n",
            "Requirement already satisfied: charset-normalizer<4,>=2 in /usr/local/lib/python3.11/dist-packages (from requests<3,>=2->langsmith<0.4,>=0.1.125->langchain-core<0.4,>=0.1->langgraph) (3.4.1)\n",
            "Requirement already satisfied: urllib3<3,>=1.21.1 in /usr/local/lib/python3.11/dist-packages (from requests<3,>=2->langsmith<0.4,>=0.1.125->langchain-core<0.4,>=0.1->langgraph) (2.3.0)\n",
            "Requirement already satisfied: sniffio>=1.1 in /usr/local/lib/python3.11/dist-packages (from anyio->httpx>=0.25.2->langgraph-sdk<0.2.0,>=0.1.42->langgraph) (1.3.1)\n",
            "Downloading langgraph-0.3.10-py3-none-any.whl (132 kB)\n",
            "\u001b[2K   \u001b[90m━━━━━━━━━━━━━━━━━━━━━━━━━━━━━━━━━━━━━━━━\u001b[0m \u001b[32m132.5/132.5 kB\u001b[0m \u001b[31m3.0 MB/s\u001b[0m eta \u001b[36m0:00:00\u001b[0m\n",
            "\u001b[?25hDownloading langgraph_checkpoint-2.0.19-py3-none-any.whl (39 kB)\n",
            "Downloading langgraph_prebuilt-0.1.3-py3-none-any.whl (24 kB)\n",
            "Downloading langgraph_sdk-0.1.57-py3-none-any.whl (46 kB)\n",
            "\u001b[2K   \u001b[90m━━━━━━━━━━━━━━━━━━━━━━━━━━━━━━━━━━━━━━━━\u001b[0m \u001b[32m46.0/46.0 kB\u001b[0m \u001b[31m2.7 MB/s\u001b[0m eta \u001b[36m0:00:00\u001b[0m\n",
            "\u001b[?25hInstalling collected packages: langgraph-sdk, langgraph-checkpoint, langgraph-prebuilt, langgraph\n",
            "Successfully installed langgraph-0.3.10 langgraph-checkpoint-2.0.19 langgraph-prebuilt-0.1.3 langgraph-sdk-0.1.57\n"
          ]
        }
      ]
    },
    {
      "cell_type": "code",
      "source": [
        "!pip install --upgrade langgraph"
      ],
      "metadata": {
        "colab": {
          "base_uri": "https://localhost:8080/"
        },
        "id": "LVbfW7qW0WV1",
        "outputId": "6c405db2-ec28-468e-cab7-07e1e5b1b5e2"
      },
      "execution_count": 31,
      "outputs": [
        {
          "output_type": "stream",
          "name": "stdout",
          "text": [
            "Requirement already satisfied: langgraph in /usr/local/lib/python3.11/dist-packages (0.3.10)\n",
            "Requirement already satisfied: langchain-core<0.4,>=0.1 in /usr/local/lib/python3.11/dist-packages (from langgraph) (0.3.43)\n",
            "Requirement already satisfied: langgraph-checkpoint<3.0.0,>=2.0.10 in /usr/local/lib/python3.11/dist-packages (from langgraph) (2.0.19)\n",
            "Requirement already satisfied: langgraph-prebuilt<0.2,>=0.1.1 in /usr/local/lib/python3.11/dist-packages (from langgraph) (0.1.3)\n",
            "Requirement already satisfied: langgraph-sdk<0.2.0,>=0.1.42 in /usr/local/lib/python3.11/dist-packages (from langgraph) (0.1.57)\n",
            "Requirement already satisfied: langsmith<0.4,>=0.1.125 in /usr/local/lib/python3.11/dist-packages (from langchain-core<0.4,>=0.1->langgraph) (0.3.13)\n",
            "Requirement already satisfied: tenacity!=8.4.0,<10.0.0,>=8.1.0 in /usr/local/lib/python3.11/dist-packages (from langchain-core<0.4,>=0.1->langgraph) (9.0.0)\n",
            "Requirement already satisfied: jsonpatch<2.0,>=1.33 in /usr/local/lib/python3.11/dist-packages (from langchain-core<0.4,>=0.1->langgraph) (1.33)\n",
            "Requirement already satisfied: PyYAML>=5.3 in /usr/local/lib/python3.11/dist-packages (from langchain-core<0.4,>=0.1->langgraph) (6.0.2)\n",
            "Requirement already satisfied: packaging<25,>=23.2 in /usr/local/lib/python3.11/dist-packages (from langchain-core<0.4,>=0.1->langgraph) (24.2)\n",
            "Requirement already satisfied: typing-extensions>=4.7 in /usr/local/lib/python3.11/dist-packages (from langchain-core<0.4,>=0.1->langgraph) (4.12.2)\n",
            "Requirement already satisfied: pydantic<3.0.0,>=2.5.2 in /usr/local/lib/python3.11/dist-packages (from langchain-core<0.4,>=0.1->langgraph) (2.10.6)\n",
            "Requirement already satisfied: msgpack<2.0.0,>=1.1.0 in /usr/local/lib/python3.11/dist-packages (from langgraph-checkpoint<3.0.0,>=2.0.10->langgraph) (1.1.0)\n",
            "Requirement already satisfied: httpx>=0.25.2 in /usr/local/lib/python3.11/dist-packages (from langgraph-sdk<0.2.0,>=0.1.42->langgraph) (0.28.1)\n",
            "Requirement already satisfied: orjson>=3.10.1 in /usr/local/lib/python3.11/dist-packages (from langgraph-sdk<0.2.0,>=0.1.42->langgraph) (3.10.15)\n",
            "Requirement already satisfied: anyio in /usr/local/lib/python3.11/dist-packages (from httpx>=0.25.2->langgraph-sdk<0.2.0,>=0.1.42->langgraph) (3.7.1)\n",
            "Requirement already satisfied: certifi in /usr/local/lib/python3.11/dist-packages (from httpx>=0.25.2->langgraph-sdk<0.2.0,>=0.1.42->langgraph) (2025.1.31)\n",
            "Requirement already satisfied: httpcore==1.* in /usr/local/lib/python3.11/dist-packages (from httpx>=0.25.2->langgraph-sdk<0.2.0,>=0.1.42->langgraph) (1.0.7)\n",
            "Requirement already satisfied: idna in /usr/local/lib/python3.11/dist-packages (from httpx>=0.25.2->langgraph-sdk<0.2.0,>=0.1.42->langgraph) (3.10)\n",
            "Requirement already satisfied: h11<0.15,>=0.13 in /usr/local/lib/python3.11/dist-packages (from httpcore==1.*->httpx>=0.25.2->langgraph-sdk<0.2.0,>=0.1.42->langgraph) (0.14.0)\n",
            "Requirement already satisfied: jsonpointer>=1.9 in /usr/local/lib/python3.11/dist-packages (from jsonpatch<2.0,>=1.33->langchain-core<0.4,>=0.1->langgraph) (3.0.0)\n",
            "Requirement already satisfied: requests<3,>=2 in /usr/local/lib/python3.11/dist-packages (from langsmith<0.4,>=0.1.125->langchain-core<0.4,>=0.1->langgraph) (2.32.3)\n",
            "Requirement already satisfied: requests-toolbelt<2.0.0,>=1.0.0 in /usr/local/lib/python3.11/dist-packages (from langsmith<0.4,>=0.1.125->langchain-core<0.4,>=0.1->langgraph) (1.0.0)\n",
            "Requirement already satisfied: zstandard<0.24.0,>=0.23.0 in /usr/local/lib/python3.11/dist-packages (from langsmith<0.4,>=0.1.125->langchain-core<0.4,>=0.1->langgraph) (0.23.0)\n",
            "Requirement already satisfied: annotated-types>=0.6.0 in /usr/local/lib/python3.11/dist-packages (from pydantic<3.0.0,>=2.5.2->langchain-core<0.4,>=0.1->langgraph) (0.7.0)\n",
            "Requirement already satisfied: pydantic-core==2.27.2 in /usr/local/lib/python3.11/dist-packages (from pydantic<3.0.0,>=2.5.2->langchain-core<0.4,>=0.1->langgraph) (2.27.2)\n",
            "Requirement already satisfied: charset-normalizer<4,>=2 in /usr/local/lib/python3.11/dist-packages (from requests<3,>=2->langsmith<0.4,>=0.1.125->langchain-core<0.4,>=0.1->langgraph) (3.4.1)\n",
            "Requirement already satisfied: urllib3<3,>=1.21.1 in /usr/local/lib/python3.11/dist-packages (from requests<3,>=2->langsmith<0.4,>=0.1.125->langchain-core<0.4,>=0.1->langgraph) (2.3.0)\n",
            "Requirement already satisfied: sniffio>=1.1 in /usr/local/lib/python3.11/dist-packages (from anyio->httpx>=0.25.2->langgraph-sdk<0.2.0,>=0.1.42->langgraph) (1.3.1)\n"
          ]
        }
      ]
    },
    {
      "cell_type": "code",
      "source": [
        "!pip install --upgrade langgraph"
      ],
      "metadata": {
        "colab": {
          "base_uri": "https://localhost:8080/"
        },
        "id": "rw-vhMk61NtC",
        "outputId": "62776db4-66d0-4a07-efee-ed1ef69aad9b"
      },
      "execution_count": 35,
      "outputs": [
        {
          "output_type": "stream",
          "name": "stdout",
          "text": [
            "Requirement already satisfied: langgraph in /usr/local/lib/python3.11/dist-packages (0.3.10)\n",
            "Requirement already satisfied: langchain-core<0.4,>=0.1 in /usr/local/lib/python3.11/dist-packages (from langgraph) (0.3.43)\n",
            "Requirement already satisfied: langgraph-checkpoint<3.0.0,>=2.0.10 in /usr/local/lib/python3.11/dist-packages (from langgraph) (2.0.19)\n",
            "Requirement already satisfied: langgraph-prebuilt<0.2,>=0.1.1 in /usr/local/lib/python3.11/dist-packages (from langgraph) (0.1.3)\n",
            "Requirement already satisfied: langgraph-sdk<0.2.0,>=0.1.42 in /usr/local/lib/python3.11/dist-packages (from langgraph) (0.1.57)\n",
            "Requirement already satisfied: langsmith<0.4,>=0.1.125 in /usr/local/lib/python3.11/dist-packages (from langchain-core<0.4,>=0.1->langgraph) (0.3.13)\n",
            "Requirement already satisfied: tenacity!=8.4.0,<10.0.0,>=8.1.0 in /usr/local/lib/python3.11/dist-packages (from langchain-core<0.4,>=0.1->langgraph) (9.0.0)\n",
            "Requirement already satisfied: jsonpatch<2.0,>=1.33 in /usr/local/lib/python3.11/dist-packages (from langchain-core<0.4,>=0.1->langgraph) (1.33)\n",
            "Requirement already satisfied: PyYAML>=5.3 in /usr/local/lib/python3.11/dist-packages (from langchain-core<0.4,>=0.1->langgraph) (6.0.2)\n",
            "Requirement already satisfied: packaging<25,>=23.2 in /usr/local/lib/python3.11/dist-packages (from langchain-core<0.4,>=0.1->langgraph) (24.2)\n",
            "Requirement already satisfied: typing-extensions>=4.7 in /usr/local/lib/python3.11/dist-packages (from langchain-core<0.4,>=0.1->langgraph) (4.12.2)\n",
            "Requirement already satisfied: pydantic<3.0.0,>=2.5.2 in /usr/local/lib/python3.11/dist-packages (from langchain-core<0.4,>=0.1->langgraph) (2.10.6)\n",
            "Requirement already satisfied: msgpack<2.0.0,>=1.1.0 in /usr/local/lib/python3.11/dist-packages (from langgraph-checkpoint<3.0.0,>=2.0.10->langgraph) (1.1.0)\n",
            "Requirement already satisfied: httpx>=0.25.2 in /usr/local/lib/python3.11/dist-packages (from langgraph-sdk<0.2.0,>=0.1.42->langgraph) (0.28.1)\n",
            "Requirement already satisfied: orjson>=3.10.1 in /usr/local/lib/python3.11/dist-packages (from langgraph-sdk<0.2.0,>=0.1.42->langgraph) (3.10.15)\n",
            "Requirement already satisfied: anyio in /usr/local/lib/python3.11/dist-packages (from httpx>=0.25.2->langgraph-sdk<0.2.0,>=0.1.42->langgraph) (3.7.1)\n",
            "Requirement already satisfied: certifi in /usr/local/lib/python3.11/dist-packages (from httpx>=0.25.2->langgraph-sdk<0.2.0,>=0.1.42->langgraph) (2025.1.31)\n",
            "Requirement already satisfied: httpcore==1.* in /usr/local/lib/python3.11/dist-packages (from httpx>=0.25.2->langgraph-sdk<0.2.0,>=0.1.42->langgraph) (1.0.7)\n",
            "Requirement already satisfied: idna in /usr/local/lib/python3.11/dist-packages (from httpx>=0.25.2->langgraph-sdk<0.2.0,>=0.1.42->langgraph) (3.10)\n",
            "Requirement already satisfied: h11<0.15,>=0.13 in /usr/local/lib/python3.11/dist-packages (from httpcore==1.*->httpx>=0.25.2->langgraph-sdk<0.2.0,>=0.1.42->langgraph) (0.14.0)\n",
            "Requirement already satisfied: jsonpointer>=1.9 in /usr/local/lib/python3.11/dist-packages (from jsonpatch<2.0,>=1.33->langchain-core<0.4,>=0.1->langgraph) (3.0.0)\n",
            "Requirement already satisfied: requests<3,>=2 in /usr/local/lib/python3.11/dist-packages (from langsmith<0.4,>=0.1.125->langchain-core<0.4,>=0.1->langgraph) (2.32.3)\n",
            "Requirement already satisfied: requests-toolbelt<2.0.0,>=1.0.0 in /usr/local/lib/python3.11/dist-packages (from langsmith<0.4,>=0.1.125->langchain-core<0.4,>=0.1->langgraph) (1.0.0)\n",
            "Requirement already satisfied: zstandard<0.24.0,>=0.23.0 in /usr/local/lib/python3.11/dist-packages (from langsmith<0.4,>=0.1.125->langchain-core<0.4,>=0.1->langgraph) (0.23.0)\n",
            "Requirement already satisfied: annotated-types>=0.6.0 in /usr/local/lib/python3.11/dist-packages (from pydantic<3.0.0,>=2.5.2->langchain-core<0.4,>=0.1->langgraph) (0.7.0)\n",
            "Requirement already satisfied: pydantic-core==2.27.2 in /usr/local/lib/python3.11/dist-packages (from pydantic<3.0.0,>=2.5.2->langchain-core<0.4,>=0.1->langgraph) (2.27.2)\n",
            "Requirement already satisfied: charset-normalizer<4,>=2 in /usr/local/lib/python3.11/dist-packages (from requests<3,>=2->langsmith<0.4,>=0.1.125->langchain-core<0.4,>=0.1->langgraph) (3.4.1)\n",
            "Requirement already satisfied: urllib3<3,>=1.21.1 in /usr/local/lib/python3.11/dist-packages (from requests<3,>=2->langsmith<0.4,>=0.1.125->langchain-core<0.4,>=0.1->langgraph) (2.3.0)\n",
            "Requirement already satisfied: sniffio>=1.1 in /usr/local/lib/python3.11/dist-packages (from anyio->httpx>=0.25.2->langgraph-sdk<0.2.0,>=0.1.42->langgraph) (1.3.1)\n"
          ]
        }
      ]
    },
    {
      "cell_type": "code",
      "source": [
        "from langgraph.graph import StateGraph  # Import LangGraph for workflow management\n",
        "\n",
        "# Define the graph structure\n",
        "graph = StateGraph(QAState)  # Create a stateful graph using the QAState structure\n",
        "\n",
        "# Add processing nodes to the graph\n",
        "graph.add_node(\"retrieve\", retrieve)  # Node for retrieving relevant documents\n",
        "graph.add_node(\"generate\", generate)  # Node for generating answers\n",
        "\n",
        "# Define execution order\n",
        "graph.set_entry_point(\"retrieve\")  # Start execution at the retrieve step\n",
        "graph.add_edge(\"retrieve\", \"generate\")  # Connect retrieval → generation\n",
        "graph.set_finish_point(\"generate\")  # Mark generation as the final step\n",
        "\n",
        "# Compile the workflow\n",
        "app = graph.compile()  # Convert the defined structure into an executable pipeline\n",
        "\n",
        "#  Visualize the LangGraph pipeline\n",
        "from IPython.display import Image, display  # Import display tools for visualization\n",
        "png = app.get_graph().draw_mermaid_png()  # Generate a diagram of the workflow\n",
        "\n",
        "# Display the workflow graph\n",
        "display(Image(png))\n"
      ],
      "metadata": {
        "colab": {
          "base_uri": "https://localhost:8080/",
          "height": 350
        },
        "id": "bRYZ9oPqbH6Y",
        "outputId": "63d80644-56cd-49f9-9336-b76a1c5a03f8"
      },
      "execution_count": 106,
      "outputs": [
        {
          "output_type": "display_data",
          "data": {
            "image/png": "[encoded data removed]",
            "text/plain": [
              "<IPython.core.display.Image object>"
            ]
          },
          "metadata": {}
        }
      ]
    },
    {
      "cell_type": "markdown",
      "source": [
        "#### 5. Pipeline Execution\n",
        "\n",
        "  * Use graph.invoke to execute the pipeline with a sample question.\n",
        "  * Print the retrieved context and generated answer.\n",
        "\n"
      ],
      "metadata": {
        "id": "_sXbW5hN2wEP"
      }
    },
    {
      "cell_type": "code",
      "source": [
        "# Define a sample question for testing the pipeline\n",
        "sample_question = \"How do embedding databases work ?\"\n",
        "\n",
        "# Execute the pipeline with the user query\n",
        "result = app.invoke({\"question\": sample_question})  # Pass the question to LangGraph for processing\n",
        "\n",
        "# Print the retrieved context (FAISS results)\n",
        "print(\" **Retrieved Context:**\")\n",
        "print(result[\"context\"])  # Display the most relevant document chunks\n",
        "\n",
        "# Print the generated answer (LLM output)\n",
        "print(\"\\n **Generated Answer:**\")\n",
        "print(result[\"answer\"])  # Display the AI-generated response\n"
      ],
      "metadata": {
        "colab": {
          "base_uri": "https://localhost:8080/"
        },
        "id": "iyXOPUCwbQMa",
        "outputId": "bb0fe003-b6c6-4330-c1b5-e7e86b778dc7"
      },
      "execution_count": 107,
      "outputs": [
        {
          "output_type": "stream",
          "name": "stdout",
          "text": [
            "\n",
            "  Retrieved 3 relevant documents.\n",
            " **Retrieved Context:**\n",
            "LSH (Locality-Sensitive Hashing): It introduces a hashing function such that similar input items are mapped to the same buckets with high probability, where the number of buckets is much smaller than the number of inputs.\n",
            "ANNOY (Approximate Nearest Neighbors Oh Yeah): The core data structure are random projection trees, a set of binary trees where each non-leaf node represents a hyperplane splitting the input space into half and each leaf stores one data point. Trees are built independently and at random, so to some extent, it mimics a hashing function. ANNOY search happens in all the trees to iteratively search through the half that is closest to the query and then aggregates the results. The idea is quite related to KD tree but a lot more scalable.\n",
            "Fig. 8. Categorization of human memory.\n",
            "We can roughly consider the following mappings:\n",
            "\n",
            "Sensory memory as learning embedding representations for raw inputs, including text, image or other modalities;\n",
            "Short-term memory as in-context learning. It is short and finite, as it is restricted by the finite context window length of Transformer.\n",
            "Long-term memory as the external vector store that the agent can attend to at query time, accessible via fast retrieval.\n",
            "Maximum Inner Product Search (MIPS)#\n",
            "The external memory can alleviate the restriction of finite attention span.  A standard practice is to save the embedding representation of information into a vector store database that can support fast maximum inner-product search (MIPS). To optimize the retrieval speed, the common choice is the approximate nearest neighbors (ANN)​ algorithm to return approximately top k nearest neighbors to trade off a little accuracy lost for a huge speedup.\n",
            "A couple common choices of ANN algorithms for fast MIPS:\n",
            "\n",
            " **Generated Answer:**\n",
            "It is short and finite, as it is restricted by the finite context window length of Transformer\n"
          ]
        }
      ]
    },
    {
      "cell_type": "markdown",
      "source": [
        "  * Use graph.stream with stream_mode=\"updates\" to stream the pipeline steps.\n",
        "  * Use graph.stream with stream_mode=\"messages\" to stream the model responses."
      ],
      "metadata": {
        "id": "nUwqEAg1OO1d"
      }
    },
    {
      "cell_type": "code",
      "source": [
        "# Monitor the pipeline execution in real time\n",
        "print(\" **Streaming pipeline execution (step-by-step updates)**\")\n",
        "\n",
        "# Stream execution steps using LangGraph's `stream` method\n",
        "for event in app.stream({\"question\": sample_question}, stream_mode=\"updates\"):\n",
        "    print(event)  # Print each update as it occurs\n"
      ],
      "metadata": {
        "colab": {
          "base_uri": "https://localhost:8080/"
        },
        "id": "YqjICTHo3ZIF",
        "outputId": "9f379d43-9f7b-4ee4-8976-9c60f3f00184"
      },
      "execution_count": 108,
      "outputs": [
        {
          "output_type": "stream",
          "name": "stdout",
          "text": [
            " **Streaming pipeline execution (step-by-step updates)**\n",
            "\n",
            "  Retrieved 3 relevant documents.\n",
            "{'retrieve': {'question': 'How do embedding databases work ?', 'context': 'LSH (Locality-Sensitive Hashing): It introduces a hashing function such that similar input items are mapped to the same buckets with high probability, where the number of buckets is much smaller than the number of inputs.\\nANNOY (Approximate Nearest Neighbors Oh Yeah): The core data structure are random projection trees, a set of binary trees where each non-leaf node represents a hyperplane splitting the input space into half and each leaf stores one data point. Trees are built independently and at random, so to some extent, it mimics a hashing function. ANNOY search happens in all the trees to iteratively search through the half that is closest to the query and then aggregates the results. The idea is quite related to KD tree but a lot more scalable.\\nFig. 8. Categorization of human memory.\\nWe can roughly consider the following mappings:\\n\\nSensory memory as learning embedding representations for raw inputs, including text, image or other modalities;\\nShort-term memory as in-context learning. It is short and finite, as it is restricted by the finite context window length of Transformer.\\nLong-term memory as the external vector store that the agent can attend to at query time, accessible via fast retrieval.\\nMaximum Inner Product Search (MIPS)#\\nThe external memory can alleviate the restriction of finite attention span.  A standard practice is to save the embedding representation of information into a vector store database that can support fast maximum inner-product search (MIPS). To optimize the retrieval speed, the common choice is the approximate nearest neighbors (ANN)\\u200b algorithm to return approximately top k nearest neighbors to trade off a little accuracy lost for a huge speedup.\\nA couple common choices of ANN algorithms for fast MIPS:'}}\n",
            "{'generate': {'question': 'How do embedding databases work ?', 'context': 'LSH (Locality-Sensitive Hashing): It introduces a hashing function such that similar input items are mapped to the same buckets with high probability, where the number of buckets is much smaller than the number of inputs.\\nANNOY (Approximate Nearest Neighbors Oh Yeah): The core data structure are random projection trees, a set of binary trees where each non-leaf node represents a hyperplane splitting the input space into half and each leaf stores one data point. Trees are built independently and at random, so to some extent, it mimics a hashing function. ANNOY search happens in all the trees to iteratively search through the half that is closest to the query and then aggregates the results. The idea is quite related to KD tree but a lot more scalable.\\nFig. 8. Categorization of human memory.\\nWe can roughly consider the following mappings:\\n\\nSensory memory as learning embedding representations for raw inputs, including text, image or other modalities;\\nShort-term memory as in-context learning. It is short and finite, as it is restricted by the finite context window length of Transformer.\\nLong-term memory as the external vector store that the agent can attend to at query time, accessible via fast retrieval.\\nMaximum Inner Product Search (MIPS)#\\nThe external memory can alleviate the restriction of finite attention span.  A standard practice is to save the embedding representation of information into a vector store database that can support fast maximum inner-product search (MIPS). To optimize the retrieval speed, the common choice is the approximate nearest neighbors (ANN)\\u200b algorithm to return approximately top k nearest neighbors to trade off a little accuracy lost for a huge speedup.\\nA couple common choices of ANN algorithms for fast MIPS:', 'answer': 'It is short and finite, as it is restricted by the finite context window length of Transformer'}}\n"
          ]
        }
      ]
    },
    {
      "cell_type": "markdown",
      "source": [
        "Test Async invocations."
      ],
      "metadata": {
        "id": "3qIkuuE0Ovpz"
      }
    },
    {
      "cell_type": "code",
      "source": [
        "import asyncio  # Import async library for non-blocking execution\n",
        "\n",
        "async def async_execution():\n",
        "    \"\"\"Execute the RAG pipeline asynchronously.\"\"\"\n",
        "\n",
        "    sample_question = \"How do embedding databases work ?\"  # Define a test query\n",
        "\n",
        "    # Run the pipeline in async mode using 'ainvoke'\n",
        "    result = await app.ainvoke({\"question\": sample_question})\n",
        "\n",
        "    #  Print the retrieved documents\n",
        "    print(\"\\n  **Async Retrieved Context:**\")\n",
        "    print(result[\"context\"])  # Display retrieved document chunks\n",
        "\n",
        "    #  Print the generated answer\n",
        "    print(\"\\n **Async Generated Answer:**\")\n",
        "    print(result[\"answer\"])  # Display the AI-generated response\n",
        "\n",
        "#  Run the Async Execution\n",
        "await async_execution()  # Launch the async process\n"
      ],
      "metadata": {
        "colab": {
          "base_uri": "https://localhost:8080/"
        },
        "id": "Hpl6iujcBQ8O",
        "outputId": "7ba53dd7-7f19-442c-bfb3-7a56d027a6d9"
      },
      "execution_count": 109,
      "outputs": [
        {
          "output_type": "stream",
          "name": "stdout",
          "text": [
            "\n",
            "  Retrieved 3 relevant documents.\n",
            "\n",
            "  **Async Retrieved Context:**\n",
            "LSH (Locality-Sensitive Hashing): It introduces a hashing function such that similar input items are mapped to the same buckets with high probability, where the number of buckets is much smaller than the number of inputs.\n",
            "ANNOY (Approximate Nearest Neighbors Oh Yeah): The core data structure are random projection trees, a set of binary trees where each non-leaf node represents a hyperplane splitting the input space into half and each leaf stores one data point. Trees are built independently and at random, so to some extent, it mimics a hashing function. ANNOY search happens in all the trees to iteratively search through the half that is closest to the query and then aggregates the results. The idea is quite related to KD tree but a lot more scalable.\n",
            "Fig. 8. Categorization of human memory.\n",
            "We can roughly consider the following mappings:\n",
            "\n",
            "Sensory memory as learning embedding representations for raw inputs, including text, image or other modalities;\n",
            "Short-term memory as in-context learning. It is short and finite, as it is restricted by the finite context window length of Transformer.\n",
            "Long-term memory as the external vector store that the agent can attend to at query time, accessible via fast retrieval.\n",
            "Maximum Inner Product Search (MIPS)#\n",
            "The external memory can alleviate the restriction of finite attention span.  A standard practice is to save the embedding representation of information into a vector store database that can support fast maximum inner-product search (MIPS). To optimize the retrieval speed, the common choice is the approximate nearest neighbors (ANN)​ algorithm to return approximately top k nearest neighbors to trade off a little accuracy lost for a huge speedup.\n",
            "A couple common choices of ANN algorithms for fast MIPS:\n",
            "\n",
            " **Async Generated Answer:**\n",
            "It is short and finite, as it is restricted by the finite context window length of Transformer\n"
          ]
        }
      ]
    },
    {
      "cell_type": "markdown",
      "source": [
        "6. #### Evaluation and Experimentation:\n",
        "\n",
        "  * Experiment with different questions and observe the retrieved context and generated answers.\n",
        "  * Adjust the chunk_size and chunk_overlap parameters to see how they affect retrieval.\n",
        "  * Adjust the prompt template.\n"
      ],
      "metadata": {
        "id": "m3F1mi4zBgSN"
      }
    },
    {
      "cell_type": "code",
      "source": [
        "test_questions = [\n",
        "    \"What is vector search?\",\n",
        "    \"How does FAISS work?\",\n",
        "    \"What are the advantages of Pinecone over FAISS?\",\n",
        "    \"How do embedding databases handle large datasets?\",\n",
        "    \"What is Approximate Nearest Neighbors (ANN) in retrieval systems?\"\n",
        "]\n",
        "\n",
        "# Teste each question\n",
        "for question in test_questions:\n",
        "    print(f\"\\n **Testing question:** {question}\")\n",
        "    result = app.invoke({\"question\": question})\n",
        "    print(\"\\n **Retrieved Context:**\")\n",
        "    print(result[\"context\"][:500])\n",
        "    print(\"\\n **Generated Answer:**\")\n",
        "    print(result[\"answer\"])\n",
        "    print(\"-\" * 80)\n"
      ],
      "metadata": {
        "colab": {
          "base_uri": "https://localhost:8080/"
        },
        "id": "pMsoc_fYBqq_",
        "outputId": "787e998c-c491-4b01-fd54-e8c032294c53"
      },
      "execution_count": 78,
      "outputs": [
        {
          "output_type": "stream",
          "name": "stdout",
          "text": [
            "\n",
            " **Testing question:** What is vector search?\n",
            "\n",
            " Retrieved 3 relevant documents.\n",
            "\n",
            " **Retrieved Context:**\n",
            "Maximum Inner Product Search (MIPS)#\n",
            "The external memory can alleviate the restriction of finite attention span.  A standard practice is to save the embedding representation of information into a vector store database that can support fast maximum inner-product search (MIPS). To optimize the retrieval speed, the common choice is the approximate nearest neighbors (ANN)​ algorithm to return approximately top k nearest neighbors to trade off a little accuracy lost for a huge speedup.\n",
            "A couple commo\n",
            "\n",
            " **Generated Answer:**\n",
            "ANNOY\n",
            "--------------------------------------------------------------------------------\n",
            "\n",
            " **Testing question:** How does FAISS work?\n",
            "\n",
            " Retrieved 3 relevant documents.\n",
            "\n",
            " **Retrieved Context:**\n",
            "FAISS (Facebook AI Similarity Search): It operates on the assumption that in high dimensional space, distances between nodes follow a Gaussian distribution and thus there should exist clustering of data points. FAISS applies vector quantization by partitioning the vector space into clusters and then refining the quantization within clusters. Search first looks for cluster candidates with coarse quantization and then further looks into each cluster with finer quantization.\n",
            "ScaNN (Scalable Nearest\n",
            "\n",
            " **Generated Answer:**\n",
            "FAISS (Facebook AI Similarity Search): It operates on the assumption that in high\n",
            "--------------------------------------------------------------------------------\n",
            "\n",
            " **Testing question:** What are the advantages of Pinecone over FAISS?\n",
            "\n",
            " Retrieved 3 relevant documents.\n",
            "\n",
            " **Retrieved Context:**\n",
            "FAISS (Facebook AI Similarity Search): It operates on the assumption that in high dimensional space, distances between nodes follow a Gaussian distribution and thus there should exist clustering of data points. FAISS applies vector quantization by partitioning the vector space into clusters and then refining the quantization within clusters. Search first looks for cluster candidates with coarse quantization and then further looks into each cluster with finer quantization.\n",
            "ScaNN (Scalable Nearest\n",
            "\n",
            " **Generated Answer:**\n",
            "ANNOY\n",
            "--------------------------------------------------------------------------------\n",
            "\n",
            " **Testing question:** How do embedding databases handle large datasets?\n",
            "\n",
            " Retrieved 3 relevant documents.\n",
            "\n",
            " **Retrieved Context:**\n",
            "LSH (Locality-Sensitive Hashing): It introduces a hashing function such that similar input items are mapped to the same buckets with high probability, where the number of buckets is much smaller than the number of inputs.\n",
            "ANNOY (Approximate Nearest Neighbors Oh Yeah): The core data structure are random projection trees, a set of binary trees where each non-leaf node represents a hyperplane splitting the input space into half and each leaf stores one data point. Trees are built independently and \n",
            "\n",
            " **Generated Answer:**\n",
            "ANNOY (Approximate Nearest Neighbors Oh Yeah): The\n",
            "--------------------------------------------------------------------------------\n",
            "\n",
            " **Testing question:** What is Approximate Nearest Neighbors (ANN) in retrieval systems?\n",
            "\n",
            " Retrieved 3 relevant documents.\n",
            "\n",
            " **Retrieved Context:**\n",
            "Maximum Inner Product Search (MIPS)#\n",
            "The external memory can alleviate the restriction of finite attention span.  A standard practice is to save the embedding representation of information into a vector store database that can support fast maximum inner-product search (MIPS). To optimize the retrieval speed, the common choice is the approximate nearest neighbors (ANN)​ algorithm to return approximately top k nearest neighbors to trade off a little accuracy lost for a huge speedup.\n",
            "A couple commo\n",
            "\n",
            " **Generated Answer:**\n",
            "ANNOY\n",
            "--------------------------------------------------------------------------------\n"
          ]
        }
      ]
    },
    {
      "cell_type": "code",
      "source": [
        "from langchain.text_splitter import RecursiveCharacterTextSplitter\n",
        "\n",
        "# Tester différentes tailles de chunks\n",
        "chunk_sizes = [500, 1000, 2000]\n",
        "chunk_overlap = 100\n",
        "\n",
        "for size in chunk_sizes:\n",
        "    print(f\"\\n **Testing chunk_size={size}, chunk_overlap={chunk_overlap}**\")\n",
        "\n",
        "    # Appliquer les nouveaux paramètres de chunking\n",
        "    text_splitter = RecursiveCharacterTextSplitter(chunk_size=size, chunk_overlap=chunk_overlap, add_start_index=True)\n",
        "    new_splits = text_splitter.split_documents(docs)\n",
        "\n",
        "    print(f\" **Total chunks generated:** {len(new_splits)}\")\n"
      ],
      "metadata": {
        "colab": {
          "base_uri": "https://localhost:8080/"
        },
        "id": "snBCYhExCIK_",
        "outputId": "aaa50af4-9ee8-48e3-b46c-c5d69a431046"
      },
      "execution_count": 110,
      "outputs": [
        {
          "output_type": "stream",
          "name": "stdout",
          "text": [
            "\n",
            " **Testing chunk_size=500, chunk_overlap=100**\n",
            " **Total chunks generated:** 132\n",
            "\n",
            " **Testing chunk_size=1000, chunk_overlap=100**\n",
            " **Total chunks generated:** 65\n",
            "\n",
            " **Testing chunk_size=2000, chunk_overlap=100**\n",
            " **Total chunks generated:** 34\n"
          ]
        }
      ]
    },
    {
      "cell_type": "markdown",
      "source": [
        " **Observations from Testing Different Chunk Sizes**\n",
        "\n",
        "  * After running the pipeline for different **chunk sizes (500, 1000, 2000)**, we observed the following:\n",
        "\n",
        "  *  **Smaller chunks (500 tokens)** provided **better precision** but sometimes **missed broader context**.\n",
        "\n",
        "  * **Larger chunks (2000 tokens)** captured **more context** but occasionally included **irrelevant information**.\n",
        "\n",
        "  *  The **1000-token chunk size** seemed to **balance accuracy and context** effectively.\n",
        "\n",
        "  *  **Best Performing Configuration** **(For Now)**\n",
        "   - **Chunk size: 1000**  \n",
        "   - **Chunk overlap: 200**  \n",
        "   - **Answers are more structured and relevant with this configuration.**  \n",
        "\n"
      ],
      "metadata": {
        "id": "vqQBblcVMpX1"
      }
    }
  ]
}
{
  "cells": [
    {
      "cell_type": "markdown",
      "metadata": {
        "id": "iwgFgw2oQP53"
      },
      "source": [
        "Sentiment Analysis of Amazon Reviews and Automated Response Generation"
      ]
    },
    {
      "cell_type": "markdown",
      "source": [
        "# 2. LLM affiné pour l'analyse des sentiments et les réponses contextuelles\n",
        "\n",
        "\n",
        "#### **Aperçu**\n",
        "Entraînez un LLM optimisé en termes de paramètres (par exemple, en utilisant LoRA ) pour classer les sentiments et générer des réponses contextuelles .\n",
        "\n",
        "\n",
        "\n",
        "#### **Pourquoi ça convient ?**\n",
        "Couvre le réglage fin, l'efficacité des paramètres (LoRA), l'architecture du transformateur, les intégrations, RAG, les techniques d'évaluation .\n",
        "\n",
        "\n",
        "\n",
        "#### **Composants clés**\n",
        "* Sélectionnez un LLM pré-entraîné (par exemple, distilBERT) et affinez-le pour la classification des sentiments (avis IMDB, données Twitter, etc.).\n",
        "* Implémentez LoRA pour un réglage fin efficace des paramètres sur le processeur .\n",
        "Utilisez des techniques de récupération (FAISS/Pinecone) pour des réponses contextuelles.\n",
        "* Déployez une interface utilisateur Streamlit pour les interactions basées sur les sentiments.\n",
        "* Évaluez les performances du modèle avec précision, perplexité, BLEU et ROUGE .\n",
        "Bonus : Intégrez les flux de travail d’évaluation LLM aux mécanismes de rétroaction humaine .\n",
        "\n",
        "\n",
        "#### **Considérations favorables au processeur**\n",
        "*  **Modèles recommandés** : *distilBERT , BERT-base-uncased, roberta-small,albert-base-v2*\n",
        "*  **Utilisation de la bibliothèque** : *transformers , optimum, peft,sentence-transformers*\n",
        "*  **Conseils d'optimisation** :\n",
        "  * Utiliser LoRA (Low-Rank Adaptation) au lieu d'un réglage fin complet\n",
        "  * Réduire la taille de l'ensemble de données (par exemple, prendre seulement 10 000 échantillons de l'ensemble de données IMDB)\n",
        "  * Utilisez des modèles de transformateurs plus petits ( distilBERTplus de BERT-base, albert-baseplus de BERT-large)\n",
        "  * Utilisez la précision mixte ( fp16) si elle est prise en charge\n",
        "\n"
      ],
      "metadata": {
        "id": "qWbSVmxg9RXs"
      }
    },
    {
      "cell_type": "code",
      "source": [
        "# Install required packages\n",
        "import subprocess\n",
        "\n",
        "# Install core packages for Hugging Face models and training\n",
        "command = [\n",
        "    \"pip\", \"install\", \"--upgrade\",\n",
        "    \"datasets\", \"transformers\", \"peft\", \"accelerate\", \"bitsandbytes\"\n",
        "]\n",
        "\n",
        "# Run the pip command silently\n",
        "result = subprocess.run(command, capture_output=True, text=True)\n",
        "\n",
        "# Show only the last 5 lines of the output\n",
        "lines = result.stdout.strip().split(\"\\n\")\n",
        "print(\"Last installation lines:\\n\")\n",
        "print(\"\\n\".join(lines[-5:]))\n"
      ],
      "metadata": {
        "colab": {
          "base_uri": "https://localhost:8080/"
        },
        "id": "Hfv_0KzFh9Mp",
        "outputId": "c5aacd50-bbd4-4a9d-9c14-6e77831f276f"
      },
      "execution_count": 1,
      "outputs": [
        {
          "output_type": "stream",
          "name": "stdout",
          "text": [
            "Last installation lines:\n",
            "\n",
            "  Attempting uninstall: nvidia-cusolver-cu12\n",
            "    Found existing installation: nvidia-cusolver-cu12 11.6.3.83\n",
            "    Uninstalling nvidia-cusolver-cu12-11.6.3.83:\n",
            "      Successfully uninstalled nvidia-cusolver-cu12-11.6.3.83\n",
            "Successfully installed bitsandbytes-0.45.5 datasets-3.5.1 dill-0.3.8 fsspec-2025.3.0 multiprocess-0.70.16 nvidia-cublas-cu12-12.4.5.8 nvidia-cuda-cupti-cu12-12.4.127 nvidia-cuda-nvrtc-cu12-12.4.127 nvidia-cuda-runtime-cu12-12.4.127 nvidia-cudnn-cu12-9.1.0.70 nvidia-cufft-cu12-11.2.1.3 nvidia-curand-cu12-10.3.5.147 nvidia-cusolver-cu12-11.6.1.9 nvidia-cusparse-cu12-12.3.1.170 nvidia-nvjitlink-cu12-12.4.127 xxhash-3.5.0\n"
          ]
        }
      ]
    },
    {
      "cell_type": "code",
      "source": [
        "# Clean Torch installation for GPU compatibility\n",
        "print(\" - Uninstalling any existing torch packages...\")\n",
        "subprocess.run([\"pip\", \"uninstall\", \"-y\", \"torch\", \"torchvision\", \"torchaudio\"],\n",
        "               capture_output=True, text=True)\n",
        "\n",
        "# Install compatible GPU version (Colab auto-detects the right one)\n",
        "print(\" - Installing torch (GPU version if available)...\")\n",
        "install_cmd = [\"pip\", \"install\", \"--upgrade\", \"torch\", \"torchvision\", \"torchaudio\"]\n",
        "result = subprocess.run(install_cmd, capture_output=True, text=True)\n",
        "\n",
        "print(\"\\n - Last lines from torch installation:\")\n",
        "print(\"\\n\".join(result.stdout.strip().split(\"\\n\")[-5:]))\n"
      ],
      "metadata": {
        "colab": {
          "base_uri": "https://localhost:8080/"
        },
        "id": "edyl2HUSRBvs",
        "outputId": "f16b5d15-0826-43ac-d88d-4ed3b2279eb1"
      },
      "execution_count": 2,
      "outputs": [
        {
          "output_type": "stream",
          "name": "stdout",
          "text": [
            " - Uninstalling any existing torch packages...\n",
            " - Installing torch (GPU version if available)...\n",
            "\n",
            " - Last lines from torch installation:\n",
            "  Attempting uninstall: nvidia-cusolver-cu12\n",
            "    Found existing installation: nvidia-cusolver-cu12 11.6.1.9\n",
            "    Uninstalling nvidia-cusolver-cu12-11.6.1.9:\n",
            "      Successfully uninstalled nvidia-cusolver-cu12-11.6.1.9\n",
            "Successfully installed nvidia-cublas-cu12-12.6.4.1 nvidia-cuda-cupti-cu12-12.6.80 nvidia-cuda-nvrtc-cu12-12.6.77 nvidia-cuda-runtime-cu12-12.6.77 nvidia-cudnn-cu12-9.5.1.17 nvidia-cufft-cu12-11.3.0.4 nvidia-cufile-cu12-1.11.1.6 nvidia-curand-cu12-10.3.7.77 nvidia-cusolver-cu12-11.7.1.2 nvidia-cusparse-cu12-12.5.4.2 nvidia-cusparselt-cu12-0.6.3 nvidia-nccl-cu12-2.26.2 nvidia-nvjitlink-cu12-12.6.85 nvidia-nvtx-cu12-12.6.77 sympy-1.14.0 torch-2.7.0 torchaudio-2.7.0 torchvision-0.22.0 triton-3.3.0\n"
          ]
        }
      ]
    },
    {
      "cell_type": "code",
      "source": [
        "# Check torch version and path\n",
        "import torch\n",
        "print(torch.__file__)\n",
        "print(\"Torch version:\", torch.__version__)\n",
        "print(\"Torch is working \")"
      ],
      "metadata": {
        "colab": {
          "base_uri": "https://localhost:8080/"
        },
        "id": "VD3OO653Mq6E",
        "outputId": "865a20e2-e55b-4a6e-a7b3-a722a8895fd2"
      },
      "execution_count": 3,
      "outputs": [
        {
          "output_type": "stream",
          "name": "stdout",
          "text": [
            "/usr/local/lib/python3.11/dist-packages/torch/__init__.py\n",
            "Torch version: 2.7.0+cu126\n",
            "Torch is working \n"
          ]
        }
      ]
    },
    {
      "cell_type": "code",
      "source": [
        "# ============================\n",
        "# Essential Libraries for BERT Sentiment Classification\n",
        "# ============================\n",
        "\n",
        "# Data manipulation\n",
        "import pandas as pd\n",
        "import numpy as np\n",
        "import os\n",
        "import re\n",
        "\n",
        "# Visualization\n",
        "import matplotlib.pyplot as plt\n",
        "import seaborn as sns\n",
        "\n",
        "# Class balancing\n",
        "from sklearn.utils.class_weight import compute_class_weight\n",
        "from sklearn.model_selection import train_test_split\n",
        "from sklearn.metrics import accuracy_score, precision_recall_fscore_support\n",
        "\n",
        "# Deep learning with PyTorch\n",
        "import torch.nn as nn\n",
        "from torch.utils.data import Dataset\n",
        "\n",
        "# Hugging Face Transformers\n",
        "from transformers import (\n",
        "    BertTokenizer,\n",
        "    BertTokenizerFast,\n",
        "    BertConfig,\n",
        "    BertForSequenceClassification,\n",
        "    AutoTokenizer,\n",
        "    AutoModelForSequenceClassification,\n",
        "    TrainingArguments,\n",
        "    Trainer\n",
        ")\n",
        "\n",
        "# Hugging Face Datasets\n",
        "from datasets import Dataset\n",
        "\n",
        "# Hugging Face Hub login\n",
        "from huggingface_hub import login\n",
        "from getpass import getpass\n",
        "\n",
        "# PEFT (LoRA fine-tuning)\n",
        "from peft import get_peft_model, LoraConfig, TaskType, PeftModel\n"
      ],
      "metadata": {
        "id": "8DMM_FjyTASx"
      },
      "execution_count": 4,
      "outputs": []
    },
    {
      "cell_type": "code",
      "source": [
        "# Move kaggle API key to the correct location\n",
        "!mkdir -p ~/.kaggle\n",
        "!mv kaggle.json ~/.kaggle/\n",
        "!chmod 600 ~/.kaggle/kaggle.json  # Secure file permissions\n",
        "\n",
        "# Download and unzip the dataset\n",
        "!kaggle datasets download -d halimedogan/amazon-reviews -p /content --unzip\n"
      ],
      "metadata": {
        "colab": {
          "base_uri": "https://localhost:8080/"
        },
        "id": "awVq8_-AVIXB",
        "outputId": "d15fb5ea-ad67-4247-ca01-1abd37394a3c"
      },
      "execution_count": 10,
      "outputs": [
        {
          "output_type": "stream",
          "name": "stdout",
          "text": [
            "Dataset URL: https://www.kaggle.com/datasets/halimedogan/amazon-reviews\n",
            "License(s): unknown\n"
          ]
        }
      ]
    },
    {
      "cell_type": "code",
      "source": [
        "# Check download success\n",
        "print(os.listdir(\"/content\"))"
      ],
      "metadata": {
        "colab": {
          "base_uri": "https://localhost:8080/"
        },
        "id": "Wvv_4fhqVx6-",
        "outputId": "3d069ea3-fef3-4e4c-b929-b58a13facfeb"
      },
      "execution_count": 11,
      "outputs": [
        {
          "output_type": "stream",
          "name": "stdout",
          "text": [
            "['.config', 'amazon_reviews.csv', 'sample_data']\n"
          ]
        }
      ]
    },
    {
      "cell_type": "code",
      "source": [
        "# Load dataset using pandas\n",
        "data = pd.read_csv(\"/content/amazon_reviews.csv\")\n",
        "data.shape"
      ],
      "metadata": {
        "colab": {
          "base_uri": "https://localhost:8080/"
        },
        "id": "Tocu7XeNV3b3",
        "outputId": "9285eb00-98cd-460d-ecd9-595ebaf053fa"
      },
      "execution_count": 12,
      "outputs": [
        {
          "output_type": "execute_result",
          "data": {
            "text/plain": [
              "(4915, 12)"
            ]
          },
          "metadata": {},
          "execution_count": 12
        }
      ]
    },
    {
      "cell_type": "markdown",
      "source": [],
      "metadata": {
        "id": "JtpwlZmUDWLr"
      }
    },
    {
      "cell_type": "code",
      "execution_count": null,
      "metadata": {
        "colab": {
          "base_uri": "https://localhost:8080/",
          "height": 362
        },
        "id": "a6A6QLtBQP57",
        "outputId": "e000ab0c-0dd8-4349-f8a8-877f7a511892"
      },
      "outputs": [
        {
          "output_type": "execute_result",
          "data": {
            "text/plain": [
              "       reviewerID        asin  reviewerName helpful  \\\n",
              "0  A3SBTW3WS4IQSN  B007WTAJTO           NaN  [0, 0]   \n",
              "1  A18K1ODH1I2MVB  B007WTAJTO          0mie  [0, 0]   \n",
              "2  A2FII3I2MBMUIA  B007WTAJTO           1K3  [0, 0]   \n",
              "3   A3H99DFEG68SR  B007WTAJTO           1m2  [0, 0]   \n",
              "4  A375ZM4U047O79  B007WTAJTO  2&amp;1/2Men  [0, 0]   \n",
              "\n",
              "                                          reviewText  overall  \\\n",
              "0                                         No issues.      4.0   \n",
              "1  Purchased this for my device, it worked as adv...      5.0   \n",
              "2  it works as expected. I should have sprung for...      4.0   \n",
              "3  This think has worked out great.Had a diff. br...      5.0   \n",
              "4  Bought it with Retail Packaging, arrived legit...      5.0   \n",
              "\n",
              "                                  summary  unixReviewTime  reviewTime  \\\n",
              "0                              Four Stars      1406073600  2014-07-23   \n",
              "1                           MOAR SPACE!!!      1382659200  2013-10-25   \n",
              "2               nothing to really say....      1356220800  2012-12-23   \n",
              "3  Great buy at this price!!!  *** UPDATE      1384992000  2013-11-21   \n",
              "4                        best deal around      1373673600  2013-07-13   \n",
              "\n",
              "   day_diff  helpful_yes  total_vote  \n",
              "0       138            0           0  \n",
              "1       409            0           0  \n",
              "2       715            0           0  \n",
              "3       382            0           0  \n",
              "4       513            0           0  "
            ],
            "text/html": [
              "\n",
              "  <div id=\"df-2cf38d13-0e43-4efb-bcb7-9596c207778d\" class=\"colab-df-container\">\n",
              "    <div>\n",
              "<style scoped>\n",
              "    .dataframe tbody tr th:only-of-type {\n",
              "        vertical-align: middle;\n",
              "    }\n",
              "\n",
              "    .dataframe tbody tr th {\n",
              "        vertical-align: top;\n",
              "    }\n",
              "\n",
              "    .dataframe thead th {\n",
              "        text-align: right;\n",
              "    }\n",
              "</style>\n",
              "<table border=\"1\" class=\"dataframe\">\n",
              "  <thead>\n",
              "    <tr style=\"text-align: right;\">\n",
              "      <th></th>\n",
              "      <th>reviewerID</th>\n",
              "      <th>asin</th>\n",
              "      <th>reviewerName</th>\n",
              "      <th>helpful</th>\n",
              "      <th>reviewText</th>\n",
              "      <th>overall</th>\n",
              "      <th>summary</th>\n",
              "      <th>unixReviewTime</th>\n",
              "      <th>reviewTime</th>\n",
              "      <th>day_diff</th>\n",
              "      <th>helpful_yes</th>\n",
              "      <th>total_vote</th>\n",
              "    </tr>\n",
              "  </thead>\n",
              "  <tbody>\n",
              "    <tr>\n",
              "      <th>0</th>\n",
              "      <td>A3SBTW3WS4IQSN</td>\n",
              "      <td>B007WTAJTO</td>\n",
              "      <td>NaN</td>\n",
              "      <td>[0, 0]</td>\n",
              "      <td>No issues.</td>\n",
              "      <td>4.0</td>\n",
              "      <td>Four Stars</td>\n",
              "      <td>1406073600</td>\n",
              "      <td>2014-07-23</td>\n",
              "      <td>138</td>\n",
              "      <td>0</td>\n",
              "      <td>0</td>\n",
              "    </tr>\n",
              "    <tr>\n",
              "      <th>1</th>\n",
              "      <td>A18K1ODH1I2MVB</td>\n",
              "      <td>B007WTAJTO</td>\n",
              "      <td>0mie</td>\n",
              "      <td>[0, 0]</td>\n",
              "      <td>Purchased this for my device, it worked as adv...</td>\n",
              "      <td>5.0</td>\n",
              "      <td>MOAR SPACE!!!</td>\n",
              "      <td>1382659200</td>\n",
              "      <td>2013-10-25</td>\n",
              "      <td>409</td>\n",
              "      <td>0</td>\n",
              "      <td>0</td>\n",
              "    </tr>\n",
              "    <tr>\n",
              "      <th>2</th>\n",
              "      <td>A2FII3I2MBMUIA</td>\n",
              "      <td>B007WTAJTO</td>\n",
              "      <td>1K3</td>\n",
              "      <td>[0, 0]</td>\n",
              "      <td>it works as expected. I should have sprung for...</td>\n",
              "      <td>4.0</td>\n",
              "      <td>nothing to really say....</td>\n",
              "      <td>1356220800</td>\n",
              "      <td>2012-12-23</td>\n",
              "      <td>715</td>\n",
              "      <td>0</td>\n",
              "      <td>0</td>\n",
              "    </tr>\n",
              "    <tr>\n",
              "      <th>3</th>\n",
              "      <td>A3H99DFEG68SR</td>\n",
              "      <td>B007WTAJTO</td>\n",
              "      <td>1m2</td>\n",
              "      <td>[0, 0]</td>\n",
              "      <td>This think has worked out great.Had a diff. br...</td>\n",
              "      <td>5.0</td>\n",
              "      <td>Great buy at this price!!!  *** UPDATE</td>\n",
              "      <td>1384992000</td>\n",
              "      <td>2013-11-21</td>\n",
              "      <td>382</td>\n",
              "      <td>0</td>\n",
              "      <td>0</td>\n",
              "    </tr>\n",
              "    <tr>\n",
              "      <th>4</th>\n",
              "      <td>A375ZM4U047O79</td>\n",
              "      <td>B007WTAJTO</td>\n",
              "      <td>2&amp;amp;1/2Men</td>\n",
              "      <td>[0, 0]</td>\n",
              "      <td>Bought it with Retail Packaging, arrived legit...</td>\n",
              "      <td>5.0</td>\n",
              "      <td>best deal around</td>\n",
              "      <td>1373673600</td>\n",
              "      <td>2013-07-13</td>\n",
              "      <td>513</td>\n",
              "      <td>0</td>\n",
              "      <td>0</td>\n",
              "    </tr>\n",
              "  </tbody>\n",
              "</table>\n",
              "</div>\n",
              "    <div class=\"colab-df-buttons\">\n",
              "\n",
              "  <div class=\"colab-df-container\">\n",
              "    <button class=\"colab-df-convert\" onclick=\"convertToInteractive('df-2cf38d13-0e43-4efb-bcb7-9596c207778d')\"\n",
              "            title=\"Convert this dataframe to an interactive table.\"\n",
              "            style=\"display:none;\">\n",
              "\n",
              "  <svg xmlns=\"http://www.w3.org/2000/svg\" height=\"24px\" viewBox=\"0 -960 960 960\">\n",
              "    <path d=\"M120-120v-720h720v720H120Zm60-500h600v-160H180v160Zm220 220h160v-160H400v160Zm0 220h160v-160H400v160ZM180-400h160v-160H180v160Zm440 0h160v-160H620v160ZM180-180h160v-160H180v160Zm440 0h160v-160H620v160Z\"/>\n",
              "  </svg>\n",
              "    </button>\n",
              "\n",
              "  <style>\n",
              "    .colab-df-container {\n",
              "      display:flex;\n",
              "      gap: 12px;\n",
              "    }\n",
              "\n",
              "    .colab-df-convert {\n",
              "      background-color: #E8F0FE;\n",
              "      border: none;\n",
              "      border-radius: 50%;\n",
              "      cursor: pointer;\n",
              "      display: none;\n",
              "      fill: #1967D2;\n",
              "      height: 32px;\n",
              "      padding: 0 0 0 0;\n",
              "      width: 32px;\n",
              "    }\n",
              "\n",
              "    .colab-df-convert:hover {\n",
              "      background-color: #E2EBFA;\n",
              "      box-shadow: 0px 1px 2px rgba(60, 64, 67, 0.3), 0px 1px 3px 1px rgba(60, 64, 67, 0.15);\n",
              "      fill: #174EA6;\n",
              "    }\n",
              "\n",
              "    .colab-df-buttons div {\n",
              "      margin-bottom: 4px;\n",
              "    }\n",
              "\n",
              "    [theme=dark] .colab-df-convert {\n",
              "      background-color: #3B4455;\n",
              "      fill: #D2E3FC;\n",
              "    }\n",
              "\n",
              "    [theme=dark] .colab-df-convert:hover {\n",
              "      background-color: #434B5C;\n",
              "      box-shadow: 0px 1px 3px 1px rgba(0, 0, 0, 0.15);\n",
              "      filter: drop-shadow(0px 1px 2px rgba(0, 0, 0, 0.3));\n",
              "      fill: #FFFFFF;\n",
              "    }\n",
              "  </style>\n",
              "\n",
              "    <script>\n",
              "      const buttonEl =\n",
              "        document.querySelector('#df-2cf38d13-0e43-4efb-bcb7-9596c207778d button.colab-df-convert');\n",
              "      buttonEl.style.display =\n",
              "        google.colab.kernel.accessAllowed ? 'block' : 'none';\n",
              "\n",
              "      async function convertToInteractive(key) {\n",
              "        const element = document.querySelector('#df-2cf38d13-0e43-4efb-bcb7-9596c207778d');\n",
              "        const dataTable =\n",
              "          await google.colab.kernel.invokeFunction('convertToInteractive',\n",
              "                                                    [key], {});\n",
              "        if (!dataTable) return;\n",
              "\n",
              "        const docLinkHtml = 'Like what you see? Visit the ' +\n",
              "          '<a target=\"_blank\" href=https://colab.research.google.com/notebooks/data_table.ipynb>data table notebook</a>'\n",
              "          + ' to learn more about interactive tables.';\n",
              "        element.innerHTML = '';\n",
              "        dataTable['output_type'] = 'display_data';\n",
              "        await google.colab.output.renderOutput(dataTable, element);\n",
              "        const docLink = document.createElement('div');\n",
              "        docLink.innerHTML = docLinkHtml;\n",
              "        element.appendChild(docLink);\n",
              "      }\n",
              "    </script>\n",
              "  </div>\n",
              "\n",
              "\n",
              "<div id=\"df-a0ace444-9e5d-4a99-a0a1-35f05261e35a\">\n",
              "  <button class=\"colab-df-quickchart\" onclick=\"quickchart('df-a0ace444-9e5d-4a99-a0a1-35f05261e35a')\"\n",
              "            title=\"Suggest charts\"\n",
              "            style=\"display:none;\">\n",
              "\n",
              "<svg xmlns=\"http://www.w3.org/2000/svg\" height=\"24px\"viewBox=\"0 0 24 24\"\n",
              "     width=\"24px\">\n",
              "    <g>\n",
              "        <path d=\"M19 3H5c-1.1 0-2 .9-2 2v14c0 1.1.9 2 2 2h14c1.1 0 2-.9 2-2V5c0-1.1-.9-2-2-2zM9 17H7v-7h2v7zm4 0h-2V7h2v10zm4 0h-2v-4h2v4z\"/>\n",
              "    </g>\n",
              "</svg>\n",
              "  </button>\n",
              "\n",
              "<style>\n",
              "  .colab-df-quickchart {\n",
              "      --bg-color: #E8F0FE;\n",
              "      --fill-color: #1967D2;\n",
              "      --hover-bg-color: #E2EBFA;\n",
              "      --hover-fill-color: #174EA6;\n",
              "      --disabled-fill-color: #AAA;\n",
              "      --disabled-bg-color: #DDD;\n",
              "  }\n",
              "\n",
              "  [theme=dark] .colab-df-quickchart {\n",
              "      --bg-color: #3B4455;\n",
              "      --fill-color: #D2E3FC;\n",
              "      --hover-bg-color: #434B5C;\n",
              "      --hover-fill-color: #FFFFFF;\n",
              "      --disabled-bg-color: #3B4455;\n",
              "      --disabled-fill-color: #666;\n",
              "  }\n",
              "\n",
              "  .colab-df-quickchart {\n",
              "    background-color: var(--bg-color);\n",
              "    border: none;\n",
              "    border-radius: 50%;\n",
              "    cursor: pointer;\n",
              "    display: none;\n",
              "    fill: var(--fill-color);\n",
              "    height: 32px;\n",
              "    padding: 0;\n",
              "    width: 32px;\n",
              "  }\n",
              "\n",
              "  .colab-df-quickchart:hover {\n",
              "    background-color: var(--hover-bg-color);\n",
              "    box-shadow: 0 1px 2px rgba(60, 64, 67, 0.3), 0 1px 3px 1px rgba(60, 64, 67, 0.15);\n",
              "    fill: var(--button-hover-fill-color);\n",
              "  }\n",
              "\n",
              "  .colab-df-quickchart-complete:disabled,\n",
              "  .colab-df-quickchart-complete:disabled:hover {\n",
              "    background-color: var(--disabled-bg-color);\n",
              "    fill: var(--disabled-fill-color);\n",
              "    box-shadow: none;\n",
              "  }\n",
              "\n",
              "  .colab-df-spinner {\n",
              "    border: 2px solid var(--fill-color);\n",
              "    border-color: transparent;\n",
              "    border-bottom-color: var(--fill-color);\n",
              "    animation:\n",
              "      spin 1s steps(1) infinite;\n",
              "  }\n",
              "\n",
              "  @keyframes spin {\n",
              "    0% {\n",
              "      border-color: transparent;\n",
              "      border-bottom-color: var(--fill-color);\n",
              "      border-left-color: var(--fill-color);\n",
              "    }\n",
              "    20% {\n",
              "      border-color: transparent;\n",
              "      border-left-color: var(--fill-color);\n",
              "      border-top-color: var(--fill-color);\n",
              "    }\n",
              "    30% {\n",
              "      border-color: transparent;\n",
              "      border-left-color: var(--fill-color);\n",
              "      border-top-color: var(--fill-color);\n",
              "      border-right-color: var(--fill-color);\n",
              "    }\n",
              "    40% {\n",
              "      border-color: transparent;\n",
              "      border-right-color: var(--fill-color);\n",
              "      border-top-color: var(--fill-color);\n",
              "    }\n",
              "    60% {\n",
              "      border-color: transparent;\n",
              "      border-right-color: var(--fill-color);\n",
              "    }\n",
              "    80% {\n",
              "      border-color: transparent;\n",
              "      border-right-color: var(--fill-color);\n",
              "      border-bottom-color: var(--fill-color);\n",
              "    }\n",
              "    90% {\n",
              "      border-color: transparent;\n",
              "      border-bottom-color: var(--fill-color);\n",
              "    }\n",
              "  }\n",
              "</style>\n",
              "\n",
              "  <script>\n",
              "    async function quickchart(key) {\n",
              "      const quickchartButtonEl =\n",
              "        document.querySelector('#' + key + ' button');\n",
              "      quickchartButtonEl.disabled = true;  // To prevent multiple clicks.\n",
              "      quickchartButtonEl.classList.add('colab-df-spinner');\n",
              "      try {\n",
              "        const charts = await google.colab.kernel.invokeFunction(\n",
              "            'suggestCharts', [key], {});\n",
              "      } catch (error) {\n",
              "        console.error('Error during call to suggestCharts:', error);\n",
              "      }\n",
              "      quickchartButtonEl.classList.remove('colab-df-spinner');\n",
              "      quickchartButtonEl.classList.add('colab-df-quickchart-complete');\n",
              "    }\n",
              "    (() => {\n",
              "      let quickchartButtonEl =\n",
              "        document.querySelector('#df-a0ace444-9e5d-4a99-a0a1-35f05261e35a button');\n",
              "      quickchartButtonEl.style.display =\n",
              "        google.colab.kernel.accessAllowed ? 'block' : 'none';\n",
              "    })();\n",
              "  </script>\n",
              "</div>\n",
              "\n",
              "    </div>\n",
              "  </div>\n"
            ],
            "application/vnd.google.colaboratory.intrinsic+json": {
              "type": "dataframe",
              "variable_name": "data",
              "summary": "{\n  \"name\": \"data\",\n  \"rows\": 4915,\n  \"fields\": [\n    {\n      \"column\": \"reviewerID\",\n      \"properties\": {\n        \"dtype\": \"string\",\n        \"num_unique_values\": 4915,\n        \"samples\": [\n          \"A3V5DNLW7DPMUA\",\n          \"A1F08OEM2LEJLK\",\n          \"AOOJ8Y18T3DGM\"\n        ],\n        \"semantic_type\": \"\",\n        \"description\": \"\"\n      }\n    },\n    {\n      \"column\": \"asin\",\n      \"properties\": {\n        \"dtype\": \"category\",\n        \"num_unique_values\": 1,\n        \"samples\": [\n          \"B007WTAJTO\"\n        ],\n        \"semantic_type\": \"\",\n        \"description\": \"\"\n      }\n    },\n    {\n      \"column\": \"reviewerName\",\n      \"properties\": {\n        \"dtype\": \"string\",\n        \"num_unique_values\": 4594,\n        \"samples\": [\n          \"nta699\"\n        ],\n        \"semantic_type\": \"\",\n        \"description\": \"\"\n      }\n    },\n    {\n      \"column\": \"helpful\",\n      \"properties\": {\n        \"dtype\": \"category\",\n        \"num_unique_values\": 42,\n        \"samples\": [\n          \"[1952, 2020]\"\n        ],\n        \"semantic_type\": \"\",\n        \"description\": \"\"\n      }\n    },\n    {\n      \"column\": \"reviewText\",\n      \"properties\": {\n        \"dtype\": \"string\",\n        \"num_unique_values\": 4912,\n        \"samples\": [\n          \"Bought this for extended memory in a Galaxy S III.  Great price. Easy to install and the phone recognized it instantly. Does what its supposed to do.\"\n        ],\n        \"semantic_type\": \"\",\n        \"description\": \"\"\n      }\n    },\n    {\n      \"column\": \"overall\",\n      \"properties\": {\n        \"dtype\": \"number\",\n        \"std\": 0.9968451383820023,\n        \"min\": 1.0,\n        \"max\": 5.0,\n        \"num_unique_values\": 5,\n        \"samples\": [\n          5.0\n        ],\n        \"semantic_type\": \"\",\n        \"description\": \"\"\n      }\n    },\n    {\n      \"column\": \"summary\",\n      \"properties\": {\n        \"dtype\": \"string\",\n        \"num_unique_values\": 3885,\n        \"samples\": [\n          \"NICE!!!\"\n        ],\n        \"semantic_type\": \"\",\n        \"description\": \"\"\n      }\n    },\n    {\n      \"column\": \"unixReviewTime\",\n      \"properties\": {\n        \"dtype\": \"number\",\n        \"std\": 15818574,\n        \"min\": 1339200000,\n        \"max\": 1406073600,\n        \"num_unique_values\": 690,\n        \"samples\": [\n          1386028800\n        ],\n        \"semantic_type\": \"\",\n        \"description\": \"\"\n      }\n    },\n    {\n      \"column\": \"reviewTime\",\n      \"properties\": {\n        \"dtype\": \"object\",\n        \"num_unique_values\": 690,\n        \"samples\": [\n          \"2013-03-12\"\n        ],\n        \"semantic_type\": \"\",\n        \"description\": \"\"\n      }\n    },\n    {\n      \"column\": \"day_diff\",\n      \"properties\": {\n        \"dtype\": \"number\",\n        \"std\": 209,\n        \"min\": 1,\n        \"max\": 1064,\n        \"num_unique_values\": 690,\n        \"samples\": [\n          636\n        ],\n        \"semantic_type\": \"\",\n        \"description\": \"\"\n      }\n    },\n    {\n      \"column\": \"helpful_yes\",\n      \"properties\": {\n        \"dtype\": \"number\",\n        \"std\": 41,\n        \"min\": 0,\n        \"max\": 1952,\n        \"num_unique_values\": 23,\n        \"samples\": [\n          1428\n        ],\n        \"semantic_type\": \"\",\n        \"description\": \"\"\n      }\n    },\n    {\n      \"column\": \"total_vote\",\n      \"properties\": {\n        \"dtype\": \"number\",\n        \"std\": 44,\n        \"min\": 0,\n        \"max\": 2020,\n        \"num_unique_values\": 26,\n        \"samples\": [\n          495\n        ],\n        \"semantic_type\": \"\",\n        \"description\": \"\"\n      }\n    }\n  ]\n}"
            }
          },
          "metadata": {},
          "execution_count": 9
        }
      ],
      "source": [
        "data.head()"
      ]
    },
    {
      "cell_type": "code",
      "execution_count": null,
      "metadata": {
        "colab": {
          "base_uri": "https://localhost:8080/"
        },
        "id": "Z9xjEOxKQP57",
        "outputId": "939a45b8-cb92-49b0-ccca-b3bef24428cd"
      },
      "outputs": [
        {
          "output_type": "stream",
          "name": "stdout",
          "text": [
            "<class 'pandas.core.frame.DataFrame'>\n",
            "RangeIndex: 4915 entries, 0 to 4914\n",
            "Data columns (total 12 columns):\n",
            " #   Column          Non-Null Count  Dtype  \n",
            "---  ------          --------------  -----  \n",
            " 0   reviewerID      4915 non-null   object \n",
            " 1   asin            4915 non-null   object \n",
            " 2   reviewerName    4914 non-null   object \n",
            " 3   helpful         4915 non-null   object \n",
            " 4   reviewText      4914 non-null   object \n",
            " 5   overall         4915 non-null   float64\n",
            " 6   summary         4915 non-null   object \n",
            " 7   unixReviewTime  4915 non-null   int64  \n",
            " 8   reviewTime      4915 non-null   object \n",
            " 9   day_diff        4915 non-null   int64  \n",
            " 10  helpful_yes     4915 non-null   int64  \n",
            " 11  total_vote      4915 non-null   int64  \n",
            "dtypes: float64(1), int64(4), object(7)\n",
            "memory usage: 460.9+ KB\n",
            "None\n"
          ]
        }
      ],
      "source": [
        "# Dataset overview\n",
        "print(data.info())"
      ]
    },
    {
      "cell_type": "code",
      "source": [
        "data[\"reviewerName\"].values"
      ],
      "metadata": {
        "colab": {
          "base_uri": "https://localhost:8080/"
        },
        "id": "HHecqb7xUPus",
        "outputId": "14083be0-8dc1-4009-82fe-e1e049a58ad6"
      },
      "execution_count": null,
      "outputs": [
        {
          "output_type": "execute_result",
          "data": {
            "text/plain": [
              "array([nan, '0mie', '1K3', ..., 'Z S Liske', 'Z Taylor', 'Zza'],\n",
              "      dtype=object)"
            ]
          },
          "metadata": {},
          "execution_count": 11
        }
      ]
    },
    {
      "cell_type": "code",
      "source": [
        "# Quick peek at the data (examples)\n",
        "data[\"reviewText\"][0]  # → \"No issues\""
      ],
      "metadata": {
        "colab": {
          "base_uri": "https://localhost:8080/",
          "height": 35
        },
        "id": "JZUekucyV9WK",
        "outputId": "a7fdc75e-c058-4933-91f8-74ff061bf248"
      },
      "execution_count": null,
      "outputs": [
        {
          "output_type": "execute_result",
          "data": {
            "text/plain": [
              "'No issues.'"
            ],
            "application/vnd.google.colaboratory.intrinsic+json": {
              "type": "string"
            }
          },
          "metadata": {},
          "execution_count": 13
        }
      ]
    },
    {
      "cell_type": "code",
      "source": [
        "data[\"reviewText\"][1]  # → \"Purchased this for my device, it worked as advertised...\""
      ],
      "metadata": {
        "colab": {
          "base_uri": "https://localhost:8080/",
          "height": 35
        },
        "id": "igUhSoSzWJQY",
        "outputId": "455727df-38a4-437c-dbae-e4d4a879941e"
      },
      "execution_count": null,
      "outputs": [
        {
          "output_type": "execute_result",
          "data": {
            "text/plain": [
              "'Purchased this for my device, it worked as advertised. You can never have too much phone memory, since I download a lot of stuff this was a no brainer for me.'"
            ],
            "application/vnd.google.colaboratory.intrinsic+json": {
              "type": "string"
            }
          },
          "metadata": {},
          "execution_count": 14
        }
      ]
    },
    {
      "cell_type": "code",
      "source": [
        "# Check for missing values\n",
        "print(\"Missing values in reviewText:\", data['reviewText'].isna().sum())\n",
        "print(\"Missing values in summary    :\", data['summary'].isna().sum())"
      ],
      "metadata": {
        "colab": {
          "base_uri": "https://localhost:8080/"
        },
        "id": "xdAAOKJpXmKH",
        "outputId": "cb683fa0-62db-4974-991d-dab85cdb5d9a"
      },
      "execution_count": null,
      "outputs": [
        {
          "output_type": "stream",
          "name": "stdout",
          "text": [
            "Missing values in reviewText: 1\n",
            "Missing values in summary    : 0\n"
          ]
        }
      ]
    },
    {
      "cell_type": "code",
      "source": [
        "# Drop row with missing reviewText\n",
        "data = data.dropna(subset=['reviewText']).reset_index(drop=True)"
      ],
      "metadata": {
        "id": "YnqdR0k6XvKz"
      },
      "execution_count": null,
      "outputs": []
    },
    {
      "cell_type": "markdown",
      "source": [
        " ### Light Text Cleaning (for BERT compatibility)"
      ],
      "metadata": {
        "id": "N9vl_B6RQfsI"
      }
    },
    {
      "cell_type": "code",
      "source": [
        "# Define a simple cleaning function suitable for BERT-like models\n",
        "def light_clean(text):\n",
        "    \"\"\"\n",
        "    Light text cleaning:\n",
        "    - Lowercasing\n",
        "    - Removing URLs\n",
        "    - Trimming extra spaces\n",
        "    This kind of preprocessing is aligned with the expectations of pre-trained models like BERT, DistilBERT, etc.\n",
        "    \"\"\"\n",
        "    if pd.isna(text):\n",
        "        return \"\"\n",
        "\n",
        "    text = str(text).lower()                     # Lowercasing\n",
        "    text = re.sub(r'http\\S+', '', text)          # Remove URLs\n",
        "    text = re.sub(r'\\s+', ' ', text).strip()     # Normalize whitespace\n",
        "    return text\n",
        "\n"
      ],
      "metadata": {
        "id": "yudzdf1-cuEl"
      },
      "execution_count": null,
      "outputs": []
    },
    {
      "cell_type": "code",
      "source": [
        "# Apply cleaning to 'reviewText' and 'summary'\n",
        "data_cleaned = data.copy()\n",
        "\n",
        "for col in ['reviewText', 'summary']:\n",
        "    data_cleaned[f\"clean_{col}\"] = data_cleaned[col].fillna('').apply(light_clean)\n"
      ],
      "metadata": {
        "id": "9fDd2HNkTjH7"
      },
      "execution_count": null,
      "outputs": []
    },
    {
      "cell_type": "code",
      "source": [
        "# Combine summary and full text into one field for classification\n",
        "data_cleaned[\"clean_text\"] = (\n",
        "    data_cleaned['clean_summary'] + \" \" + data_cleaned['clean_reviewText']\n",
        ")"
      ],
      "metadata": {
        "id": "JtaaLKvxc6M-"
      },
      "execution_count": null,
      "outputs": []
    },
    {
      "cell_type": "markdown",
      "source": [
        "### 📊 EDA – Target Distribution\n"
      ],
      "metadata": {
        "id": "exW3etpjIeN9"
      }
    },
    {
      "cell_type": "code",
      "execution_count": null,
      "metadata": {
        "colab": {
          "base_uri": "https://localhost:8080/"
        },
        "id": "SVQjyy1oQP58",
        "outputId": "1ac01057-3068-482c-b548-c149116856bf"
      },
      "outputs": [
        {
          "output_type": "stream",
          "name": "stdout",
          "text": [
            "   overall  reviewerID\n",
            "0      1.0         244\n",
            "1      2.0          80\n",
            "2      3.0         142\n",
            "3      4.0         527\n",
            "4      5.0        3921\n"
          ]
        }
      ],
      "source": [
        "# Count number of reviews per 'overall' score\n",
        "overall_counts = data_cleaned.groupby(\"overall\")[\"reviewerID\"].count().reset_index()\n",
        "print(overall_counts)"
      ]
    },
    {
      "cell_type": "code",
      "execution_count": null,
      "metadata": {
        "colab": {
          "base_uri": "https://localhost:8080/",
          "height": 579
        },
        "id": "3HmNkE1KQP59",
        "outputId": "b6a177f9-c062-4f3a-e1c6-20e7dce74cf6"
      },
      "outputs": [
        {
          "output_type": "stream",
          "name": "stderr",
          "text": [
            "<ipython-input-21-3aa21a73fb5d>:8: FutureWarning: \n",
            "\n",
            "Passing `palette` without assigning `hue` is deprecated and will be removed in v0.14.0. Assign the `x` variable to `hue` and set `legend=False` for the same effect.\n",
            "\n",
            "  ax = sns.barplot(x=counts.index, y=counts.values, palette=\"viridis\")\n"
          ]
        },
        {
          "output_type": "display_data",
          "data": {
            "text/plain": [
              "<Figure size 800x500 with 1 Axes>"
            ],
            "image/png": "[encoded data removed]"
          },
          "metadata": {}
        }
      ],
      "source": [
        "# Barplot of score distribution\n",
        "import matplotlib.pyplot as plt\n",
        "import seaborn as sns\n",
        "\n",
        "counts = data_cleaned[\"overall\"].value_counts().sort_index()\n",
        "\n",
        "plt.figure(figsize=(8,5))\n",
        "ax = sns.barplot(x=counts.index, y=counts.values, palette=\"viridis\")\n",
        "\n",
        "for i, v in enumerate(counts.values):\n",
        "    ax.text(i, v + 10, str(v), ha='center', fontsize=12, fontweight='bold')\n",
        "\n",
        "plt.xlabel(\"Overall Rating\", fontsize=12)\n",
        "plt.ylabel(\"Number of Reviews\", fontsize=12)\n",
        "plt.title(\"Distribution of Ratings\", fontsize=14)\n",
        "plt.show()"
      ]
    },
    {
      "cell_type": "markdown",
      "source": [
        "### 🎯 Sentiment Classification Setup"
      ],
      "metadata": {
        "id": "Hz9ETJJDIywN"
      }
    },
    {
      "cell_type": "code",
      "source": [
        "# Remove neutral reviews (score = 3)\n",
        "data_cleaned = data_cleaned[data_cleaned['overall'] != 3]\n",
        "\n",
        "# Create binary sentiment label\n",
        "data_cleaned['label'] = data_cleaned['overall'].apply(lambda x: 1 if x > 3 else 0)\n",
        "\n"
      ],
      "metadata": {
        "id": "5tyhlSwmemzE",
        "colab": {
          "base_uri": "https://localhost:8080/"
        },
        "outputId": "f1bc377b-2324-4739-cde9-d006f17a83d1"
      },
      "execution_count": null,
      "outputs": [
        {
          "output_type": "stream",
          "name": "stderr",
          "text": [
            "<ipython-input-22-07619078a3ff>:5: SettingWithCopyWarning: \n",
            "A value is trying to be set on a copy of a slice from a DataFrame.\n",
            "Try using .loc[row_indexer,col_indexer] = value instead\n",
            "\n",
            "See the caveats in the documentation: https://pandas.pydata.org/pandas-docs/stable/user_guide/indexing.html#returning-a-view-versus-a-copy\n",
            "  data_cleaned['label'] = data_cleaned['overall'].apply(lambda x: 1 if x > 3 else 0)\n"
          ]
        }
      ]
    },
    {
      "cell_type": "code",
      "execution_count": null,
      "metadata": {
        "colab": {
          "base_uri": "https://localhost:8080/",
          "height": 502
        },
        "id": "a-oFHjs5QP5-",
        "outputId": "2926f144-c125-4857-fd73-3908b4277a63"
      },
      "outputs": [
        {
          "output_type": "stream",
          "name": "stderr",
          "text": [
            "<ipython-input-23-8930c130f5fa>:3: FutureWarning: \n",
            "\n",
            "Passing `palette` without assigning `hue` is deprecated and will be removed in v0.14.0. Assign the `x` variable to `hue` and set `legend=False` for the same effect.\n",
            "\n",
            "  ax = sns.countplot(x=data_cleaned[\"label\"], palette=[\"red\", \"green\"])\n"
          ]
        },
        {
          "output_type": "display_data",
          "data": {
            "text/plain": [
              "<Figure size 600x400 with 1 Axes>"
            ],
            "image/png": "[encoded data removed]"
          },
          "metadata": {}
        }
      ],
      "source": [
        "# Visualize class distribution (positive vs negative)\n",
        "plt.figure(figsize=(6,4))\n",
        "ax = sns.countplot(x=data_cleaned[\"label\"], palette=[\"red\", \"green\"])\n",
        "\n",
        "for p in ax.patches:\n",
        "    ax.annotate(f\"{p.get_height()}\", (p.get_x() + p.get_width() / 2., p.get_height()),\n",
        "                ha='center', va='bottom', fontsize=12, fontweight=\"bold\")\n",
        "\n",
        "plt.xticks([0, 1], [\"Negative\", \"Positive\"])\n",
        "plt.xlabel(\"Sentiment\", fontsize=12)\n",
        "plt.ylabel(\"Number of Reviews\", fontsize=12)\n",
        "plt.title(\"Sentiment Distribution\", fontsize=14)\n",
        "plt.show()"
      ]
    },
    {
      "cell_type": "code",
      "execution_count": null,
      "metadata": {
        "colab": {
          "base_uri": "https://localhost:8080/",
          "height": 223
        },
        "id": "Tk_PG7X0QP5-",
        "outputId": "e9027027-64de-4b9e-f740-3b3aee346a57"
      },
      "outputs": [
        {
          "output_type": "stream",
          "name": "stdout",
          "text": [
            "Final DataFrame shape (reviewerID, clean_text, label): (4772, 4)\n"
          ]
        },
        {
          "output_type": "execute_result",
          "data": {
            "text/plain": [
              "          reviewerID                                         clean_text  \\\n",
              "1307  A2OUWRUD08N12X  ultra microsdhc good price and fast enough to ...   \n",
              "4222   A89V803G3X0WQ  i got a rock the 64gb card i purchased actuall...   \n",
              "2639  A16UBZOIW2OJG5  very unethical to claim 30mb/s. false advertis...   \n",
              "2510  A13U0SK7CCMNVH  does the job i've had good luck with sandisk c...   \n",
              "76    A1LP4NB5X34HF8  128 gb and 64 gb versions great, but can't con...   \n",
              "\n",
              "      label sentiment  \n",
              "1307      1  positive  \n",
              "4222      0  negative  \n",
              "2639      0  negative  \n",
              "2510      1  positive  \n",
              "76        1  positive  "
            ],
            "text/html": [
              "\n",
              "  <div id=\"df-080716d9-daf0-4bc4-8312-9ba4b37ef7cf\" class=\"colab-df-container\">\n",
              "    <div>\n",
              "<style scoped>\n",
              "    .dataframe tbody tr th:only-of-type {\n",
              "        vertical-align: middle;\n",
              "    }\n",
              "\n",
              "    .dataframe tbody tr th {\n",
              "        vertical-align: top;\n",
              "    }\n",
              "\n",
              "    .dataframe thead th {\n",
              "        text-align: right;\n",
              "    }\n",
              "</style>\n",
              "<table border=\"1\" class=\"dataframe\">\n",
              "  <thead>\n",
              "    <tr style=\"text-align: right;\">\n",
              "      <th></th>\n",
              "      <th>reviewerID</th>\n",
              "      <th>clean_text</th>\n",
              "      <th>label</th>\n",
              "      <th>sentiment</th>\n",
              "    </tr>\n",
              "  </thead>\n",
              "  <tbody>\n",
              "    <tr>\n",
              "      <th>1307</th>\n",
              "      <td>A2OUWRUD08N12X</td>\n",
              "      <td>ultra microsdhc good price and fast enough to ...</td>\n",
              "      <td>1</td>\n",
              "      <td>positive</td>\n",
              "    </tr>\n",
              "    <tr>\n",
              "      <th>4222</th>\n",
              "      <td>A89V803G3X0WQ</td>\n",
              "      <td>i got a rock the 64gb card i purchased actuall...</td>\n",
              "      <td>0</td>\n",
              "      <td>negative</td>\n",
              "    </tr>\n",
              "    <tr>\n",
              "      <th>2639</th>\n",
              "      <td>A16UBZOIW2OJG5</td>\n",
              "      <td>very unethical to claim 30mb/s. false advertis...</td>\n",
              "      <td>0</td>\n",
              "      <td>negative</td>\n",
              "    </tr>\n",
              "    <tr>\n",
              "      <th>2510</th>\n",
              "      <td>A13U0SK7CCMNVH</td>\n",
              "      <td>does the job i've had good luck with sandisk c...</td>\n",
              "      <td>1</td>\n",
              "      <td>positive</td>\n",
              "    </tr>\n",
              "    <tr>\n",
              "      <th>76</th>\n",
              "      <td>A1LP4NB5X34HF8</td>\n",
              "      <td>128 gb and 64 gb versions great, but can't con...</td>\n",
              "      <td>1</td>\n",
              "      <td>positive</td>\n",
              "    </tr>\n",
              "  </tbody>\n",
              "</table>\n",
              "</div>\n",
              "    <div class=\"colab-df-buttons\">\n",
              "\n",
              "  <div class=\"colab-df-container\">\n",
              "    <button class=\"colab-df-convert\" onclick=\"convertToInteractive('df-080716d9-daf0-4bc4-8312-9ba4b37ef7cf')\"\n",
              "            title=\"Convert this dataframe to an interactive table.\"\n",
              "            style=\"display:none;\">\n",
              "\n",
              "  <svg xmlns=\"http://www.w3.org/2000/svg\" height=\"24px\" viewBox=\"0 -960 960 960\">\n",
              "    <path d=\"M120-120v-720h720v720H120Zm60-500h600v-160H180v160Zm220 220h160v-160H400v160Zm0 220h160v-160H400v160ZM180-400h160v-160H180v160Zm440 0h160v-160H620v160ZM180-180h160v-160H180v160Zm440 0h160v-160H620v160Z\"/>\n",
              "  </svg>\n",
              "    </button>\n",
              "\n",
              "  <style>\n",
              "    .colab-df-container {\n",
              "      display:flex;\n",
              "      gap: 12px;\n",
              "    }\n",
              "\n",
              "    .colab-df-convert {\n",
              "      background-color: #E8F0FE;\n",
              "      border: none;\n",
              "      border-radius: 50%;\n",
              "      cursor: pointer;\n",
              "      display: none;\n",
              "      fill: #1967D2;\n",
              "      height: 32px;\n",
              "      padding: 0 0 0 0;\n",
              "      width: 32px;\n",
              "    }\n",
              "\n",
              "    .colab-df-convert:hover {\n",
              "      background-color: #E2EBFA;\n",
              "      box-shadow: 0px 1px 2px rgba(60, 64, 67, 0.3), 0px 1px 3px 1px rgba(60, 64, 67, 0.15);\n",
              "      fill: #174EA6;\n",
              "    }\n",
              "\n",
              "    .colab-df-buttons div {\n",
              "      margin-bottom: 4px;\n",
              "    }\n",
              "\n",
              "    [theme=dark] .colab-df-convert {\n",
              "      background-color: #3B4455;\n",
              "      fill: #D2E3FC;\n",
              "    }\n",
              "\n",
              "    [theme=dark] .colab-df-convert:hover {\n",
              "      background-color: #434B5C;\n",
              "      box-shadow: 0px 1px 3px 1px rgba(0, 0, 0, 0.15);\n",
              "      filter: drop-shadow(0px 1px 2px rgba(0, 0, 0, 0.3));\n",
              "      fill: #FFFFFF;\n",
              "    }\n",
              "  </style>\n",
              "\n",
              "    <script>\n",
              "      const buttonEl =\n",
              "        document.querySelector('#df-080716d9-daf0-4bc4-8312-9ba4b37ef7cf button.colab-df-convert');\n",
              "      buttonEl.style.display =\n",
              "        google.colab.kernel.accessAllowed ? 'block' : 'none';\n",
              "\n",
              "      async function convertToInteractive(key) {\n",
              "        const element = document.querySelector('#df-080716d9-daf0-4bc4-8312-9ba4b37ef7cf');\n",
              "        const dataTable =\n",
              "          await google.colab.kernel.invokeFunction('convertToInteractive',\n",
              "                                                    [key], {});\n",
              "        if (!dataTable) return;\n",
              "\n",
              "        const docLinkHtml = 'Like what you see? Visit the ' +\n",
              "          '<a target=\"_blank\" href=https://colab.research.google.com/notebooks/data_table.ipynb>data table notebook</a>'\n",
              "          + ' to learn more about interactive tables.';\n",
              "        element.innerHTML = '';\n",
              "        dataTable['output_type'] = 'display_data';\n",
              "        await google.colab.output.renderOutput(dataTable, element);\n",
              "        const docLink = document.createElement('div');\n",
              "        docLink.innerHTML = docLinkHtml;\n",
              "        element.appendChild(docLink);\n",
              "      }\n",
              "    </script>\n",
              "  </div>\n",
              "\n",
              "\n",
              "<div id=\"df-19534f09-5e17-4dd0-b1a1-2d887dffcc20\">\n",
              "  <button class=\"colab-df-quickchart\" onclick=\"quickchart('df-19534f09-5e17-4dd0-b1a1-2d887dffcc20')\"\n",
              "            title=\"Suggest charts\"\n",
              "            style=\"display:none;\">\n",
              "\n",
              "<svg xmlns=\"http://www.w3.org/2000/svg\" height=\"24px\"viewBox=\"0 0 24 24\"\n",
              "     width=\"24px\">\n",
              "    <g>\n",
              "        <path d=\"M19 3H5c-1.1 0-2 .9-2 2v14c0 1.1.9 2 2 2h14c1.1 0 2-.9 2-2V5c0-1.1-.9-2-2-2zM9 17H7v-7h2v7zm4 0h-2V7h2v10zm4 0h-2v-4h2v4z\"/>\n",
              "    </g>\n",
              "</svg>\n",
              "  </button>\n",
              "\n",
              "<style>\n",
              "  .colab-df-quickchart {\n",
              "      --bg-color: #E8F0FE;\n",
              "      --fill-color: #1967D2;\n",
              "      --hover-bg-color: #E2EBFA;\n",
              "      --hover-fill-color: #174EA6;\n",
              "      --disabled-fill-color: #AAA;\n",
              "      --disabled-bg-color: #DDD;\n",
              "  }\n",
              "\n",
              "  [theme=dark] .colab-df-quickchart {\n",
              "      --bg-color: #3B4455;\n",
              "      --fill-color: #D2E3FC;\n",
              "      --hover-bg-color: #434B5C;\n",
              "      --hover-fill-color: #FFFFFF;\n",
              "      --disabled-bg-color: #3B4455;\n",
              "      --disabled-fill-color: #666;\n",
              "  }\n",
              "\n",
              "  .colab-df-quickchart {\n",
              "    background-color: var(--bg-color);\n",
              "    border: none;\n",
              "    border-radius: 50%;\n",
              "    cursor: pointer;\n",
              "    display: none;\n",
              "    fill: var(--fill-color);\n",
              "    height: 32px;\n",
              "    padding: 0;\n",
              "    width: 32px;\n",
              "  }\n",
              "\n",
              "  .colab-df-quickchart:hover {\n",
              "    background-color: var(--hover-bg-color);\n",
              "    box-shadow: 0 1px 2px rgba(60, 64, 67, 0.3), 0 1px 3px 1px rgba(60, 64, 67, 0.15);\n",
              "    fill: var(--button-hover-fill-color);\n",
              "  }\n",
              "\n",
              "  .colab-df-quickchart-complete:disabled,\n",
              "  .colab-df-quickchart-complete:disabled:hover {\n",
              "    background-color: var(--disabled-bg-color);\n",
              "    fill: var(--disabled-fill-color);\n",
              "    box-shadow: none;\n",
              "  }\n",
              "\n",
              "  .colab-df-spinner {\n",
              "    border: 2px solid var(--fill-color);\n",
              "    border-color: transparent;\n",
              "    border-bottom-color: var(--fill-color);\n",
              "    animation:\n",
              "      spin 1s steps(1) infinite;\n",
              "  }\n",
              "\n",
              "  @keyframes spin {\n",
              "    0% {\n",
              "      border-color: transparent;\n",
              "      border-bottom-color: var(--fill-color);\n",
              "      border-left-color: var(--fill-color);\n",
              "    }\n",
              "    20% {\n",
              "      border-color: transparent;\n",
              "      border-left-color: var(--fill-color);\n",
              "      border-top-color: var(--fill-color);\n",
              "    }\n",
              "    30% {\n",
              "      border-color: transparent;\n",
              "      border-left-color: var(--fill-color);\n",
              "      border-top-color: var(--fill-color);\n",
              "      border-right-color: var(--fill-color);\n",
              "    }\n",
              "    40% {\n",
              "      border-color: transparent;\n",
              "      border-right-color: var(--fill-color);\n",
              "      border-top-color: var(--fill-color);\n",
              "    }\n",
              "    60% {\n",
              "      border-color: transparent;\n",
              "      border-right-color: var(--fill-color);\n",
              "    }\n",
              "    80% {\n",
              "      border-color: transparent;\n",
              "      border-right-color: var(--fill-color);\n",
              "      border-bottom-color: var(--fill-color);\n",
              "    }\n",
              "    90% {\n",
              "      border-color: transparent;\n",
              "      border-bottom-color: var(--fill-color);\n",
              "    }\n",
              "  }\n",
              "</style>\n",
              "\n",
              "  <script>\n",
              "    async function quickchart(key) {\n",
              "      const quickchartButtonEl =\n",
              "        document.querySelector('#' + key + ' button');\n",
              "      quickchartButtonEl.disabled = true;  // To prevent multiple clicks.\n",
              "      quickchartButtonEl.classList.add('colab-df-spinner');\n",
              "      try {\n",
              "        const charts = await google.colab.kernel.invokeFunction(\n",
              "            'suggestCharts', [key], {});\n",
              "      } catch (error) {\n",
              "        console.error('Error during call to suggestCharts:', error);\n",
              "      }\n",
              "      quickchartButtonEl.classList.remove('colab-df-spinner');\n",
              "      quickchartButtonEl.classList.add('colab-df-quickchart-complete');\n",
              "    }\n",
              "    (() => {\n",
              "      let quickchartButtonEl =\n",
              "        document.querySelector('#df-19534f09-5e17-4dd0-b1a1-2d887dffcc20 button');\n",
              "      quickchartButtonEl.style.display =\n",
              "        google.colab.kernel.accessAllowed ? 'block' : 'none';\n",
              "    })();\n",
              "  </script>\n",
              "</div>\n",
              "\n",
              "    </div>\n",
              "  </div>\n"
            ],
            "application/vnd.google.colaboratory.intrinsic+json": {
              "type": "dataframe",
              "summary": "{\n  \"name\": \"df\",\n  \"rows\": 5,\n  \"fields\": [\n    {\n      \"column\": \"reviewerID\",\n      \"properties\": {\n        \"dtype\": \"string\",\n        \"num_unique_values\": 5,\n        \"samples\": [\n          \"A89V803G3X0WQ\",\n          \"A1LP4NB5X34HF8\",\n          \"A16UBZOIW2OJG5\"\n        ],\n        \"semantic_type\": \"\",\n        \"description\": \"\"\n      }\n    },\n    {\n      \"column\": \"clean_text\",\n      \"properties\": {\n        \"dtype\": \"string\",\n        \"num_unique_values\": 5,\n        \"samples\": [\n          \"i got a rock the 64gb card i purchased actually contains 4gb of flash memory and some kind of hack that causes it to appear as a 64gb drive in various drives and readers. of course, this took me a while to figure out since i only just got around to copying more than 4gb of data to the card, but with some testing i have nonetheless discovered this to be the case.the card i bought was in amazon frustration free packaging. i don't know if cards purchased that way are less likely to be counterfeit than retail packaged versions, but i suspect that i will stick with manufacturer packaging from now on.\",\n          \"128 gb and 64 gb versions great, but can't confirm speed claims outside of the class ratings **update 6.24.14**my 128 gb card stopped allowing writes via any of my card-readers on a windows pc--either when it was inside any of several full-size sd card adapters (with the write-protect tab in either position) or plugged directly into the microsd slot of the reader. microsd cards have no write-protect tab, so i was quite surprised and worried by this. after failing to find any workable solution by searching online, i finally put it in my chromebook and created a new folder on it there, then stuck it back in my windows pc and it no longer gave me a write-protect error. if anyone has a similar problem, i'd recommend doing something similar by putting it in any other pc, laptop, camera, etc you have available and try writing to it there.----------------------------------------------this portion of my review is necessarily being written as an update to my original review of the 64 gb version of this card, since amazon disallows multiple reviews for what they consider the same item. this portion concerns the 128 gb version of this card:i don't need a fast card, so the speeds on this card were not that important, besides which my test pc is not exactly high-end. therefore i didn't count off for the speed results i got below, using a usb 2.0 card adapter, but i thought they might be relevant to some readers. while the card did reach the class-10 and/or uhs-i requirements, it came in at under 2/3 of the claimed \\\"read speeds up to 30 mb/s for fast file transfer.\\\" then again, running on a second pc using a different usb 2.0 card reader, none of the speeds even hit 5 mb/s, so this seems to be highly system-dependent.i only just got the card this week, and so far it works on *select* sdxc-compatible devices and exfat-compatible operating systems: some sdxc-compatible devices, such as the panasonic hdc-tm40, do not allow cards larger than 64 gb (for whatever reason); this was stated in the manual, and i've confirmed this card is recognized as broken/corrupt/unusable in that device, whereas 64 gb exfat cards work fine. the 128 gb works fine (with original exfat formatting) in my toshiba excite 7.7 android tablet, and (predictably) not at all in my non-sdxc-compatible galaxy note 2 (though it possibly would if reformatted to fat32, since a 64 gb card in fat32 works fine there).i'll update my review to reflect any problems, issues, etc that i notice in the coming days & weeks.-----------------------------------------------------------------------crystaldiskmark 3.0.3 (c) 2007-2013 hiyohiyocrystal dew world : [url removed as per amazon rules]-----------------------------------------------------------------------* mb/s = 1,000,000 byte/s [sata/300 = 300,000,000 byte/s]sequential read : 18.694 mb/ssequential write : 11.921 mb/srandom read 512kb : 18.502 mb/srandom write 512kb : 0.680 mb/srandom read 4kb (qd=1) : 3.339 mb/s [ 815.1 iops]random write 4kb (qd=1) : 1.581 mb/s [ 386.1 iops]random read 4kb (qd=32) : 3.151 mb/s [ 769.4 iops]random write 4kb (qd=32) : 1.564 mb/s [ 381.8 iops]test : 1000 mb [g: 0.0% (0.0/119.1 gb)] (x5)date : 2014/04/24 16:53:49os : windows xp professional sp3 [5.1 build 2600] (x86)-------------------------------------------------------------------------------------------------------------------------------the following is my original review of the 64 gb version of this card, published april 24, 2013:this is a high-quality card. i've used it in a variety of devices, through multiple readers on different pcs, in an hd camcorder using a micro to full-sized sd adapter, and i've never once had a problem with it. it even works at full capacity in *some* microsdhc-only devices once its reformatted to fat32 (such as my sandisk clip+ flac player and supposedly even psps via a proper adapter, though i haven't yet tested my psp). i keep anticipating someone coming out with a card with equal or better capacity and speeds at a comparable price, but i haven't seen one yet. if these were cheaper, i'd have several by now.make sure your device can handle micro or full-sized sdxc cards, or is one of those rare gems that state they support only as high as sdhc but have been tested to work with sdxc cards such as this one once they've been manually reformatted to fat32.\",\n          \"very unethical to claim 30mb/s. false advertisement i have lately purchased two micro-sd card one sandisk ultra 64gb microsdxc and 1 sandisk extreme pro microsdhc 16gb. the first one claim 30mb/s the second claims 90-95mb/s. i 5 tests on my galaxy note 2 and 3 different benchmark test on my computer using usb 3.0 card reader. i can only get 7-8mb/s (this not even class 10, let alone uhs-1). i even did real world testing by copy a large set of data (2gb of photo).the result is no different. i do own sandisk extreme sdhc card on my t3i and i do get 65mb/s of transfer rate. i strongly recommend consumers to test their premium (uhs-1) microsd. i felt very disappointed on sandisk. i will try other brand like samsung, patriot or lexar.\"\n        ],\n        \"semantic_type\": \"\",\n        \"description\": \"\"\n      }\n    },\n    {\n      \"column\": \"label\",\n      \"properties\": {\n        \"dtype\": \"number\",\n        \"std\": 0,\n        \"min\": 0,\n        \"max\": 1,\n        \"num_unique_values\": 2,\n        \"samples\": [\n          0,\n          1\n        ],\n        \"semantic_type\": \"\",\n        \"description\": \"\"\n      }\n    },\n    {\n      \"column\": \"sentiment\",\n      \"properties\": {\n        \"dtype\": \"category\",\n        \"num_unique_values\": 2,\n        \"samples\": [\n          \"negative\",\n          \"positive\"\n        ],\n        \"semantic_type\": \"\",\n        \"description\": \"\"\n      }\n    }\n  ]\n}"
            }
          },
          "metadata": {},
          "execution_count": 24
        }
      ],
      "source": [
        "# Final dataset with clean text and label\n",
        "df = data_cleaned[[\"reviewerID\", \"clean_text\", \"label\"]].copy()\n",
        "df[\"sentiment\"] = df[\"label\"].apply(lambda x: \"positive\" if x == 1 else \"negative\")\n",
        "\n",
        "print(\"Final DataFrame shape (reviewerID, clean_text, label):\", df.shape)\n",
        "df.sample(5)\n"
      ]
    },
    {
      "cell_type": "markdown",
      "source": [
        "### 📏 Text Length Analysis"
      ],
      "metadata": {
        "id": "gswnGFG2YAUy"
      }
    },
    {
      "cell_type": "code",
      "source": [
        "# Add word count per review\n",
        "data_cleaned[\"text_length\"] = data_cleaned[\"clean_text\"].apply(lambda x: len(str(x).split()))\n",
        "\n",
        "# Summary statistics\n",
        "print(\" > Text length statistics:\\n\")\n",
        "print(\" > Mean     :\", data_cleaned[\"text_length\"].mean())\n",
        "print(\" > Median   :\", data_cleaned[\"text_length\"].median())\n",
        "print(\" > Min      :\", data_cleaned[\"text_length\"].min())\n",
        "print(\" > Max      :\", data_cleaned[\"text_length\"].max())\n",
        "print(\" > Std Dev  :\", data_cleaned[\"text_length\"].std())"
      ],
      "metadata": {
        "colab": {
          "base_uri": "https://localhost:8080/"
        },
        "id": "ve0FHQohX_Ly",
        "outputId": "6a231378-22a7-4e45-d5db-d9cd0d1d9526"
      },
      "execution_count": null,
      "outputs": [
        {
          "output_type": "stream",
          "name": "stdout",
          "text": [
            " > Text length statistics:\n",
            "\n",
            " > Mean     : 54.1219614417435\n",
            " > Median   : 37.0\n",
            " > Min      : 2\n",
            " > Max      : 1579\n",
            " > Std Dev  : 59.48566847059569\n"
          ]
        }
      ]
    },
    {
      "cell_type": "code",
      "source": [
        "# Histogram of text lengths\n",
        "plt.figure(figsize=(10, 5))\n",
        "plt.hist(data_cleaned[\"text_length\"], bins=50, color='skyblue', edgecolor='black')\n",
        "plt.title(\"Text Length Distribution\")\n",
        "plt.xlabel(\"Word Count\")\n",
        "plt.ylabel(\"Number of Reviews\")\n",
        "plt.grid(True)\n",
        "plt.show()\n",
        "\n"
      ],
      "metadata": {
        "colab": {
          "base_uri": "https://localhost:8080/",
          "height": 487
        },
        "id": "po6LfB9nX-0m",
        "outputId": "88a810a3-fcca-461b-c44a-1a19ee0e5c73"
      },
      "execution_count": null,
      "outputs": [
        {
          "output_type": "display_data",
          "data": {
            "text/plain": [
              "<Figure size 1000x500 with 1 Axes>"
            ],
            "image/png": "[encoded data removed]"
          },
          "metadata": {}
        }
      ]
    },
    {
      "cell_type": "markdown",
      "source": [
        "### Train/Test Split"
      ],
      "metadata": {
        "id": "g0A_H6uMhAmc"
      }
    },
    {
      "cell_type": "code",
      "source": [
        "from sklearn.model_selection import train_test_split\n",
        "\n",
        "# Split data while keeping class distribution consistent\n",
        "train_texts, test_texts, train_labels, test_labels = train_test_split(\n",
        "    df['clean_text'],\n",
        "    df['label'],\n",
        "    test_size=0.2,\n",
        "    random_state=42,\n",
        "    stratify=df['label']\n",
        ")"
      ],
      "metadata": {
        "id": "8fqaZC_XhNNh"
      },
      "execution_count": null,
      "outputs": []
    },
    {
      "cell_type": "code",
      "source": [
        "# Wrap splits into dataframes\n",
        "train_df = pd.DataFrame({'text': train_texts, 'label': train_labels})\n",
        "test_df = pd.DataFrame({'text': test_texts, 'label': test_labels})\n",
        "print(train_df.shape)\n",
        "print(test_df.shape)"
      ],
      "metadata": {
        "colab": {
          "base_uri": "https://localhost:8080/"
        },
        "id": "Vqj0ExtmYYLP",
        "outputId": "68c7716d-1957-4e3d-f9d8-e0473ea39063"
      },
      "execution_count": null,
      "outputs": [
        {
          "output_type": "stream",
          "name": "stdout",
          "text": [
            "(3817, 2)\n",
            "(955, 2)\n"
          ]
        }
      ]
    },
    {
      "cell_type": "code",
      "source": [],
      "metadata": {
        "id": "qhivaDHrc0o_"
      },
      "execution_count": null,
      "outputs": []
    },
    {
      "cell_type": "markdown",
      "source": [
        "### Class Weights & Tokenization"
      ],
      "metadata": {
        "id": "WTkcxsD1OnoV"
      }
    },
    {
      "cell_type": "code",
      "source": [
        "# Compute class weights to handle imbalance\n",
        "class_weights = compute_class_weight(\n",
        "    class_weight='balanced',\n",
        "    classes=np.array([0, 1]),\n",
        "    y=df['label']\n",
        ")\n",
        "\n",
        "# Convert to PyTorch tensor for use in the loss function\n",
        "class_weights = torch.tensor(class_weights, dtype=torch.float)\n",
        "\n",
        "print(\"Class weights:\", class_weights)\n"
      ],
      "metadata": {
        "colab": {
          "base_uri": "https://localhost:8080/"
        },
        "id": "clw6PZpJaTVC",
        "outputId": "19ac22ba-23bb-4dbe-96fa-69666df18969"
      },
      "execution_count": null,
      "outputs": [
        {
          "output_type": "stream",
          "name": "stdout",
          "text": [
            "Class weights: tensor([7.3642, 0.5364])\n"
          ]
        }
      ]
    },
    {
      "cell_type": "markdown",
      "source": [
        "### Convert to Hugging Face Dataset Format\n",
        "\n"
      ],
      "metadata": {
        "id": "CqdQn8sKhocm"
      }
    },
    {
      "cell_type": "code",
      "source": [
        "# Convert pandas DataFrames to Hugging Face Dataset objects\n",
        "# Required for using the Trainer API\n",
        "train_dataset = Dataset.from_pandas(train_df)\n",
        "test_dataset = Dataset.from_pandas(test_df)"
      ],
      "metadata": {
        "id": "AOofCYG4hoG_"
      },
      "execution_count": null,
      "outputs": []
    },
    {
      "cell_type": "markdown",
      "source": [
        "### Hugging Face Authentication (for model upload)\n"
      ],
      "metadata": {
        "id": "wU4ZWG4dhwu6"
      }
    },
    {
      "cell_type": "code",
      "source": [
        "from getpass import getpass\n",
        "from huggingface_hub import login\n",
        "\n",
        "# Secure login with personal token\n",
        "huggingface_token = getpass(\"Enter your Hugging Face token: \")\n",
        "os.environ[\"HUGGING_FACE_HUB_TOKEN\"] = huggingface_token\n",
        "login(token=huggingface_token)"
      ],
      "metadata": {
        "colab": {
          "base_uri": "https://localhost:8080/"
        },
        "id": "fvIPjL7FvU_s",
        "outputId": "b83291fd-d286-4a2b-a68b-186071bd011d"
      },
      "execution_count": null,
      "outputs": [
        {
          "name": "stdout",
          "output_type": "stream",
          "text": [
            "Enter your Hugging Face token: ··········\n"
          ]
        },
        {
          "output_type": "stream",
          "name": "stderr",
          "text": [
            "Note: Environment variable`HF_TOKEN` is set and is the current active token independently from the token you've just configured.\n",
            "WARNING:huggingface_hub._login:Note: Environment variable`HF_TOKEN` is set and is the current active token independently from the token you've just configured.\n"
          ]
        }
      ]
    },
    {
      "cell_type": "markdown",
      "source": [
        "### Tokenization"
      ],
      "metadata": {
        "id": "JI1TTU-LPKVZ"
      }
    },
    {
      "cell_type": "code",
      "source": [
        "from transformers import BertTokenizer\n",
        "\n",
        "# Load the tokenizer of the chosen model (bert-base-uncased)\n",
        "tokenizer = BertTokenizer.from_pretrained(\"bert-base-uncased\")\n",
        "max_length = 128\n",
        "\n",
        "# Define tokenization function for Hugging Face Datasets\n",
        "def tokenize_function(example):\n",
        "    return tokenizer(example[\"text\"],\n",
        "                     padding=\"max_length\",\n",
        "                     truncation=True,\n",
        "                     max_length=max_length)\n",
        "\n",
        "# Apply the tokenizer to both datasets\n",
        "tokenized_train = train_dataset.map(tokenize_function, batched=True)\n",
        "tokenized_test = test_dataset.map(tokenize_function, batched=True)\n",
        "\n"
      ],
      "metadata": {
        "colab": {
          "base_uri": "https://localhost:8080/",
          "height": 333,
          "referenced_widgets": [
            "a909fbed4dc346278fadd8a420213f9b",
            "6e50fa6f9f844d1db33425b94ca8bb0c",
            "bb19975db0764ceeb560ba30983ee579",
            "437d9545b7e7416b829da4277433fc55",
            "01d5b4b5660b41ff88a4d513bdb23e06",
            "c9827c0a248047d282ad7c5d880205e5",
            "ebf0a9cf97c047f39f2ddc75b64822fc",
            "8995487c3f8e455d9580f6275e89ee83",
            "7f31c15326bd412e99507ce1d607d498",
            "977de7b5de6242c89d397c485f77d243",
            "a6ddd13437404083b596a54c645614ed",
            "f86f2bd98a0c40aa81c227f81bf26f93",
            "9b9d8a52af624f67bdea36aab25bc33c",
            "1882144119e547d694b38589b4c94355",
            "61097473bf044b6a919b0608703679fe",
            "1865fbe0cef94ac48016aab55c831628",
            "3889a0414b5941b6bd80d760a11e83a6",
            "a8963487c8974ec3b4d28d728f8c9b97",
            "23e2a8ad82a3481f987a51d4004ef061",
            "c07ffb798c244341a8830704d4f8e7f4",
            "996858cd1f5a46e69545856093a8d235",
            "7b8a1757b6c041dbad69dee966095351",
            "637f545a1ebb4ca2bf74a07bbe8cbdf0",
            "970a7f209f834c67ab729ec4ee828c42",
            "7a35fee76c6645159426e641aaca70ff",
            "25d3ba96926a40e1a6b77486449e3e0f",
            "0bb601897df54ab2ac95fcedc5ad8979",
            "00d8d6b5e530476d87b3071a75918a97",
            "ccbcc98f53324903b2d29b0d034e97ec",
            "e05477d15b384d4baabc4f3436c3bdfd",
            "5d7db560596a44e5a7eaca0cf6bcf97b",
            "35b36ba1f840407b8eb664aa662c176d",
            "a4d1f08195c4406c9b964524f84c2be2",
            "7873ffbd40e146049b00df7efedcb9db",
            "4329a00ad9ae4e6e8b9f6b8ac3a63f8f",
            "6220e46a4d0f4ce7a2901f70e42d6620",
            "9f71a31ce3564014b7aaaf5ee669ca49",
            "e3de2440833b4cda9829eb4fd187a2a9",
            "7161ea690a714375b7170b25bae84fcc",
            "ad71ec6dc9cb4670bff5aa9183d1ecca",
            "83a42cbf067146e08d37c6a7850a22be",
            "498aa4e63cce448e8ef1a77c54c094da",
            "fdbf078181e34520a78fef5ee594df08",
            "fcef9496032746dd9176260cb416093f",
            "fab26a8a190d4d4e993ddf86cf3ba8bd",
            "fa136cc62a384407a995e0d646f81900",
            "4b904444fa2443ad9d3d91223e1d4249",
            "27f05cadca7f43748dc08c4c98dd9407",
            "4dfb1174132548c1bf0468c12eef2adb",
            "9e8477da94a549c9a6194340bb911546",
            "804076ab1e454d449767aa1ff029c2b9",
            "3dfc9e82ba4e45a796007d99533908f1",
            "c32cd916cd0e489f9836ac2bf87bbed4",
            "6ff8d28a06a243edb8561f1348b6890c",
            "cf990859b75c4a14873dee510d5b545b",
            "a84dc796c5ae4d9aba2b7557ba2a3245",
            "f7dff2fe31cd420d8f6a72942b836504",
            "098ffa52d8694b1fad4d2cf542eaa5b4",
            "9117185040554a3ca1d41291534a5093",
            "55aeeee7592b45c29f9fb462991acbc8",
            "13d2274ff3714d4dbd36491b01a60c93",
            "32cb78796dd3402d94f6c002e1c4bc85",
            "53b198c6c0424bfb9c542f2e975e1949",
            "7ba81943d12249bebbb157c0b9db3e4e",
            "e812e162382d4e89be4a85848d3141b8",
            "2035cf7760574eaa92e7f973319c3f1b"
          ]
        },
        "id": "tOyjltFmjXQD",
        "outputId": "463562bc-b6a5-4ed0-bb1b-13256d302bbd"
      },
      "execution_count": null,
      "outputs": [
        {
          "output_type": "stream",
          "name": "stderr",
          "text": [
            "/usr/local/lib/python3.11/dist-packages/huggingface_hub/utils/_auth.py:94: UserWarning: \n",
            "The secret `HF_TOKEN` does not exist in your Colab secrets.\n",
            "To authenticate with the Hugging Face Hub, create a token in your settings tab (https://huggingface.co/settings/tokens), set it as secret in your Google Colab and restart your session.\n",
            "You will be able to reuse this secret in all of your notebooks.\n",
            "Please note that authentication is recommended but still optional to access public models or datasets.\n",
            "  warnings.warn(\n"
          ]
        },
        {
          "output_type": "display_data",
          "data": {
            "text/plain": [
              "tokenizer_config.json:   0%|          | 0.00/48.0 [00:00<?, ?B/s]"
            ],
            "application/vnd.jupyter.widget-view+json": {
              "version_major": 2,
              "version_minor": 0,
              "model_id": "a909fbed4dc346278fadd8a420213f9b"
            }
          },
          "metadata": {}
        },
        {
          "output_type": "display_data",
          "data": {
            "text/plain": [
              "vocab.txt:   0%|          | 0.00/232k [00:00<?, ?B/s]"
            ],
            "application/vnd.jupyter.widget-view+json": {
              "version_major": 2,
              "version_minor": 0,
              "model_id": "f86f2bd98a0c40aa81c227f81bf26f93"
            }
          },
          "metadata": {}
        },
        {
          "output_type": "display_data",
          "data": {
            "text/plain": [
              "tokenizer.json:   0%|          | 0.00/466k [00:00<?, ?B/s]"
            ],
            "application/vnd.jupyter.widget-view+json": {
              "version_major": 2,
              "version_minor": 0,
              "model_id": "637f545a1ebb4ca2bf74a07bbe8cbdf0"
            }
          },
          "metadata": {}
        },
        {
          "output_type": "display_data",
          "data": {
            "text/plain": [
              "config.json:   0%|          | 0.00/570 [00:00<?, ?B/s]"
            ],
            "application/vnd.jupyter.widget-view+json": {
              "version_major": 2,
              "version_minor": 0,
              "model_id": "7873ffbd40e146049b00df7efedcb9db"
            }
          },
          "metadata": {}
        },
        {
          "output_type": "display_data",
          "data": {
            "text/plain": [
              "Map:   0%|          | 0/3817 [00:00<?, ? examples/s]"
            ],
            "application/vnd.jupyter.widget-view+json": {
              "version_major": 2,
              "version_minor": 0,
              "model_id": "fab26a8a190d4d4e993ddf86cf3ba8bd"
            }
          },
          "metadata": {}
        },
        {
          "output_type": "display_data",
          "data": {
            "text/plain": [
              "Map:   0%|          | 0/955 [00:00<?, ? examples/s]"
            ],
            "application/vnd.jupyter.widget-view+json": {
              "version_major": 2,
              "version_minor": 0,
              "model_id": "a84dc796c5ae4d9aba2b7557ba2a3245"
            }
          },
          "metadata": {}
        }
      ]
    },
    {
      "cell_type": "markdown",
      "source": [
        "###Classic Fine-Tuning with Weighted Loss (No LoRA)"
      ],
      "metadata": {
        "id": "5ROOT2BNwJPD"
      }
    },
    {
      "cell_type": "markdown",
      "source": [
        "#### Define a Custom BERT Model with Weighted Loss"
      ],
      "metadata": {
        "id": "3_ZVYPGZQl7Q"
      }
    },
    {
      "cell_type": "code",
      "source": [
        "# This custom class adds class weights support to the standard BERT classification head\n",
        "class BertWithWeightedLoss(BertForSequenceClassification):\n",
        "    def __init__(self, config, class_weights):\n",
        "        super().__init__(config)\n",
        "        self.class_weights = class_weights\n",
        "        self.loss_fn = nn.CrossEntropyLoss(weight=self.class_weights)\n",
        "\n",
        "    def forward(self, input_ids=None, attention_mask=None, token_type_ids=None, labels=None, **kwargs):\n",
        "        # Forward call to BERT base class\n",
        "        outputs = super().forward(\n",
        "            input_ids=input_ids,\n",
        "            attention_mask=attention_mask,\n",
        "            token_type_ids=token_type_ids\n",
        "        )\n",
        "        logits = outputs.logits\n",
        "\n",
        "        # Apply custom weighted loss if labels are provided\n",
        "        loss = None\n",
        "        if labels is not None:\n",
        "            loss = self.loss_fn(logits, labels)\n",
        "\n",
        "        return {\"loss\": loss, \"logits\": logits}"
      ],
      "metadata": {
        "id": "FAuoMQkiQXVT"
      },
      "execution_count": null,
      "outputs": []
    },
    {
      "cell_type": "markdown",
      "source": [
        " #### Load Model Configuration and Instantiate Custom Model"
      ],
      "metadata": {
        "id": "fpIjvAleQhfM"
      }
    },
    {
      "cell_type": "code",
      "source": [
        "# Load the BERT config\n",
        "config = BertConfig.from_pretrained(\"bert-base-uncased\", num_labels=2)\n",
        "\n",
        "# Instantiate the custom model with class weights\n",
        "model = BertWithWeightedLoss.from_pretrained(\n",
        "    \"bert-base-uncased\",\n",
        "    config=config,\n",
        "    class_weights=class_weights\n",
        ")\n",
        "\n"
      ],
      "metadata": {
        "colab": {
          "base_uri": "https://localhost:8080/",
          "height": 104,
          "referenced_widgets": [
            "37940038ad0948b28f3cfdc7431c9c18",
            "a5df36898d804ab98ff7f8af5dc45da2",
            "08c5b292c85f469e985bb27ee62c437e",
            "8e325804275b42b48fb7f2bc1daa27b2",
            "db0a667304574f06b71401af2e878f1c",
            "4c7bc14aaa13417cb984148128cf8782",
            "f718509afa4f4eaa90cafe5882ab409a",
            "eb6499778cb44d48a25bcef7e11ddc9a",
            "ac31dd705ce4412889144f4fb408474a",
            "bbdab5c28488451d948407ed63d62c5e",
            "7d7b82f7e28b4215a2e9ba963743189c"
          ]
        },
        "id": "V0GUDaL1QeK7",
        "outputId": "17a2a9a9-0630-4801-a099-396895913a48"
      },
      "execution_count": null,
      "outputs": [
        {
          "output_type": "display_data",
          "data": {
            "text/plain": [
              "model.safetensors:   0%|          | 0.00/440M [00:00<?, ?B/s]"
            ],
            "application/vnd.jupyter.widget-view+json": {
              "version_major": 2,
              "version_minor": 0,
              "model_id": "37940038ad0948b28f3cfdc7431c9c18"
            }
          },
          "metadata": {}
        },
        {
          "output_type": "stream",
          "name": "stderr",
          "text": [
            "Some weights of BertWithWeightedLoss were not initialized from the model checkpoint at bert-base-uncased and are newly initialized: ['classifier.bias', 'classifier.weight', 'loss_fn.weight']\n",
            "You should probably TRAIN this model on a down-stream task to be able to use it for predictions and inference.\n"
          ]
        }
      ]
    },
    {
      "cell_type": "markdown",
      "source": [
        "Training Arguments"
      ],
      "metadata": {
        "id": "klHK_ip6YuAN"
      }
    },
    {
      "cell_type": "code",
      "source": [
        "from transformers import TrainingArguments\n",
        "\n",
        "# Define the training configuration for the Hugging Face Trainer\n",
        "training_args = TrainingArguments(\n",
        "    output_dir=\"./results\",                 # Directory to save checkpoints\n",
        "    evaluation_strategy=\"epoch\",            # Evaluate at the end of each epoch\n",
        "    save_strategy=\"epoch\",                  # Save model at the end of each epoch\n",
        "    logging_strategy=\"epoch\",               # Log metrics at each epoch\n",
        "    num_train_epochs=3,                     # Number of training epochs\n",
        "    per_device_train_batch_size=8,          # Training batch size per device\n",
        "    per_device_eval_batch_size=16,          # Eval batch size per device\n",
        "    warmup_steps=0,                         # Warm-up steps for learning rate scheduler\n",
        "    weight_decay=0.01,                      # L2 regularization to reduce overfitting\n",
        "    logging_dir=\"./logs\",                   # Directory to store log files\n",
        "    load_best_model_at_end=True,            # Automatically load best checkpoint (by metric)\n",
        "    metric_for_best_model=\"f1\",             # Use f1_score to track best model\n",
        "    report_to=\"none\"                        # Avoid sending logs to external tools\n",
        ")"
      ],
      "metadata": {
        "colab": {
          "base_uri": "https://localhost:8080/"
        },
        "id": "VlxZh-6jwyss",
        "outputId": "b1cf2322-224b-432d-c4b4-48623bd1b569"
      },
      "execution_count": null,
      "outputs": [
        {
          "output_type": "stream",
          "name": "stderr",
          "text": [
            "/usr/local/lib/python3.11/dist-packages/transformers/training_args.py:1611: FutureWarning: `evaluation_strategy` is deprecated and will be removed in version 4.46 of 🤗 Transformers. Use `eval_strategy` instead\n",
            "  warnings.warn(\n"
          ]
        }
      ]
    },
    {
      "cell_type": "markdown",
      "source": [
        "### Define Custom Metrics"
      ],
      "metadata": {
        "id": "6mNEQMdsY1pi"
      }
    },
    {
      "cell_type": "code",
      "source": [
        "# Compute standard classification metrics during evaluation\n",
        "def compute_metrics(eval_pred):\n",
        "    logits, labels = eval_pred\n",
        "    predictions = logits.argmax(axis=-1)  # Convert logits to predicted class\n",
        "\n",
        "    # Compute precision, recall, F1 score\n",
        "    precision, recall, f1, _ = precision_recall_fscore_support(\n",
        "        labels, predictions, average='binary'\n",
        "    )\n",
        "    acc = accuracy_score(labels, predictions)\n",
        "\n",
        "    return {\n",
        "        'accuracy': acc,\n",
        "        'f1': f1,\n",
        "        'precision': precision,\n",
        "        'recall': recall\n",
        "    }"
      ],
      "metadata": {
        "id": "QHlMtkUcx4tt"
      },
      "execution_count": null,
      "outputs": []
    },
    {
      "cell_type": "markdown",
      "source": [
        "###  Metric Selection: We will use F1-Score\n",
        "\n",
        "In this binary sentiment classification task, we are dealing with **imbalanced classes**: most of the reviews are **positive**, and fewer are **negative**.\n",
        "\n",
        "Using **accuracy** alone can be misleading, since a model that predicts \"positive\" all the time may still achieve high accuracy but fail to detect negative reviews.\n",
        "\n",
        "To address this, we choose the **F1-score** as our main evaluation metric.  \n",
        "It provides a **balanced trade-off** between **precision** (avoiding false positives) and **recall** (avoiding false negatives), which is essential for this kind of task.\n"
      ],
      "metadata": {
        "id": "euKzcADfipAq"
      }
    },
    {
      "cell_type": "markdown",
      "source": [
        "### Train with Hugging Face Trainer"
      ],
      "metadata": {
        "id": "y5PLlD1eRAiu"
      }
    },
    {
      "cell_type": "code",
      "source": [
        "# Hugging Face Trainer takes care of training, evaluation, logging, saving\n",
        "trainer = Trainer(\n",
        "    model=model,                            # Our custom weighted model\n",
        "    args=training_args,                     # Training config\n",
        "    train_dataset=tokenized_train,          # Tokenized training dataset\n",
        "    eval_dataset=tokenized_test,            # Tokenized evaluation dataset\n",
        "    tokenizer=tokenizer,                    # Tokenizer used for preprocessing\n",
        "    compute_metrics=compute_metrics         # Custom evaluation metrics\n",
        ")\n"
      ],
      "metadata": {
        "colab": {
          "base_uri": "https://localhost:8080/"
        },
        "id": "eE9A9G7pxkOg",
        "outputId": "8b12e293-dbfd-4186-fe0b-73d1d32df3ca"
      },
      "execution_count": null,
      "outputs": [
        {
          "output_type": "stream",
          "name": "stderr",
          "text": [
            "<ipython-input-52-db5d3ad667f6>:2: FutureWarning: `tokenizer` is deprecated and will be removed in version 5.0.0 for `Trainer.__init__`. Use `processing_class` instead.\n",
            "  trainer = Trainer(\n"
          ]
        }
      ]
    },
    {
      "cell_type": "code",
      "source": [
        "# Start the training process and monitor progress\n",
        "trainer.train()\n"
      ],
      "metadata": {
        "id": "xNS4x34byAqk",
        "colab": {
          "base_uri": "https://localhost:8080/",
          "height": 204
        },
        "outputId": "0e266b68-a758-4941-ac87-296a7dd14403"
      },
      "execution_count": null,
      "outputs": [
        {
          "output_type": "display_data",
          "data": {
            "text/plain": [
              "<IPython.core.display.HTML object>"
            ],
            "text/html": [
              "\n",
              "    <div>\n",
              "      \n",
              "      <progress value='1434' max='1434' style='width:300px; height:20px; vertical-align: middle;'></progress>\n",
              "      [1434/1434 05:32, Epoch 3/3]\n",
              "    </div>\n",
              "    <table border=\"1\" class=\"dataframe\">\n",
              "  <thead>\n",
              " <tr style=\"text-align: left;\">\n",
              "      <th>Epoch</th>\n",
              "      <th>Training Loss</th>\n",
              "      <th>Validation Loss</th>\n",
              "      <th>Accuracy</th>\n",
              "      <th>F1</th>\n",
              "      <th>Precision</th>\n",
              "      <th>Recall</th>\n",
              "    </tr>\n",
              "  </thead>\n",
              "  <tbody>\n",
              "    <tr>\n",
              "      <td>1</td>\n",
              "      <td>0.135000</td>\n",
              "      <td>0.744245</td>\n",
              "      <td>0.979058</td>\n",
              "      <td>0.988864</td>\n",
              "      <td>0.980132</td>\n",
              "      <td>0.997753</td>\n",
              "    </tr>\n",
              "    <tr>\n",
              "      <td>2</td>\n",
              "      <td>0.031400</td>\n",
              "      <td>0.407234</td>\n",
              "      <td>0.981152</td>\n",
              "      <td>0.989865</td>\n",
              "      <td>0.992099</td>\n",
              "      <td>0.987640</td>\n",
              "    </tr>\n",
              "    <tr>\n",
              "      <td>3</td>\n",
              "      <td>0.001800</td>\n",
              "      <td>0.591394</td>\n",
              "      <td>0.984293</td>\n",
              "      <td>0.991597</td>\n",
              "      <td>0.988827</td>\n",
              "      <td>0.994382</td>\n",
              "    </tr>\n",
              "  </tbody>\n",
              "</table><p>"
            ]
          },
          "metadata": {}
        },
        {
          "output_type": "execute_result",
          "data": {
            "text/plain": [
              "TrainOutput(global_step=1434, training_loss=0.05607624316647794, metrics={'train_runtime': 332.5703, 'train_samples_per_second': 34.432, 'train_steps_per_second': 4.312, 'total_flos': 753221173731840.0, 'train_loss': 0.05607624316647794, 'epoch': 3.0})"
            ]
          },
          "metadata": {},
          "execution_count": 53
        }
      ]
    },
    {
      "cell_type": "code",
      "source": [
        "# Show which step/checkpoint was considered the best (F1-wise)\n",
        "print(\"Best metric:\", trainer.state.best_metric)\n",
        "print(\"Best model checkpoint path:\", trainer.state.best_model_checkpoint)"
      ],
      "metadata": {
        "colab": {
          "base_uri": "https://localhost:8080/"
        },
        "id": "mGjdxiB3k5HL",
        "outputId": "54e782c0-abaa-4e01-bdb4-06bdf5ca404c"
      },
      "execution_count": null,
      "outputs": [
        {
          "output_type": "stream",
          "name": "stdout",
          "text": [
            "Best metric: 0.9915966386554622\n",
            "Best model checkpoint path: ./results/checkpoint-1434\n"
          ]
        }
      ]
    },
    {
      "cell_type": "code",
      "source": [
        "# Extract the epoch number from the checkpoint folder name\n",
        "checkpoint_path = trainer.state.best_model_checkpoint\n",
        "\n",
        "# Extract step number from checkpoint path (e.g., \"./results/checkpoint-187\")\n",
        "match = re.search(r\"checkpoint-(\\d+)\", checkpoint_path)\n",
        "if match:\n",
        "    best_step = int(match.group(1))\n",
        "    print(\"Best step:\", best_step)\n",
        "else:\n",
        "    print(\"Unable to determine step from checkpoint path.\")\n"
      ],
      "metadata": {
        "colab": {
          "base_uri": "https://localhost:8080/"
        },
        "id": "GKB-_BJ2lPa3",
        "outputId": "4303e1b2-a5e5-476a-ed23-30d59dc40d79"
      },
      "execution_count": null,
      "outputs": [
        {
          "output_type": "stream",
          "name": "stdout",
          "text": [
            "Best step: 1434\n"
          ]
        }
      ]
    },
    {
      "cell_type": "code",
      "source": [
        "# Nombre total d'exemples d'entraînement\n",
        "num_train_samples = len(tokenized_train)\n",
        "\n",
        "# Taille des batchs\n",
        "batch_size = training_args.per_device_train_batch_size\n",
        "\n",
        "# Nombre de steps par epoch\n",
        "steps_per_epoch = num_train_samples // batch_size\n",
        "print(\"Steps per epoch:\", steps_per_epoch)\n"
      ],
      "metadata": {
        "colab": {
          "base_uri": "https://localhost:8080/"
        },
        "id": "fI3tdnhalh7N",
        "outputId": "9f09259a-95d4-4368-aeab-89dc846bb481"
      },
      "execution_count": null,
      "outputs": [
        {
          "output_type": "stream",
          "name": "stdout",
          "text": [
            "Steps per epoch: 477\n"
          ]
        }
      ]
    },
    {
      "cell_type": "code",
      "source": [
        "best_epoch_approx = best_step / steps_per_epoch\n",
        "print(f\"Best model ≈ epoch {best_epoch_approx:.2f}\")\n"
      ],
      "metadata": {
        "colab": {
          "base_uri": "https://localhost:8080/"
        },
        "id": "goawcWPXllK3",
        "outputId": "ac71aa1a-8b6e-480c-ec44-f44218e49f8d"
      },
      "execution_count": null,
      "outputs": [
        {
          "output_type": "stream",
          "name": "stdout",
          "text": [
            "Best model ≈ epoch 3.01\n"
          ]
        }
      ]
    },
    {
      "cell_type": "markdown",
      "source": [
        "### Training Analysis – Full Fine-Tuning (Best Model at Epoch 3)\n",
        "\n",
        "We now visualize the training and validation curves for the best model obtained using full fine-tuning.\n",
        "\n",
        "This model was selected based on the **highest F1-score**, and it corresponds to approximately **epoch 3.0**.  \n",
        "We plot both the **training and validation losses**, as well as the **validation F1-score** to observe the model's performance and stability.\n"
      ],
      "metadata": {
        "id": "yaL1KzTLmWkc"
      }
    },
    {
      "cell_type": "code",
      "source": [
        "# Plot Train Loss, Validation Loss, and Validation F1 for the best full fine-tuned model\n",
        "\n",
        "# Retrieve training logs (filtered up to epoch 3)\n",
        "logs = trainer.state.log_history\n",
        "logs = [log for log in logs if \"epoch\" in log and log[\"epoch\"] <= 3.0]\n",
        "\n",
        "# Extract training and evaluation metrics\n",
        "train_epochs = [log[\"epoch\"] for log in logs if \"loss\" in log and \"eval_loss\" not in log]\n",
        "train_losses = [log[\"loss\"] for log in logs if \"loss\" in log and \"eval_loss\" not in log]\n",
        "\n",
        "eval_epochs = [log[\"epoch\"] for log in logs if \"eval_loss\" in log]\n",
        "eval_losses = [log[\"eval_loss\"] for log in logs if \"eval_loss\" in log]\n",
        "eval_f1s = [log[\"eval_f1\"] for log in logs if \"eval_f1\" in log]\n",
        "\n",
        "# Plotting\n",
        "import matplotlib.pyplot as plt\n",
        "\n",
        "plt.figure(figsize=(14, 5))\n",
        "\n",
        "# Loss Curve\n",
        "plt.subplot(1, 2, 1)\n",
        "plt.plot(train_epochs, train_losses, label=\"Train Loss\", marker='o')\n",
        "plt.plot(eval_epochs, eval_losses, label=\"Validation Loss\", marker='x')\n",
        "plt.title(\"Loss per Epoch (Full Fine-Tuning)\")\n",
        "plt.xlabel(\"Epoch\")\n",
        "plt.ylabel(\"Loss\")\n",
        "plt.grid(True)\n",
        "plt.legend()\n",
        "\n",
        "# F1 Score Curve\n",
        "plt.subplot(1, 2, 2)\n",
        "plt.plot(eval_epochs, eval_f1s, label=\"Validation F1\", marker='o', color='purple')\n",
        "plt.title(\"Validation F1 Score per Epoch (Full Fine-Tuning)\")\n",
        "plt.xlabel(\"Epoch\")\n",
        "plt.ylabel(\"F1 Score\")\n",
        "plt.grid(True)\n",
        "plt.legend()\n",
        "\n",
        "plt.tight_layout()\n",
        "plt.show()"
      ],
      "metadata": {
        "colab": {
          "base_uri": "https://localhost:8080/",
          "height": 466
        },
        "id": "xNjc8Z8KmFx-",
        "outputId": "161469c6-710a-47e2-89fa-69a00cdaab92"
      },
      "execution_count": null,
      "outputs": [
        {
          "output_type": "display_data",
          "data": {
            "text/plain": [
              "<Figure size 1400x500 with 2 Axes>"
            ],
            "image/png": "[encoded data removed]"
          },
          "metadata": {}
        }
      ]
    },
    {
      "cell_type": "markdown",
      "source": [
        "### Fine-Tuning with LoRA (Parameter-Efficient)"
      ],
      "metadata": {
        "id": "8wO1G0Vczp-o"
      }
    },
    {
      "cell_type": "code",
      "source": [
        "# Reload the base model (unmodified) for LoRA training\n",
        "base_model = BertForSequenceClassification.from_pretrained(\"bert-base-uncased\", num_labels=2)\n",
        "\n",
        "# Define LoRA config for sequence classification\n",
        "lora_config = LoraConfig(\n",
        "    task_type=TaskType.SEQ_CLS,    # Task: sequence classification\n",
        "    r=4,                           # Rank (low-rank decomposition)\n",
        "    lora_alpha=8,                  # Scaling factor\n",
        "    lora_dropout=0.1,              # Dropout for regularization\n",
        "    bias=\"lora_only\"               # Only apply LoRA to bias layers\n",
        ")\n",
        "\n",
        "# Apply LoRA to the base model\n",
        "lora_model = get_peft_model(base_model, lora_config)\n",
        "\n",
        "# Check number of trainable parameters\n",
        "lora_model.print_trainable_parameters()\n"
      ],
      "metadata": {
        "colab": {
          "base_uri": "https://localhost:8080/"
        },
        "id": "SEio7LaOmt4G",
        "outputId": "6977e91a-a0a1-4390-80b4-83fb32507fb9"
      },
      "execution_count": null,
      "outputs": [
        {
          "output_type": "stream",
          "name": "stderr",
          "text": [
            "Some weights of BertForSequenceClassification were not initialized from the model checkpoint at bert-base-uncased and are newly initialized: ['classifier.bias', 'classifier.weight']\n",
            "You should probably TRAIN this model on a down-stream task to be able to use it for predictions and inference.\n"
          ]
        },
        {
          "output_type": "stream",
          "name": "stdout",
          "text": [
            "trainable params: 167,426 || all params: 109,632,772 || trainable%: 0.1527\n"
          ]
        }
      ]
    },
    {
      "cell_type": "code",
      "source": [
        "# Retrain using the same Trainer API, but with the LoRA-augmented model\n",
        "trainer = Trainer(\n",
        "    model=lora_model,\n",
        "    args=training_args,\n",
        "    train_dataset=tokenized_train,\n",
        "    eval_dataset=tokenized_test,\n",
        "    tokenizer=tokenizer,\n",
        "    compute_metrics=compute_metrics\n",
        ")\n",
        "\n",
        "trainer.train()\n"
      ],
      "metadata": {
        "colab": {
          "base_uri": "https://localhost:8080/",
          "height": 276
        },
        "id": "S-1KheeHnBN3",
        "outputId": "cd63b08f-7c2c-4fdd-d59c-ef506dc7b7a9"
      },
      "execution_count": null,
      "outputs": [
        {
          "output_type": "stream",
          "name": "stderr",
          "text": [
            "<ipython-input-62-113d28d88100>:2: FutureWarning: `tokenizer` is deprecated and will be removed in version 5.0.0 for `Trainer.__init__`. Use `processing_class` instead.\n",
            "  trainer = Trainer(\n",
            "No label_names provided for model class `PeftModelForSequenceClassification`. Since `PeftModel` hides base models input arguments, if label_names is not given, label_names can't be set automatically within `Trainer`. Note that empty label_names list will be used instead.\n"
          ]
        },
        {
          "output_type": "display_data",
          "data": {
            "text/plain": [
              "<IPython.core.display.HTML object>"
            ],
            "text/html": [
              "\n",
              "    <div>\n",
              "      \n",
              "      <progress value='1434' max='1434' style='width:300px; height:20px; vertical-align: middle;'></progress>\n",
              "      [1434/1434 03:20, Epoch 3/3]\n",
              "    </div>\n",
              "    <table border=\"1\" class=\"dataframe\">\n",
              "  <thead>\n",
              " <tr style=\"text-align: left;\">\n",
              "      <th>Epoch</th>\n",
              "      <th>Training Loss</th>\n",
              "      <th>Validation Loss</th>\n",
              "      <th>Accuracy</th>\n",
              "      <th>F1</th>\n",
              "      <th>Precision</th>\n",
              "      <th>Recall</th>\n",
              "    </tr>\n",
              "  </thead>\n",
              "  <tbody>\n",
              "    <tr>\n",
              "      <td>1</td>\n",
              "      <td>0.269500</td>\n",
              "      <td>0.242606</td>\n",
              "      <td>0.931937</td>\n",
              "      <td>0.964770</td>\n",
              "      <td>0.931937</td>\n",
              "      <td>1.000000</td>\n",
              "    </tr>\n",
              "    <tr>\n",
              "      <td>2</td>\n",
              "      <td>0.203400</td>\n",
              "      <td>0.195084</td>\n",
              "      <td>0.932984</td>\n",
              "      <td>0.965255</td>\n",
              "      <td>0.933824</td>\n",
              "      <td>0.998876</td>\n",
              "    </tr>\n",
              "    <tr>\n",
              "      <td>3</td>\n",
              "      <td>0.164900</td>\n",
              "      <td>0.168067</td>\n",
              "      <td>0.938220</td>\n",
              "      <td>0.967812</td>\n",
              "      <td>0.940615</td>\n",
              "      <td>0.996629</td>\n",
              "    </tr>\n",
              "  </tbody>\n",
              "</table><p>"
            ]
          },
          "metadata": {}
        },
        {
          "output_type": "execute_result",
          "data": {
            "text/plain": [
              "TrainOutput(global_step=1434, training_loss=0.2126196963683997, metrics={'train_runtime': 200.3856, 'train_samples_per_second': 57.145, 'train_steps_per_second': 7.156, 'total_flos': 754531481797632.0, 'train_loss': 0.2126196963683997, 'epoch': 3.0})"
            ]
          },
          "metadata": {},
          "execution_count": 62
        }
      ]
    },
    {
      "cell_type": "markdown",
      "source": [
        "#### Compare Fine-Tuning Strategies"
      ],
      "metadata": {
        "id": "LwzJVpJRR2qu"
      }
    },
    {
      "cell_type": "code",
      "source": [
        "# Simple performance comparison between Full Fine-tuning and LoRA\n",
        "data = {\n",
        "    \"Metric\": [\n",
        "        \"Accuracy max\",\n",
        "        \"F1 max\",\n",
        "        \"Training time (sec)\",\n",
        "        \"Training loss final\",\n",
        "        \"Validation loss final\"\n",
        "    ],\n",
        "    \"Full Fine-tuning\": [\n",
        "        0.9822,\n",
        "        0.9905,\n",
        "        339,\n",
        "        0.0739,\n",
        "        0.4286\n",
        "    ],\n",
        "    \"LoRA\": [\n",
        "        0.9382,\n",
        "        0.9678,\n",
        "        202,\n",
        "        0.1649,\n",
        "        0.1681\n",
        "    ]\n",
        "}\n",
        "\n",
        "df_comparison = pd.DataFrame(data).set_index(\"Metric\")\n",
        "df_comparison.head()"
      ],
      "metadata": {
        "colab": {
          "base_uri": "https://localhost:8080/",
          "height": 237
        },
        "id": "XzeStZUsVgjP",
        "outputId": "e0072c37-1965-4dd5-fdcf-9479df7552d7"
      },
      "execution_count": null,
      "outputs": [
        {
          "output_type": "execute_result",
          "data": {
            "text/plain": [
              "                       Full Fine-tuning      LoRA\n",
              "Metric                                           \n",
              "Accuracy max                     0.9822    0.9382\n",
              "F1 max                           0.9905    0.9678\n",
              "Training time (sec)            339.0000  202.0000\n",
              "Training loss final              0.0739    0.1649\n",
              "Validation loss final            0.4286    0.1681"
            ],
            "text/html": [
              "\n",
              "  <div id=\"df-d5f64b8e-2e92-4367-8b28-35e2e1107dc3\" class=\"colab-df-container\">\n",
              "    <div>\n",
              "<style scoped>\n",
              "    .dataframe tbody tr th:only-of-type {\n",
              "        vertical-align: middle;\n",
              "    }\n",
              "\n",
              "    .dataframe tbody tr th {\n",
              "        vertical-align: top;\n",
              "    }\n",
              "\n",
              "    .dataframe thead th {\n",
              "        text-align: right;\n",
              "    }\n",
              "</style>\n",
              "<table border=\"1\" class=\"dataframe\">\n",
              "  <thead>\n",
              "    <tr style=\"text-align: right;\">\n",
              "      <th></th>\n",
              "      <th>Full Fine-tuning</th>\n",
              "      <th>LoRA</th>\n",
              "    </tr>\n",
              "    <tr>\n",
              "      <th>Metric</th>\n",
              "      <th></th>\n",
              "      <th></th>\n",
              "    </tr>\n",
              "  </thead>\n",
              "  <tbody>\n",
              "    <tr>\n",
              "      <th>Accuracy max</th>\n",
              "      <td>0.9822</td>\n",
              "      <td>0.9382</td>\n",
              "    </tr>\n",
              "    <tr>\n",
              "      <th>F1 max</th>\n",
              "      <td>0.9905</td>\n",
              "      <td>0.9678</td>\n",
              "    </tr>\n",
              "    <tr>\n",
              "      <th>Training time (sec)</th>\n",
              "      <td>339.0000</td>\n",
              "      <td>202.0000</td>\n",
              "    </tr>\n",
              "    <tr>\n",
              "      <th>Training loss final</th>\n",
              "      <td>0.0739</td>\n",
              "      <td>0.1649</td>\n",
              "    </tr>\n",
              "    <tr>\n",
              "      <th>Validation loss final</th>\n",
              "      <td>0.4286</td>\n",
              "      <td>0.1681</td>\n",
              "    </tr>\n",
              "  </tbody>\n",
              "</table>\n",
              "</div>\n",
              "    <div class=\"colab-df-buttons\">\n",
              "\n",
              "  <div class=\"colab-df-container\">\n",
              "    <button class=\"colab-df-convert\" onclick=\"convertToInteractive('df-d5f64b8e-2e92-4367-8b28-35e2e1107dc3')\"\n",
              "            title=\"Convert this dataframe to an interactive table.\"\n",
              "            style=\"display:none;\">\n",
              "\n",
              "  <svg xmlns=\"http://www.w3.org/2000/svg\" height=\"24px\" viewBox=\"0 -960 960 960\">\n",
              "    <path d=\"M120-120v-720h720v720H120Zm60-500h600v-160H180v160Zm220 220h160v-160H400v160Zm0 220h160v-160H400v160ZM180-400h160v-160H180v160Zm440 0h160v-160H620v160ZM180-180h160v-160H180v160Zm440 0h160v-160H620v160Z\"/>\n",
              "  </svg>\n",
              "    </button>\n",
              "\n",
              "  <style>\n",
              "    .colab-df-container {\n",
              "      display:flex;\n",
              "      gap: 12px;\n",
              "    }\n",
              "\n",
              "    .colab-df-convert {\n",
              "      background-color: #E8F0FE;\n",
              "      border: none;\n",
              "      border-radius: 50%;\n",
              "      cursor: pointer;\n",
              "      display: none;\n",
              "      fill: #1967D2;\n",
              "      height: 32px;\n",
              "      padding: 0 0 0 0;\n",
              "      width: 32px;\n",
              "    }\n",
              "\n",
              "    .colab-df-convert:hover {\n",
              "      background-color: #E2EBFA;\n",
              "      box-shadow: 0px 1px 2px rgba(60, 64, 67, 0.3), 0px 1px 3px 1px rgba(60, 64, 67, 0.15);\n",
              "      fill: #174EA6;\n",
              "    }\n",
              "\n",
              "    .colab-df-buttons div {\n",
              "      margin-bottom: 4px;\n",
              "    }\n",
              "\n",
              "    [theme=dark] .colab-df-convert {\n",
              "      background-color: #3B4455;\n",
              "      fill: #D2E3FC;\n",
              "    }\n",
              "\n",
              "    [theme=dark] .colab-df-convert:hover {\n",
              "      background-color: #434B5C;\n",
              "      box-shadow: 0px 1px 3px 1px rgba(0, 0, 0, 0.15);\n",
              "      filter: drop-shadow(0px 1px 2px rgba(0, 0, 0, 0.3));\n",
              "      fill: #FFFFFF;\n",
              "    }\n",
              "  </style>\n",
              "\n",
              "    <script>\n",
              "      const buttonEl =\n",
              "        document.querySelector('#df-d5f64b8e-2e92-4367-8b28-35e2e1107dc3 button.colab-df-convert');\n",
              "      buttonEl.style.display =\n",
              "        google.colab.kernel.accessAllowed ? 'block' : 'none';\n",
              "\n",
              "      async function convertToInteractive(key) {\n",
              "        const element = document.querySelector('#df-d5f64b8e-2e92-4367-8b28-35e2e1107dc3');\n",
              "        const dataTable =\n",
              "          await google.colab.kernel.invokeFunction('convertToInteractive',\n",
              "                                                    [key], {});\n",
              "        if (!dataTable) return;\n",
              "\n",
              "        const docLinkHtml = 'Like what you see? Visit the ' +\n",
              "          '<a target=\"_blank\" href=https://colab.research.google.com/notebooks/data_table.ipynb>data table notebook</a>'\n",
              "          + ' to learn more about interactive tables.';\n",
              "        element.innerHTML = '';\n",
              "        dataTable['output_type'] = 'display_data';\n",
              "        await google.colab.output.renderOutput(dataTable, element);\n",
              "        const docLink = document.createElement('div');\n",
              "        docLink.innerHTML = docLinkHtml;\n",
              "        element.appendChild(docLink);\n",
              "      }\n",
              "    </script>\n",
              "  </div>\n",
              "\n",
              "\n",
              "<div id=\"df-469e8f77-aebf-4a5c-a493-792327094c25\">\n",
              "  <button class=\"colab-df-quickchart\" onclick=\"quickchart('df-469e8f77-aebf-4a5c-a493-792327094c25')\"\n",
              "            title=\"Suggest charts\"\n",
              "            style=\"display:none;\">\n",
              "\n",
              "<svg xmlns=\"http://www.w3.org/2000/svg\" height=\"24px\"viewBox=\"0 0 24 24\"\n",
              "     width=\"24px\">\n",
              "    <g>\n",
              "        <path d=\"M19 3H5c-1.1 0-2 .9-2 2v14c0 1.1.9 2 2 2h14c1.1 0 2-.9 2-2V5c0-1.1-.9-2-2-2zM9 17H7v-7h2v7zm4 0h-2V7h2v10zm4 0h-2v-4h2v4z\"/>\n",
              "    </g>\n",
              "</svg>\n",
              "  </button>\n",
              "\n",
              "<style>\n",
              "  .colab-df-quickchart {\n",
              "      --bg-color: #E8F0FE;\n",
              "      --fill-color: #1967D2;\n",
              "      --hover-bg-color: #E2EBFA;\n",
              "      --hover-fill-color: #174EA6;\n",
              "      --disabled-fill-color: #AAA;\n",
              "      --disabled-bg-color: #DDD;\n",
              "  }\n",
              "\n",
              "  [theme=dark] .colab-df-quickchart {\n",
              "      --bg-color: #3B4455;\n",
              "      --fill-color: #D2E3FC;\n",
              "      --hover-bg-color: #434B5C;\n",
              "      --hover-fill-color: #FFFFFF;\n",
              "      --disabled-bg-color: #3B4455;\n",
              "      --disabled-fill-color: #666;\n",
              "  }\n",
              "\n",
              "  .colab-df-quickchart {\n",
              "    background-color: var(--bg-color);\n",
              "    border: none;\n",
              "    border-radius: 50%;\n",
              "    cursor: pointer;\n",
              "    display: none;\n",
              "    fill: var(--fill-color);\n",
              "    height: 32px;\n",
              "    padding: 0;\n",
              "    width: 32px;\n",
              "  }\n",
              "\n",
              "  .colab-df-quickchart:hover {\n",
              "    background-color: var(--hover-bg-color);\n",
              "    box-shadow: 0 1px 2px rgba(60, 64, 67, 0.3), 0 1px 3px 1px rgba(60, 64, 67, 0.15);\n",
              "    fill: var(--button-hover-fill-color);\n",
              "  }\n",
              "\n",
              "  .colab-df-quickchart-complete:disabled,\n",
              "  .colab-df-quickchart-complete:disabled:hover {\n",
              "    background-color: var(--disabled-bg-color);\n",
              "    fill: var(--disabled-fill-color);\n",
              "    box-shadow: none;\n",
              "  }\n",
              "\n",
              "  .colab-df-spinner {\n",
              "    border: 2px solid var(--fill-color);\n",
              "    border-color: transparent;\n",
              "    border-bottom-color: var(--fill-color);\n",
              "    animation:\n",
              "      spin 1s steps(1) infinite;\n",
              "  }\n",
              "\n",
              "  @keyframes spin {\n",
              "    0% {\n",
              "      border-color: transparent;\n",
              "      border-bottom-color: var(--fill-color);\n",
              "      border-left-color: var(--fill-color);\n",
              "    }\n",
              "    20% {\n",
              "      border-color: transparent;\n",
              "      border-left-color: var(--fill-color);\n",
              "      border-top-color: var(--fill-color);\n",
              "    }\n",
              "    30% {\n",
              "      border-color: transparent;\n",
              "      border-left-color: var(--fill-color);\n",
              "      border-top-color: var(--fill-color);\n",
              "      border-right-color: var(--fill-color);\n",
              "    }\n",
              "    40% {\n",
              "      border-color: transparent;\n",
              "      border-right-color: var(--fill-color);\n",
              "      border-top-color: var(--fill-color);\n",
              "    }\n",
              "    60% {\n",
              "      border-color: transparent;\n",
              "      border-right-color: var(--fill-color);\n",
              "    }\n",
              "    80% {\n",
              "      border-color: transparent;\n",
              "      border-right-color: var(--fill-color);\n",
              "      border-bottom-color: var(--fill-color);\n",
              "    }\n",
              "    90% {\n",
              "      border-color: transparent;\n",
              "      border-bottom-color: var(--fill-color);\n",
              "    }\n",
              "  }\n",
              "</style>\n",
              "\n",
              "  <script>\n",
              "    async function quickchart(key) {\n",
              "      const quickchartButtonEl =\n",
              "        document.querySelector('#' + key + ' button');\n",
              "      quickchartButtonEl.disabled = true;  // To prevent multiple clicks.\n",
              "      quickchartButtonEl.classList.add('colab-df-spinner');\n",
              "      try {\n",
              "        const charts = await google.colab.kernel.invokeFunction(\n",
              "            'suggestCharts', [key], {});\n",
              "      } catch (error) {\n",
              "        console.error('Error during call to suggestCharts:', error);\n",
              "      }\n",
              "      quickchartButtonEl.classList.remove('colab-df-spinner');\n",
              "      quickchartButtonEl.classList.add('colab-df-quickchart-complete');\n",
              "    }\n",
              "    (() => {\n",
              "      let quickchartButtonEl =\n",
              "        document.querySelector('#df-469e8f77-aebf-4a5c-a493-792327094c25 button');\n",
              "      quickchartButtonEl.style.display =\n",
              "        google.colab.kernel.accessAllowed ? 'block' : 'none';\n",
              "    })();\n",
              "  </script>\n",
              "</div>\n",
              "\n",
              "    </div>\n",
              "  </div>\n"
            ],
            "application/vnd.google.colaboratory.intrinsic+json": {
              "type": "dataframe",
              "variable_name": "df_comparison",
              "summary": "{\n  \"name\": \"df_comparison\",\n  \"rows\": 5,\n  \"fields\": [\n    {\n      \"column\": \"Metric\",\n      \"properties\": {\n        \"dtype\": \"string\",\n        \"num_unique_values\": 5,\n        \"samples\": [\n          \"F1 max\",\n          \"Validation loss final\",\n          \"Training time (sec)\"\n        ],\n        \"semantic_type\": \"\",\n        \"description\": \"\"\n      }\n    },\n    {\n      \"column\": \"Full Fine-tuning\",\n      \"properties\": {\n        \"dtype\": \"number\",\n        \"std\": 151.3291714469256,\n        \"min\": 0.0739,\n        \"max\": 339.0,\n        \"num_unique_values\": 5,\n        \"samples\": [\n          0.9905,\n          0.4286,\n          339.0\n        ],\n        \"semantic_type\": \"\",\n        \"description\": \"\"\n      }\n    },\n    {\n      \"column\": \"LoRA\",\n      \"properties\": {\n        \"dtype\": \"number\",\n        \"std\": 90.08767740581949,\n        \"min\": 0.1649,\n        \"max\": 202.0,\n        \"num_unique_values\": 5,\n        \"samples\": [\n          0.9678,\n          0.1681,\n          202.0\n        ],\n        \"semantic_type\": \"\",\n        \"description\": \"\"\n      }\n    }\n  ]\n}"
            }
          },
          "metadata": {},
          "execution_count": 63
        }
      ]
    },
    {
      "cell_type": "code",
      "source": [
        "# Get best checkpoint path for LoRA\n",
        "lora_best_checkpoint = trainer.state.best_model_checkpoint\n",
        "print(\"🔎 Best LoRA model checkpoint path:\", lora_best_checkpoint)\n",
        "\n",
        "# Extract step\n",
        "match = re.search(r\"checkpoint-(\\d+)\", lora_best_checkpoint)\n",
        "if match:\n",
        "    lora_best_step = int(match.group(1))\n",
        "    print(\"Best step (LoRA):\", lora_best_step)\n"
      ],
      "metadata": {
        "colab": {
          "base_uri": "https://localhost:8080/"
        },
        "id": "OtqBezrypDZQ",
        "outputId": "174918bb-42ec-4efc-96c4-9c524d1917cd"
      },
      "execution_count": null,
      "outputs": [
        {
          "output_type": "stream",
          "name": "stdout",
          "text": [
            "🔎 Best LoRA model checkpoint path: ./results/checkpoint-1434\n",
            "Best step (LoRA): 1434\n"
          ]
        }
      ]
    },
    {
      "cell_type": "code",
      "source": [
        "# Define your save path\n",
        "save_path = \"./app/bert_sentiment_lora\"\n",
        "\n",
        "# Save LoRA adapters\n",
        "lora_model.save_pretrained(save_path)\n",
        "\n",
        "# Save tokenizer (same tokenizer as before)\n",
        "tokenizer.save_pretrained(save_path)\n",
        "\n",
        "print(f\"LoRA model and tokenizer saved to {save_path}\")\n"
      ],
      "metadata": {
        "colab": {
          "base_uri": "https://localhost:8080/"
        },
        "id": "kPZN4GFcpIMs",
        "outputId": "8aee8c63-9224-4cb1-8ae7-38dc7c6b6907"
      },
      "execution_count": null,
      "outputs": [
        {
          "output_type": "stream",
          "name": "stdout",
          "text": [
            "LoRA model and tokenizer saved to ./app/bert_sentiment_lora\n"
          ]
        }
      ]
    },
    {
      "cell_type": "markdown",
      "source": [
        "### Save Final Model for Reuse (LoRA)"
      ],
      "metadata": {
        "id": "_bZLfukCSELe"
      }
    },
    {
      "cell_type": "code",
      "source": [
        "from peft import PeftModel\n",
        "from transformers import AutoModelForSequenceClassification, AutoTokenizer\n",
        "\n",
        "# Function to load LoRA fine-tuned model and tokenizer\n",
        "def load_classification_model():\n",
        "    base_model = AutoModelForSequenceClassification.from_pretrained(\"bert-base-uncased\", num_labels=2)\n",
        "    model = PeftModel.from_pretrained(base_model, \"app/bert_sentiment_lora\")\n",
        "    tokenizer = AutoTokenizer.from_pretrained(\"app/bert_sentiment_lora\")\n",
        "    model.eval()\n",
        "    return tokenizer, model\n",
        "\n",
        "# Load model (to be reused in Notebook 2 or Streamlit)\n",
        "cls_tokenizer, cls_model = load_classification_model()\n"
      ],
      "metadata": {
        "id": "gv9WYV7L_il4",
        "colab": {
          "base_uri": "https://localhost:8080/"
        },
        "outputId": "c240d05c-3a8e-4285-a742-f3abe145d292"
      },
      "execution_count": null,
      "outputs": [
        {
          "output_type": "stream",
          "name": "stderr",
          "text": [
            "Some weights of BertForSequenceClassification were not initialized from the model checkpoint at bert-base-uncased and are newly initialized: ['classifier.bias', 'classifier.weight']\n",
            "You should probably TRAIN this model on a down-stream task to be able to use it for predictions and inference.\n"
          ]
        }
      ]
    },
    {
      "cell_type": "code",
      "source": [
        "print(\"Model is ready for inference\")\n",
        "inputs = cls_tokenizer(\"Great product, fast delivery!\", return_tensors=\"pt\")\n",
        "with torch.no_grad():\n",
        "    outputs = cls_model(**inputs)\n",
        "    probs = torch.nn.functional.softmax(outputs.logits, dim=-1)\n",
        "    print(\"Predicted probabilities:\", probs)"
      ],
      "metadata": {
        "colab": {
          "base_uri": "https://localhost:8080/"
        },
        "id": "2fb4OPoYp_4B",
        "outputId": "30f77fc4-1328-4ab0-a662-99499d2fd934"
      },
      "execution_count": null,
      "outputs": [
        {
          "output_type": "stream",
          "name": "stdout",
          "text": [
            "Model is ready for inference\n",
            "Predicted probabilities: tensor([[0.0022, 0.9978]])\n"
          ]
        }
      ]
    },
    {
      "cell_type": "markdown",
      "source": [
        "### Inference Check – LoRA Model\n",
        "\n",
        "The model has been successfully loaded using the base BERT architecture combined with the LoRA adapters.\n",
        "\n",
        "We tested it on a simple sentence and verified that it produces a valid output, meaning the LoRA weights were correctly applied.\n",
        "\n",
        "This confirms that the model is now ready for:\n",
        "- Use in downstream tasks (in our case,  response generation)\n",
        "- Integration into a web application via Streamlit\n"
      ],
      "metadata": {
        "id": "CrmHLhiMqMX9"
      }
    },
    {
      "cell_type": "markdown",
      "source": [
        "### 📊 Training Analysis – LoRA Fine-Tuning (Best Model)\n",
        "\n",
        "We now plot the training and validation curves for the best model obtained using LoRA fine-tuning.\n",
        "\n",
        "As before, the model was selected based on the highest **F1-score**. We visualize both the **training and validation losses**, as well as the **validation F1-score** over the 3 training epochs.\n"
      ],
      "metadata": {
        "id": "HKgz3xhwq3iR"
      }
    },
    {
      "cell_type": "code",
      "source": [
        "# 📊 Plot training & validation loss + validation F1 for LoRA model\n",
        "\n",
        "# Retrieve logs after LoRA fine-tuning\n",
        "lora_logs = trainer.state.log_history\n",
        "lora_logs = [log for log in lora_logs if \"epoch\" in log and log[\"epoch\"] <= 3.0]\n",
        "\n",
        "# Extract metrics\n",
        "lora_train_epochs = [log[\"epoch\"] for log in lora_logs if \"loss\" in log and \"eval_loss\" not in log]\n",
        "lora_train_losses = [log[\"loss\"] for log in lora_logs if \"loss\" in log and \"eval_loss\" not in log]\n",
        "\n",
        "lora_eval_epochs = [log[\"epoch\"] for log in lora_logs if \"eval_loss\" in log]\n",
        "lora_eval_losses = [log[\"eval_loss\"] for log in lora_logs if \"eval_loss\" in log]\n",
        "lora_eval_f1s = [log[\"eval_f1\"] for log in lora_logs if \"eval_f1\" in log]\n",
        "\n",
        "# Plotting\n",
        "plt.figure(figsize=(14, 5))\n",
        "\n",
        "# Loss\n",
        "plt.subplot(1, 2, 1)\n",
        "plt.plot(lora_train_epochs, lora_train_losses, label=\"Train Loss (LoRA)\", marker='o')\n",
        "plt.plot(lora_eval_epochs, lora_eval_losses, label=\"Validation Loss (LoRA)\", marker='x')\n",
        "plt.title(\"Loss per Epoch (LoRA Fine-Tuning)\")\n",
        "plt.xlabel(\"Epoch\")\n",
        "plt.ylabel(\"Loss\")\n",
        "plt.legend()\n",
        "plt.grid(True)\n",
        "\n",
        "# F1\n",
        "plt.subplot(1, 2, 2)\n",
        "plt.plot(lora_eval_epochs, lora_eval_f1s, label=\"Validation F1 (LoRA)\", marker='o', color='purple')\n",
        "plt.title(\"Validation F1 Score per Epoch (LoRA Fine-Tuning)\")\n",
        "plt.xlabel(\"Epoch\")\n",
        "plt.ylabel(\"F1 Score\")\n",
        "plt.legend()\n",
        "plt.grid(True)\n",
        "\n",
        "plt.tight_layout()\n",
        "plt.show()\n"
      ],
      "metadata": {
        "colab": {
          "base_uri": "https://localhost:8080/",
          "height": 527
        },
        "id": "Tla7OKiUq7Is",
        "outputId": "8941eb16-384e-4220-feee-4e795cc6d66e"
      },
      "execution_count": null,
      "outputs": [
        {
          "output_type": "display_data",
          "data": {
            "text/plain": [
              "<Figure size 1400x500 with 2 Axes>"
            ],
            "image/png": "[encoded data removed]"
          },
          "metadata": {}
        }
      ]
    },
    {
      "cell_type": "markdown",
      "source": [
        "### Model Selection Justification\n",
        "\n",
        "Based on the training curves, both models show good performance, but with different dynamics:\n",
        "\n",
        "- The **full fine-tuning** model achieved slightly higher F1 and accuracy scores overall. However, its **validation loss decreased and then increased**, which may indicate the beginning of overfitting.\n",
        "- In contrast, the **LoRA fine-tuned model** showed a **consistently decreasing loss** on both training and validation sets, and its **F1-score steadily increased** over the epochs.\n",
        "\n",
        "Despite having slightly lower peak performance, the LoRA model demonstrates **better generalization stability** and a **lighter memory footprint**, which makes it more suitable for deployment.\n",
        "\n",
        "We therefore choose the **LoRA model** as our final model for inference and response generation.\n"
      ],
      "metadata": {
        "id": "hzAoZZLHrpxp"
      }
    },
    {
      "cell_type": "markdown",
      "source": [
        "## Saving Results and Final Model\n",
        "\n",
        "To use our classifier in the next phase (response generation and app interface), we save:\n",
        "\n",
        "- A CSV file containing the test texts, true labels, and predicted sentiments.\n",
        "- The LoRA fine-tuned model and tokenizer, ready to be reloaded and used for inference.\n",
        "\n",
        "This ensures that the model is easily portable across notebooks and applications.\n"
      ],
      "metadata": {
        "id": "cpbiY7CCsoLs"
      }
    },
    {
      "cell_type": "markdown",
      "source": [
        "#### Save test_with_predictions.csv"
      ],
      "metadata": {
        "id": "XvFSALTLsPS1"
      }
    },
    {
      "cell_type": "code",
      "source": [
        "import shutil\n",
        "# Generate predictions on test set\n",
        "predictions = trainer.predict(tokenized_test)\n",
        "predicted_probs = torch.nn.functional.softmax(torch.tensor(predictions.predictions), dim=-1)\n",
        "predicted_labels = predicted_probs.argmax(dim=1).numpy()\n",
        "\n",
        "# Recreate the test texts from the original dataframe\n",
        "test_df_with_texts = test_df.copy()\n",
        "test_df_with_texts[\"predicted_label\"] = predicted_labels\n",
        "test_df_with_texts[\"predicted_sentiment\"] = test_df_with_texts[\"predicted_label\"].apply(lambda x: \"positive\" if x == 1 else \"negative\")\n",
        "\n",
        "# Save directly into app/ folder\n",
        "output_path = \"app/test_with_predictions.csv\"\n",
        "test_df_with_texts.to_csv(output_path, index=False)\n",
        "\n",
        "print(f\" test_with_predictions.csv saved to {output_path}\")\n"
      ],
      "metadata": {
        "colab": {
          "base_uri": "https://localhost:8080/",
          "height": 34
        },
        "id": "u5Cf1KYTsGHH",
        "outputId": "d0b02470-1175-475d-d04c-bd92c74502ad"
      },
      "execution_count": null,
      "outputs": [
        {
          "output_type": "display_data",
          "data": {
            "text/plain": [
              "<IPython.core.display.HTML object>"
            ],
            "text/html": []
          },
          "metadata": {}
        },
        {
          "output_type": "stream",
          "name": "stdout",
          "text": [
            " test_with_predictions.csv saved to app/test_with_predictions.csv\n"
          ]
        }
      ]
    },
    {
      "cell_type": "markdown",
      "source": [
        "#### Save LoRA model and tokenizer (local folder)"
      ],
      "metadata": {
        "id": "YUjvh_79sXCD"
      }
    },
    {
      "cell_type": "code",
      "source": [
        "# Define path\n",
        "save_path = \"./app/bert_sentiment_lora\"\n",
        "\n",
        "# Save model\n",
        "lora_model.save_pretrained(save_path)\n",
        "\n",
        "# Save tokenizer\n",
        "tokenizer.save_pretrained(save_path)\n",
        "\n",
        "print(f\" LoRA model and tokenizer saved to {save_path}\")\n"
      ],
      "metadata": {
        "colab": {
          "base_uri": "https://localhost:8080/"
        },
        "id": "7mlfFCQisbMY",
        "outputId": "95d1214b-5eb8-4502-96bb-d493559dbf2c"
      },
      "execution_count": null,
      "outputs": [
        {
          "output_type": "stream",
          "name": "stdout",
          "text": [
            " LoRA model and tokenizer saved to ./app/bert_sentiment_lora\n"
          ]
        }
      ]
    },
    {
      "cell_type": "code",
      "source": [
        "# Compress the entire 'app/' directory into a single ZIP file\n",
        "shutil.make_archive(\"bert_sentiment_package\", format=\"zip\", root_dir=\"app\")\n",
        "\n",
        "print(\"All files in 'app/' have been compressed into 'bert_sentiment_package.zip'\")"
      ],
      "metadata": {
        "colab": {
          "base_uri": "https://localhost:8080/"
        },
        "id": "aSaznS2ovyxh",
        "outputId": "f714f731-2ce0-4df0-e6ef-a81c0ad50a57"
      },
      "execution_count": null,
      "outputs": [
        {
          "output_type": "stream",
          "name": "stdout",
          "text": [
            "All files in 'app/' have been compressed into 'bert_sentiment_package.zip'\n"
          ]
        }
      ]
    },
    {
      "cell_type": "code",
      "source": [
        "from google.colab import files\n",
        "files.download(\"bert_sentiment_package.zip\")\n"
      ],
      "metadata": {
        "colab": {
          "base_uri": "https://localhost:8080/",
          "height": 17
        },
        "id": "xpzrR_MHxKyF",
        "outputId": "3a1199ff-ead0-4016-91bf-076eb13092f7"
      },
      "execution_count": null,
      "outputs": [
        {
          "output_type": "display_data",
          "data": {
            "text/plain": [
              "<IPython.core.display.Javascript object>"
            ],
            "application/javascript": [
              "\n",
              "    async function download(id, filename, size) {\n",
              "      if (!google.colab.kernel.accessAllowed) {\n",
              "        return;\n",
              "      }\n",
              "      const div = document.createElement('div');\n",
              "      const label = document.createElement('label');\n",
              "      label.textContent = `Downloading \"${filename}\": `;\n",
              "      div.appendChild(label);\n",
              "      const progress = document.createElement('progress');\n",
              "      progress.max = size;\n",
              "      div.appendChild(progress);\n",
              "      document.body.appendChild(div);\n",
              "\n",
              "      const buffers = [];\n",
              "      let downloaded = 0;\n",
              "\n",
              "      const channel = await google.colab.kernel.comms.open(id);\n",
              "      // Send a message to notify the kernel that we're ready.\n",
              "      channel.send({})\n",
              "\n",
              "      for await (const message of channel.messages) {\n",
              "        // Send a message to notify the kernel that we're ready.\n",
              "        channel.send({})\n",
              "        if (message.buffers) {\n",
              "          for (const buffer of message.buffers) {\n",
              "            buffers.push(buffer);\n",
              "            downloaded += buffer.byteLength;\n",
              "            progress.value = downloaded;\n",
              "          }\n",
              "        }\n",
              "      }\n",
              "      const blob = new Blob(buffers, {type: 'application/binary'});\n",
              "      const a = document.createElement('a');\n",
              "      a.href = window.URL.createObjectURL(blob);\n",
              "      a.download = filename;\n",
              "      div.appendChild(a);\n",
              "      a.click();\n",
              "      div.remove();\n",
              "    }\n",
              "  "
            ]
          },
          "metadata": {}
        },
        {
          "output_type": "display_data",
          "data": {
            "text/plain": [
              "<IPython.core.display.Javascript object>"
            ],
            "application/javascript": [
              "download(\"download_97dab7ce-5277-4bbf-a720-9cb8ca996f5f\", \"bert_sentiment_package.zip\", 764550)"
            ]
          },
          "metadata": {}
        }
      ]
    }
  ],
  "metadata": {
    "kernelspec": {
      "display_name": "Python 3",
      "name": "python3"
    },
    "language_info": {
      "codemirror_mode": {
        "name": "ipython",
        "version": 3
      },
      "file_extension": ".py",
      "mimetype": "text/x-python",
      "name": "python",
      "nbconvert_exporter": "python",
      "pygments_lexer": "ipython3",
      "version": "3.11.7"
    },
    "colab": {
      "provenance": [],
      "gpuType": "T4",
      "machine_shape": "hm"
    },
    "widgets": {
      "application/vnd.jupyter.widget-state+json": {
        "a909fbed4dc346278fadd8a420213f9b": {
          "model_module": "@jupyter-widgets/controls",
          "model_name": "HBoxModel",
          "model_module_version": "1.5.0",
          "state": {
            "_dom_classes": [],
            "_model_module": "@jupyter-widgets/controls",
            "_model_module_version": "1.5.0",
            "_model_name": "HBoxModel",
            "_view_count": null,
            "_view_module": "@jupyter-widgets/controls",
            "_view_module_version": "1.5.0",
            "_view_name": "HBoxView",
            "box_style": "",
            "children": [
              "IPY_MODEL_6e50fa6f9f844d1db33425b94ca8bb0c",
              "IPY_MODEL_bb19975db0764ceeb560ba30983ee579",
              "IPY_MODEL_437d9545b7e7416b829da4277433fc55"
            ],
            "layout": "IPY_MODEL_01d5b4b5660b41ff88a4d513bdb23e06"
          }
        },
        "6e50fa6f9f844d1db33425b94ca8bb0c": {
          "model_module": "@jupyter-widgets/controls",
          "model_name": "HTMLModel",
          "model_module_version": "1.5.0",
          "state": {
            "_dom_classes": [],
            "_model_module": "@jupyter-widgets/controls",
            "_model_module_version": "1.5.0",
            "_model_name": "HTMLModel",
            "_view_count": null,
            "_view_module": "@jupyter-widgets/controls",
            "_view_module_version": "1.5.0",
            "_view_name": "HTMLView",
            "description": "",
            "description_tooltip": null,
            "layout": "IPY_MODEL_c9827c0a248047d282ad7c5d880205e5",
            "placeholder": "​",
            "style": "IPY_MODEL_ebf0a9cf97c047f39f2ddc75b64822fc",
            "value": "tokenizer_config.json: 100%"
          }
        },
        "bb19975db0764ceeb560ba30983ee579": {
          "model_module": "@jupyter-widgets/controls",
          "model_name": "FloatProgressModel",
          "model_module_version": "1.5.0",
          "state": {
            "_dom_classes": [],
            "_model_module": "@jupyter-widgets/controls",
            "_model_module_version": "1.5.0",
            "_model_name": "FloatProgressModel",
            "_view_count": null,
            "_view_module": "@jupyter-widgets/controls",
            "_view_module_version": "1.5.0",
            "_view_name": "ProgressView",
            "bar_style": "success",
            "description": "",
            "description_tooltip": null,
            "layout": "IPY_MODEL_8995487c3f8e455d9580f6275e89ee83",
            "max": 48,
            "min": 0,
            "orientation": "horizontal",
            "style": "IPY_MODEL_7f31c15326bd412e99507ce1d607d498",
            "value": 48
          }
        },
        "437d9545b7e7416b829da4277433fc55": {
          "model_module": "@jupyter-widgets/controls",
          "model_name": "HTMLModel",
          "model_module_version": "1.5.0",
          "state": {
            "_dom_classes": [],
            "_model_module": "@jupyter-widgets/controls",
            "_model_module_version": "1.5.0",
            "_model_name": "HTMLModel",
            "_view_count": null,
            "_view_module": "@jupyter-widgets/controls",
            "_view_module_version": "1.5.0",
            "_view_name": "HTMLView",
            "description": "",
            "description_tooltip": null,
            "layout": "IPY_MODEL_977de7b5de6242c89d397c485f77d243",
            "placeholder": "​",
            "style": "IPY_MODEL_a6ddd13437404083b596a54c645614ed",
            "value": " 48.0/48.0 [00:00&lt;00:00, 4.41kB/s]"
          }
        },
        "01d5b4b5660b41ff88a4d513bdb23e06": {
          "model_module": "@jupyter-widgets/base",
          "model_name": "LayoutModel",
          "model_module_version": "1.2.0",
          "state": {
            "_model_module": "@jupyter-widgets/base",
            "_model_module_version": "1.2.0",
            "_model_name": "LayoutModel",
            "_view_count": null,
            "_view_module": "@jupyter-widgets/base",
            "_view_module_version": "1.2.0",
            "_view_name": "LayoutView",
            "align_content": null,
            "align_items": null,
            "align_self": null,
            "border": null,
            "bottom": null,
            "display": null,
            "flex": null,
            "flex_flow": null,
            "grid_area": null,
            "grid_auto_columns": null,
            "grid_auto_flow": null,
            "grid_auto_rows": null,
            "grid_column": null,
            "grid_gap": null,
            "grid_row": null,
            "grid_template_areas": null,
            "grid_template_columns": null,
            "grid_template_rows": null,
            "height": null,
            "justify_content": null,
            "justify_items": null,
            "left": null,
            "margin": null,
            "max_height": null,
            "max_width": null,
            "min_height": null,
            "min_width": null,
            "object_fit": null,
            "object_position": null,
            "order": null,
            "overflow": null,
            "overflow_x": null,
            "overflow_y": null,
            "padding": null,
            "right": null,
            "top": null,
            "visibility": null,
            "width": null
          }
        },
        "c9827c0a248047d282ad7c5d880205e5": {
          "model_module": "@jupyter-widgets/base",
          "model_name": "LayoutModel",
          "model_module_version": "1.2.0",
          "state": {
            "_model_module": "@jupyter-widgets/base",
            "_model_module_version": "1.2.0",
            "_model_name": "LayoutModel",
            "_view_count": null,
            "_view_module": "@jupyter-widgets/base",
            "_view_module_version": "1.2.0",
            "_view_name": "LayoutView",
            "align_content": null,
            "align_items": null,
            "align_self": null,
            "border": null,
            "bottom": null,
            "display": null,
            "flex": null,
            "flex_flow": null,
            "grid_area": null,
            "grid_auto_columns": null,
            "grid_auto_flow": null,
            "grid_auto_rows": null,
            "grid_column": null,
            "grid_gap": null,
            "grid_row": null,
            "grid_template_areas": null,
            "grid_template_columns": null,
            "grid_template_rows": null,
            "height": null,
            "justify_content": null,
            "justify_items": null,
            "left": null,
            "margin": null,
            "max_height": null,
            "max_width": null,
            "min_height": null,
            "min_width": null,
            "object_fit": null,
            "object_position": null,
            "order": null,
            "overflow": null,
            "overflow_x": null,
            "overflow_y": null,
            "padding": null,
            "right": null,
            "top": null,
            "visibility": null,
            "width": null
          }
        },
        "ebf0a9cf97c047f39f2ddc75b64822fc": {
          "model_module": "@jupyter-widgets/controls",
          "model_name": "DescriptionStyleModel",
          "model_module_version": "1.5.0",
          "state": {
            "_model_module": "@jupyter-widgets/controls",
            "_model_module_version": "1.5.0",
            "_model_name": "DescriptionStyleModel",
            "_view_count": null,
            "_view_module": "@jupyter-widgets/base",
            "_view_module_version": "1.2.0",
            "_view_name": "StyleView",
            "description_width": ""
          }
        },
        "8995487c3f8e455d9580f6275e89ee83": {
          "model_module": "@jupyter-widgets/base",
          "model_name": "LayoutModel",
          "model_module_version": "1.2.0",
          "state": {
            "_model_module": "@jupyter-widgets/base",
            "_model_module_version": "1.2.0",
            "_model_name": "LayoutModel",
            "_view_count": null,
            "_view_module": "@jupyter-widgets/base",
            "_view_module_version": "1.2.0",
            "_view_name": "LayoutView",
            "align_content": null,
            "align_items": null,
            "align_self": null,
            "border": null,
            "bottom": null,
            "display": null,
            "flex": null,
            "flex_flow": null,
            "grid_area": null,
            "grid_auto_columns": null,
            "grid_auto_flow": null,
            "grid_auto_rows": null,
            "grid_column": null,
            "grid_gap": null,
            "grid_row": null,
            "grid_template_areas": null,
            "grid_template_columns": null,
            "grid_template_rows": null,
            "height": null,
            "justify_content": null,
            "justify_items": null,
            "left": null,
            "margin": null,
            "max_height": null,
            "max_width": null,
            "min_height": null,
            "min_width": null,
            "object_fit": null,
            "object_position": null,
            "order": null,
            "overflow": null,
            "overflow_x": null,
            "overflow_y": null,
            "padding": null,
            "right": null,
            "top": null,
            "visibility": null,
            "width": null
          }
        },
        "7f31c15326bd412e99507ce1d607d498": {
          "model_module": "@jupyter-widgets/controls",
          "model_name": "ProgressStyleModel",
          "model_module_version": "1.5.0",
          "state": {
            "_model_module": "@jupyter-widgets/controls",
            "_model_module_version": "1.5.0",
            "_model_name": "ProgressStyleModel",
            "_view_count": null,
            "_view_module": "@jupyter-widgets/base",
            "_view_module_version": "1.2.0",
            "_view_name": "StyleView",
            "bar_color": null,
            "description_width": ""
          }
        },
        "977de7b5de6242c89d397c485f77d243": {
          "model_module": "@jupyter-widgets/base",
          "model_name": "LayoutModel",
          "model_module_version": "1.2.0",
          "state": {
            "_model_module": "@jupyter-widgets/base",
            "_model_module_version": "1.2.0",
            "_model_name": "LayoutModel",
            "_view_count": null,
            "_view_module": "@jupyter-widgets/base",
            "_view_module_version": "1.2.0",
            "_view_name": "LayoutView",
            "align_content": null,
            "align_items": null,
            "align_self": null,
            "border": null,
            "bottom": null,
            "display": null,
            "flex": null,
            "flex_flow": null,
            "grid_area": null,
            "grid_auto_columns": null,
            "grid_auto_flow": null,
            "grid_auto_rows": null,
            "grid_column": null,
            "grid_gap": null,
            "grid_row": null,
            "grid_template_areas": null,
            "grid_template_columns": null,
            "grid_template_rows": null,
            "height": null,
            "justify_content": null,
            "justify_items": null,
            "left": null,
            "margin": null,
            "max_height": null,
            "max_width": null,
            "min_height": null,
            "min_width": null,
            "object_fit": null,
            "object_position": null,
            "order": null,
            "overflow": null,
            "overflow_x": null,
            "overflow_y": null,
            "padding": null,
            "right": null,
            "top": null,
            "visibility": null,
            "width": null
          }
        },
        "a6ddd13437404083b596a54c645614ed": {
          "model_module": "@jupyter-widgets/controls",
          "model_name": "DescriptionStyleModel",
          "model_module_version": "1.5.0",
          "state": {
            "_model_module": "@jupyter-widgets/controls",
            "_model_module_version": "1.5.0",
            "_model_name": "DescriptionStyleModel",
            "_view_count": null,
            "_view_module": "@jupyter-widgets/base",
            "_view_module_version": "1.2.0",
            "_view_name": "StyleView",
            "description_width": ""
          }
        },
        "f86f2bd98a0c40aa81c227f81bf26f93": {
          "model_module": "@jupyter-widgets/controls",
          "model_name": "HBoxModel",
          "model_module_version": "1.5.0",
          "state": {
            "_dom_classes": [],
            "_model_module": "@jupyter-widgets/controls",
            "_model_module_version": "1.5.0",
            "_model_name": "HBoxModel",
            "_view_count": null,
            "_view_module": "@jupyter-widgets/controls",
            "_view_module_version": "1.5.0",
            "_view_name": "HBoxView",
            "box_style": "",
            "children": [
              "IPY_MODEL_9b9d8a52af624f67bdea36aab25bc33c",
              "IPY_MODEL_1882144119e547d694b38589b4c94355",
              "IPY_MODEL_61097473bf044b6a919b0608703679fe"
            ],
            "layout": "IPY_MODEL_1865fbe0cef94ac48016aab55c831628"
          }
        },
        "9b9d8a52af624f67bdea36aab25bc33c": {
          "model_module": "@jupyter-widgets/controls",
          "model_name": "HTMLModel",
          "model_module_version": "1.5.0",
          "state": {
            "_dom_classes": [],
            "_model_module": "@jupyter-widgets/controls",
            "_model_module_version": "1.5.0",
            "_model_name": "HTMLModel",
            "_view_count": null,
            "_view_module": "@jupyter-widgets/controls",
            "_view_module_version": "1.5.0",
            "_view_name": "HTMLView",
            "description": "",
            "description_tooltip": null,
            "layout": "IPY_MODEL_3889a0414b5941b6bd80d760a11e83a6",
            "placeholder": "​",
            "style": "IPY_MODEL_a8963487c8974ec3b4d28d728f8c9b97",
            "value": "vocab.txt: 100%"
          }
        },
        "1882144119e547d694b38589b4c94355": {
          "model_module": "@jupyter-widgets/controls",
          "model_name": "FloatProgressModel",
          "model_module_version": "1.5.0",
          "state": {
            "_dom_classes": [],
            "_model_module": "@jupyter-widgets/controls",
            "_model_module_version": "1.5.0",
            "_model_name": "FloatProgressModel",
            "_view_count": null,
            "_view_module": "@jupyter-widgets/controls",
            "_view_module_version": "1.5.0",
            "_view_name": "ProgressView",
            "bar_style": "success",
            "description": "",
            "description_tooltip": null,
            "layout": "IPY_MODEL_23e2a8ad82a3481f987a51d4004ef061",
            "max": 231508,
            "min": 0,
            "orientation": "horizontal",
            "style": "IPY_MODEL_c07ffb798c244341a8830704d4f8e7f4",
            "value": 231508
          }
        },
        "61097473bf044b6a919b0608703679fe": {
          "model_module": "@jupyter-widgets/controls",
          "model_name": "HTMLModel",
          "model_module_version": "1.5.0",
          "state": {
            "_dom_classes": [],
            "_model_module": "@jupyter-widgets/controls",
            "_model_module_version": "1.5.0",
            "_model_name": "HTMLModel",
            "_view_count": null,
            "_view_module": "@jupyter-widgets/controls",
            "_view_module_version": "1.5.0",
            "_view_name": "HTMLView",
            "description": "",
            "description_tooltip": null,
            "layout": "IPY_MODEL_996858cd1f5a46e69545856093a8d235",
            "placeholder": "​",
            "style": "IPY_MODEL_7b8a1757b6c041dbad69dee966095351",
            "value": " 232k/232k [00:00&lt;00:00, 4.03MB/s]"
          }
        },
        "1865fbe0cef94ac48016aab55c831628": {
          "model_module": "@jupyter-widgets/base",
          "model_name": "LayoutModel",
          "model_module_version": "1.2.0",
          "state": {
            "_model_module": "@jupyter-widgets/base",
            "_model_module_version": "1.2.0",
            "_model_name": "LayoutModel",
            "_view_count": null,
            "_view_module": "@jupyter-widgets/base",
            "_view_module_version": "1.2.0",
            "_view_name": "LayoutView",
            "align_content": null,
            "align_items": null,
            "align_self": null,
            "border": null,
            "bottom": null,
            "display": null,
            "flex": null,
            "flex_flow": null,
            "grid_area": null,
            "grid_auto_columns": null,
            "grid_auto_flow": null,
            "grid_auto_rows": null,
            "grid_column": null,
            "grid_gap": null,
            "grid_row": null,
            "grid_template_areas": null,
            "grid_template_columns": null,
            "grid_template_rows": null,
            "height": null,
            "justify_content": null,
            "justify_items": null,
            "left": null,
            "margin": null,
            "max_height": null,
            "max_width": null,
            "min_height": null,
            "min_width": null,
            "object_fit": null,
            "object_position": null,
            "order": null,
            "overflow": null,
            "overflow_x": null,
            "overflow_y": null,
            "padding": null,
            "right": null,
            "top": null,
            "visibility": null,
            "width": null
          }
        },
        "3889a0414b5941b6bd80d760a11e83a6": {
          "model_module": "@jupyter-widgets/base",
          "model_name": "LayoutModel",
          "model_module_version": "1.2.0",
          "state": {
            "_model_module": "@jupyter-widgets/base",
            "_model_module_version": "1.2.0",
            "_model_name": "LayoutModel",
            "_view_count": null,
            "_view_module": "@jupyter-widgets/base",
            "_view_module_version": "1.2.0",
            "_view_name": "LayoutView",
            "align_content": null,
            "align_items": null,
            "align_self": null,
            "border": null,
            "bottom": null,
            "display": null,
            "flex": null,
            "flex_flow": null,
            "grid_area": null,
            "grid_auto_columns": null,
            "grid_auto_flow": null,
            "grid_auto_rows": null,
            "grid_column": null,
            "grid_gap": null,
            "grid_row": null,
            "grid_template_areas": null,
            "grid_template_columns": null,
            "grid_template_rows": null,
            "height": null,
            "justify_content": null,
            "justify_items": null,
            "left": null,
            "margin": null,
            "max_height": null,
            "max_width": null,
            "min_height": null,
            "min_width": null,
            "object_fit": null,
            "object_position": null,
            "order": null,
            "overflow": null,
            "overflow_x": null,
            "overflow_y": null,
            "padding": null,
            "right": null,
            "top": null,
            "visibility": null,
            "width": null
          }
        },
        "a8963487c8974ec3b4d28d728f8c9b97": {
          "model_module": "@jupyter-widgets/controls",
          "model_name": "DescriptionStyleModel",
          "model_module_version": "1.5.0",
          "state": {
            "_model_module": "@jupyter-widgets/controls",
            "_model_module_version": "1.5.0",
            "_model_name": "DescriptionStyleModel",
            "_view_count": null,
            "_view_module": "@jupyter-widgets/base",
            "_view_module_version": "1.2.0",
            "_view_name": "StyleView",
            "description_width": ""
          }
        },
        "23e2a8ad82a3481f987a51d4004ef061": {
          "model_module": "@jupyter-widgets/base",
          "model_name": "LayoutModel",
          "model_module_version": "1.2.0",
          "state": {
            "_model_module": "@jupyter-widgets/base",
            "_model_module_version": "1.2.0",
            "_model_name": "LayoutModel",
            "_view_count": null,
            "_view_module": "@jupyter-widgets/base",
            "_view_module_version": "1.2.0",
            "_view_name": "LayoutView",
            "align_content": null,
            "align_items": null,
            "align_self": null,
            "border": null,
            "bottom": null,
            "display": null,
            "flex": null,
            "flex_flow": null,
            "grid_area": null,
            "grid_auto_columns": null,
            "grid_auto_flow": null,
            "grid_auto_rows": null,
            "grid_column": null,
            "grid_gap": null,
            "grid_row": null,
            "grid_template_areas": null,
            "grid_template_columns": null,
            "grid_template_rows": null,
            "height": null,
            "justify_content": null,
            "justify_items": null,
            "left": null,
            "margin": null,
            "max_height": null,
            "max_width": null,
            "min_height": null,
            "min_width": null,
            "object_fit": null,
            "object_position": null,
            "order": null,
            "overflow": null,
            "overflow_x": null,
            "overflow_y": null,
            "padding": null,
            "right": null,
            "top": null,
            "visibility": null,
            "width": null
          }
        },
        "c07ffb798c244341a8830704d4f8e7f4": {
          "model_module": "@jupyter-widgets/controls",
          "model_name": "ProgressStyleModel",
          "model_module_version": "1.5.0",
          "state": {
            "_model_module": "@jupyter-widgets/controls",
            "_model_module_version": "1.5.0",
            "_model_name": "ProgressStyleModel",
            "_view_count": null,
            "_view_module": "@jupyter-widgets/base",
            "_view_module_version": "1.2.0",
            "_view_name": "StyleView",
            "bar_color": null,
            "description_width": ""
          }
        },
        "996858cd1f5a46e69545856093a8d235": {
          "model_module": "@jupyter-widgets/base",
          "model_name": "LayoutModel",
          "model_module_version": "1.2.0",
          "state": {
            "_model_module": "@jupyter-widgets/base",
            "_model_module_version": "1.2.0",
            "_model_name": "LayoutModel",
            "_view_count": null,
            "_view_module": "@jupyter-widgets/base",
            "_view_module_version": "1.2.0",
            "_view_name": "LayoutView",
            "align_content": null,
            "align_items": null,
            "align_self": null,
            "border": null,
            "bottom": null,
            "display": null,
            "flex": null,
            "flex_flow": null,
            "grid_area": null,
            "grid_auto_columns": null,
            "grid_auto_flow": null,
            "grid_auto_rows": null,
            "grid_column": null,
            "grid_gap": null,
            "grid_row": null,
            "grid_template_areas": null,
            "grid_template_columns": null,
            "grid_template_rows": null,
            "height": null,
            "justify_content": null,
            "justify_items": null,
            "left": null,
            "margin": null,
            "max_height": null,
            "max_width": null,
            "min_height": null,
            "min_width": null,
            "object_fit": null,
            "object_position": null,
            "order": null,
            "overflow": null,
            "overflow_x": null,
            "overflow_y": null,
            "padding": null,
            "right": null,
            "top": null,
            "visibility": null,
            "width": null
          }
        },
        "7b8a1757b6c041dbad69dee966095351": {
          "model_module": "@jupyter-widgets/controls",
          "model_name": "DescriptionStyleModel",
          "model_module_version": "1.5.0",
          "state": {
            "_model_module": "@jupyter-widgets/controls",
            "_model_module_version": "1.5.0",
            "_model_name": "DescriptionStyleModel",
            "_view_count": null,
            "_view_module": "@jupyter-widgets/base",
            "_view_module_version": "1.2.0",
            "_view_name": "StyleView",
            "description_width": ""
          }
        },
        "637f545a1ebb4ca2bf74a07bbe8cbdf0": {
          "model_module": "@jupyter-widgets/controls",
          "model_name": "HBoxModel",
          "model_module_version": "1.5.0",
          "state": {
            "_dom_classes": [],
            "_model_module": "@jupyter-widgets/controls",
            "_model_module_version": "1.5.0",
            "_model_name": "HBoxModel",
            "_view_count": null,
            "_view_module": "@jupyter-widgets/controls",
            "_view_module_version": "1.5.0",
            "_view_name": "HBoxView",
            "box_style": "",
            "children": [
              "IPY_MODEL_970a7f209f834c67ab729ec4ee828c42",
              "IPY_MODEL_7a35fee76c6645159426e641aaca70ff",
              "IPY_MODEL_25d3ba96926a40e1a6b77486449e3e0f"
            ],
            "layout": "IPY_MODEL_0bb601897df54ab2ac95fcedc5ad8979"
          }
        },
        "970a7f209f834c67ab729ec4ee828c42": {
          "model_module": "@jupyter-widgets/controls",
          "model_name": "HTMLModel",
          "model_module_version": "1.5.0",
          "state": {
            "_dom_classes": [],
            "_model_module": "@jupyter-widgets/controls",
            "_model_module_version": "1.5.0",
            "_model_name": "HTMLModel",
            "_view_count": null,
            "_view_module": "@jupyter-widgets/controls",
            "_view_module_version": "1.5.0",
            "_view_name": "HTMLView",
            "description": "",
            "description_tooltip": null,
            "layout": "IPY_MODEL_00d8d6b5e530476d87b3071a75918a97",
            "placeholder": "​",
            "style": "IPY_MODEL_ccbcc98f53324903b2d29b0d034e97ec",
            "value": "tokenizer.json: 100%"
          }
        },
        "7a35fee76c6645159426e641aaca70ff": {
          "model_module": "@jupyter-widgets/controls",
          "model_name": "FloatProgressModel",
          "model_module_version": "1.5.0",
          "state": {
            "_dom_classes": [],
            "_model_module": "@jupyter-widgets/controls",
            "_model_module_version": "1.5.0",
            "_model_name": "FloatProgressModel",
            "_view_count": null,
            "_view_module": "@jupyter-widgets/controls",
            "_view_module_version": "1.5.0",
            "_view_name": "ProgressView",
            "bar_style": "success",
            "description": "",
            "description_tooltip": null,
            "layout": "IPY_MODEL_e05477d15b384d4baabc4f3436c3bdfd",
            "max": 466062,
            "min": 0,
            "orientation": "horizontal",
            "style": "IPY_MODEL_5d7db560596a44e5a7eaca0cf6bcf97b",
            "value": 466062
          }
        },
        "25d3ba96926a40e1a6b77486449e3e0f": {
          "model_module": "@jupyter-widgets/controls",
          "model_name": "HTMLModel",
          "model_module_version": "1.5.0",
          "state": {
            "_dom_classes": [],
            "_model_module": "@jupyter-widgets/controls",
            "_model_module_version": "1.5.0",
            "_model_name": "HTMLModel",
            "_view_count": null,
            "_view_module": "@jupyter-widgets/controls",
            "_view_module_version": "1.5.0",
            "_view_name": "HTMLView",
            "description": "",
            "description_tooltip": null,
            "layout": "IPY_MODEL_35b36ba1f840407b8eb664aa662c176d",
            "placeholder": "​",
            "style": "IPY_MODEL_a4d1f08195c4406c9b964524f84c2be2",
            "value": " 466k/466k [00:00&lt;00:00, 3.52MB/s]"
          }
        },
        "0bb601897df54ab2ac95fcedc5ad8979": {
          "model_module": "@jupyter-widgets/base",
          "model_name": "LayoutModel",
          "model_module_version": "1.2.0",
          "state": {
            "_model_module": "@jupyter-widgets/base",
            "_model_module_version": "1.2.0",
            "_model_name": "LayoutModel",
            "_view_count": null,
            "_view_module": "@jupyter-widgets/base",
            "_view_module_version": "1.2.0",
            "_view_name": "LayoutView",
            "align_content": null,
            "align_items": null,
            "align_self": null,
            "border": null,
            "bottom": null,
            "display": null,
            "flex": null,
            "flex_flow": null,
            "grid_area": null,
            "grid_auto_columns": null,
            "grid_auto_flow": null,
            "grid_auto_rows": null,
            "grid_column": null,
            "grid_gap": null,
            "grid_row": null,
            "grid_template_areas": null,
            "grid_template_columns": null,
            "grid_template_rows": null,
            "height": null,
            "justify_content": null,
            "justify_items": null,
            "left": null,
            "margin": null,
            "max_height": null,
            "max_width": null,
            "min_height": null,
            "min_width": null,
            "object_fit": null,
            "object_position": null,
            "order": null,
            "overflow": null,
            "overflow_x": null,
            "overflow_y": null,
            "padding": null,
            "right": null,
            "top": null,
            "visibility": null,
            "width": null
          }
        },
        "00d8d6b5e530476d87b3071a75918a97": {
          "model_module": "@jupyter-widgets/base",
          "model_name": "LayoutModel",
          "model_module_version": "1.2.0",
          "state": {
            "_model_module": "@jupyter-widgets/base",
            "_model_module_version": "1.2.0",
            "_model_name": "LayoutModel",
            "_view_count": null,
            "_view_module": "@jupyter-widgets/base",
            "_view_module_version": "1.2.0",
            "_view_name": "LayoutView",
            "align_content": null,
            "align_items": null,
            "align_self": null,
            "border": null,
            "bottom": null,
            "display": null,
            "flex": null,
            "flex_flow": null,
            "grid_area": null,
            "grid_auto_columns": null,
            "grid_auto_flow": null,
            "grid_auto_rows": null,
            "grid_column": null,
            "grid_gap": null,
            "grid_row": null,
            "grid_template_areas": null,
            "grid_template_columns": null,
            "grid_template_rows": null,
            "height": null,
            "justify_content": null,
            "justify_items": null,
            "left": null,
            "margin": null,
            "max_height": null,
            "max_width": null,
            "min_height": null,
            "min_width": null,
            "object_fit": null,
            "object_position": null,
            "order": null,
            "overflow": null,
            "overflow_x": null,
            "overflow_y": null,
            "padding": null,
            "right": null,
            "top": null,
            "visibility": null,
            "width": null
          }
        },
        "ccbcc98f53324903b2d29b0d034e97ec": {
          "model_module": "@jupyter-widgets/controls",
          "model_name": "DescriptionStyleModel",
          "model_module_version": "1.5.0",
          "state": {
            "_model_module": "@jupyter-widgets/controls",
            "_model_module_version": "1.5.0",
            "_model_name": "DescriptionStyleModel",
            "_view_count": null,
            "_view_module": "@jupyter-widgets/base",
            "_view_module_version": "1.2.0",
            "_view_name": "StyleView",
            "description_width": ""
          }
        },
        "e05477d15b384d4baabc4f3436c3bdfd": {
          "model_module": "@jupyter-widgets/base",
          "model_name": "LayoutModel",
          "model_module_version": "1.2.0",
          "state": {
            "_model_module": "@jupyter-widgets/base",
            "_model_module_version": "1.2.0",
            "_model_name": "LayoutModel",
            "_view_count": null,
            "_view_module": "@jupyter-widgets/base",
            "_view_module_version": "1.2.0",
            "_view_name": "LayoutView",
            "align_content": null,
            "align_items": null,
            "align_self": null,
            "border": null,
            "bottom": null,
            "display": null,
            "flex": null,
            "flex_flow": null,
            "grid_area": null,
            "grid_auto_columns": null,
            "grid_auto_flow": null,
            "grid_auto_rows": null,
            "grid_column": null,
            "grid_gap": null,
            "grid_row": null,
            "grid_template_areas": null,
            "grid_template_columns": null,
            "grid_template_rows": null,
            "height": null,
            "justify_content": null,
            "justify_items": null,
            "left": null,
            "margin": null,
            "max_height": null,
            "max_width": null,
            "min_height": null,
            "min_width": null,
            "object_fit": null,
            "object_position": null,
            "order": null,
            "overflow": null,
            "overflow_x": null,
            "overflow_y": null,
            "padding": null,
            "right": null,
            "top": null,
            "visibility": null,
            "width": null
          }
        },
        "5d7db560596a44e5a7eaca0cf6bcf97b": {
          "model_module": "@jupyter-widgets/controls",
          "model_name": "ProgressStyleModel",
          "model_module_version": "1.5.0",
          "state": {
            "_model_module": "@jupyter-widgets/controls",
            "_model_module_version": "1.5.0",
            "_model_name": "ProgressStyleModel",
            "_view_count": null,
            "_view_module": "@jupyter-widgets/base",
            "_view_module_version": "1.2.0",
            "_view_name": "StyleView",
            "bar_color": null,
            "description_width": ""
          }
        },
        "35b36ba1f840407b8eb664aa662c176d": {
          "model_module": "@jupyter-widgets/base",
          "model_name": "LayoutModel",
          "model_module_version": "1.2.0",
          "state": {
            "_model_module": "@jupyter-widgets/base",
            "_model_module_version": "1.2.0",
            "_model_name": "LayoutModel",
            "_view_count": null,
            "_view_module": "@jupyter-widgets/base",
            "_view_module_version": "1.2.0",
            "_view_name": "LayoutView",
            "align_content": null,
            "align_items": null,
            "align_self": null,
            "border": null,
            "bottom": null,
            "display": null,
            "flex": null,
            "flex_flow": null,
            "grid_area": null,
            "grid_auto_columns": null,
            "grid_auto_flow": null,
            "grid_auto_rows": null,
            "grid_column": null,
            "grid_gap": null,
            "grid_row": null,
            "grid_template_areas": null,
            "grid_template_columns": null,
            "grid_template_rows": null,
            "height": null,
            "justify_content": null,
            "justify_items": null,
            "left": null,
            "margin": null,
            "max_height": null,
            "max_width": null,
            "min_height": null,
            "min_width": null,
            "object_fit": null,
            "object_position": null,
            "order": null,
            "overflow": null,
            "overflow_x": null,
            "overflow_y": null,
            "padding": null,
            "right": null,
            "top": null,
            "visibility": null,
            "width": null
          }
        },
        "a4d1f08195c4406c9b964524f84c2be2": {
          "model_module": "@jupyter-widgets/controls",
          "model_name": "DescriptionStyleModel",
          "model_module_version": "1.5.0",
          "state": {
            "_model_module": "@jupyter-widgets/controls",
            "_model_module_version": "1.5.0",
            "_model_name": "DescriptionStyleModel",
            "_view_count": null,
            "_view_module": "@jupyter-widgets/base",
            "_view_module_version": "1.2.0",
            "_view_name": "StyleView",
            "description_width": ""
          }
        },
        "7873ffbd40e146049b00df7efedcb9db": {
          "model_module": "@jupyter-widgets/controls",
          "model_name": "HBoxModel",
          "model_module_version": "1.5.0",
          "state": {
            "_dom_classes": [],
            "_model_module": "@jupyter-widgets/controls",
            "_model_module_version": "1.5.0",
            "_model_name": "HBoxModel",
            "_view_count": null,
            "_view_module": "@jupyter-widgets/controls",
            "_view_module_version": "1.5.0",
            "_view_name": "HBoxView",
            "box_style": "",
            "children": [
              "IPY_MODEL_4329a00ad9ae4e6e8b9f6b8ac3a63f8f",
              "IPY_MODEL_6220e46a4d0f4ce7a2901f70e42d6620",
              "IPY_MODEL_9f71a31ce3564014b7aaaf5ee669ca49"
            ],
            "layout": "IPY_MODEL_e3de2440833b4cda9829eb4fd187a2a9"
          }
        },
        "4329a00ad9ae4e6e8b9f6b8ac3a63f8f": {
          "model_module": "@jupyter-widgets/controls",
          "model_name": "HTMLModel",
          "model_module_version": "1.5.0",
          "state": {
            "_dom_classes": [],
            "_model_module": "@jupyter-widgets/controls",
            "_model_module_version": "1.5.0",
            "_model_name": "HTMLModel",
            "_view_count": null,
            "_view_module": "@jupyter-widgets/controls",
            "_view_module_version": "1.5.0",
            "_view_name": "HTMLView",
            "description": "",
            "description_tooltip": null,
            "layout": "IPY_MODEL_7161ea690a714375b7170b25bae84fcc",
            "placeholder": "​",
            "style": "IPY_MODEL_ad71ec6dc9cb4670bff5aa9183d1ecca",
            "value": "config.json: 100%"
          }
        },
        "6220e46a4d0f4ce7a2901f70e42d6620": {
          "model_module": "@jupyter-widgets/controls",
          "model_name": "FloatProgressModel",
          "model_module_version": "1.5.0",
          "state": {
            "_dom_classes": [],
            "_model_module": "@jupyter-widgets/controls",
            "_model_module_version": "1.5.0",
            "_model_name": "FloatProgressModel",
            "_view_count": null,
            "_view_module": "@jupyter-widgets/controls",
            "_view_module_version": "1.5.0",
            "_view_name": "ProgressView",
            "bar_style": "success",
            "description": "",
            "description_tooltip": null,
            "layout": "IPY_MODEL_83a42cbf067146e08d37c6a7850a22be",
            "max": 570,
            "min": 0,
            "orientation": "horizontal",
            "style": "IPY_MODEL_498aa4e63cce448e8ef1a77c54c094da",
            "value": 570
          }
        },
        "9f71a31ce3564014b7aaaf5ee669ca49": {
          "model_module": "@jupyter-widgets/controls",
          "model_name": "HTMLModel",
          "model_module_version": "1.5.0",
          "state": {
            "_dom_classes": [],
            "_model_module": "@jupyter-widgets/controls",
            "_model_module_version": "1.5.0",
            "_model_name": "HTMLModel",
            "_view_count": null,
            "_view_module": "@jupyter-widgets/controls",
            "_view_module_version": "1.5.0",
            "_view_name": "HTMLView",
            "description": "",
            "description_tooltip": null,
            "layout": "IPY_MODEL_fdbf078181e34520a78fef5ee594df08",
            "placeholder": "​",
            "style": "IPY_MODEL_fcef9496032746dd9176260cb416093f",
            "value": " 570/570 [00:00&lt;00:00, 51.7kB/s]"
          }
        },
        "e3de2440833b4cda9829eb4fd187a2a9": {
          "model_module": "@jupyter-widgets/base",
          "model_name": "LayoutModel",
          "model_module_version": "1.2.0",
          "state": {
            "_model_module": "@jupyter-widgets/base",
            "_model_module_version": "1.2.0",
            "_model_name": "LayoutModel",
            "_view_count": null,
            "_view_module": "@jupyter-widgets/base",
            "_view_module_version": "1.2.0",
            "_view_name": "LayoutView",
            "align_content": null,
            "align_items": null,
            "align_self": null,
            "border": null,
            "bottom": null,
            "display": null,
            "flex": null,
            "flex_flow": null,
            "grid_area": null,
            "grid_auto_columns": null,
            "grid_auto_flow": null,
            "grid_auto_rows": null,
            "grid_column": null,
            "grid_gap": null,
            "grid_row": null,
            "grid_template_areas": null,
            "grid_template_columns": null,
            "grid_template_rows": null,
            "height": null,
            "justify_content": null,
            "justify_items": null,
            "left": null,
            "margin": null,
            "max_height": null,
            "max_width": null,
            "min_height": null,
            "min_width": null,
            "object_fit": null,
            "object_position": null,
            "order": null,
            "overflow": null,
            "overflow_x": null,
            "overflow_y": null,
            "padding": null,
            "right": null,
            "top": null,
            "visibility": null,
            "width": null
          }
        },
        "7161ea690a714375b7170b25bae84fcc": {
          "model_module": "@jupyter-widgets/base",
          "model_name": "LayoutModel",
          "model_module_version": "1.2.0",
          "state": {
            "_model_module": "@jupyter-widgets/base",
            "_model_module_version": "1.2.0",
            "_model_name": "LayoutModel",
            "_view_count": null,
            "_view_module": "@jupyter-widgets/base",
            "_view_module_version": "1.2.0",
            "_view_name": "LayoutView",
            "align_content": null,
            "align_items": null,
            "align_self": null,
            "border": null,
            "bottom": null,
            "display": null,
            "flex": null,
            "flex_flow": null,
            "grid_area": null,
            "grid_auto_columns": null,
            "grid_auto_flow": null,
            "grid_auto_rows": null,
            "grid_column": null,
            "grid_gap": null,
            "grid_row": null,
            "grid_template_areas": null,
            "grid_template_columns": null,
            "grid_template_rows": null,
            "height": null,
            "justify_content": null,
            "justify_items": null,
            "left": null,
            "margin": null,
            "max_height": null,
            "max_width": null,
            "min_height": null,
            "min_width": null,
            "object_fit": null,
            "object_position": null,
            "order": null,
            "overflow": null,
            "overflow_x": null,
            "overflow_y": null,
            "padding": null,
            "right": null,
            "top": null,
            "visibility": null,
            "width": null
          }
        },
        "ad71ec6dc9cb4670bff5aa9183d1ecca": {
          "model_module": "@jupyter-widgets/controls",
          "model_name": "DescriptionStyleModel",
          "model_module_version": "1.5.0",
          "state": {
            "_model_module": "@jupyter-widgets/controls",
            "_model_module_version": "1.5.0",
            "_model_name": "DescriptionStyleModel",
            "_view_count": null,
            "_view_module": "@jupyter-widgets/base",
            "_view_module_version": "1.2.0",
            "_view_name": "StyleView",
            "description_width": ""
          }
        },
        "83a42cbf067146e08d37c6a7850a22be": {
          "model_module": "@jupyter-widgets/base",
          "model_name": "LayoutModel",
          "model_module_version": "1.2.0",
          "state": {
            "_model_module": "@jupyter-widgets/base",
            "_model_module_version": "1.2.0",
            "_model_name": "LayoutModel",
            "_view_count": null,
            "_view_module": "@jupyter-widgets/base",
            "_view_module_version": "1.2.0",
            "_view_name": "LayoutView",
            "align_content": null,
            "align_items": null,
            "align_self": null,
            "border": null,
            "bottom": null,
            "display": null,
            "flex": null,
            "flex_flow": null,
            "grid_area": null,
            "grid_auto_columns": null,
            "grid_auto_flow": null,
            "grid_auto_rows": null,
            "grid_column": null,
            "grid_gap": null,
            "grid_row": null,
            "grid_template_areas": null,
            "grid_template_columns": null,
            "grid_template_rows": null,
            "height": null,
            "justify_content": null,
            "justify_items": null,
            "left": null,
            "margin": null,
            "max_height": null,
            "max_width": null,
            "min_height": null,
            "min_width": null,
            "object_fit": null,
            "object_position": null,
            "order": null,
            "overflow": null,
            "overflow_x": null,
            "overflow_y": null,
            "padding": null,
            "right": null,
            "top": null,
            "visibility": null,
            "width": null
          }
        },
        "498aa4e63cce448e8ef1a77c54c094da": {
          "model_module": "@jupyter-widgets/controls",
          "model_name": "ProgressStyleModel",
          "model_module_version": "1.5.0",
          "state": {
            "_model_module": "@jupyter-widgets/controls",
            "_model_module_version": "1.5.0",
            "_model_name": "ProgressStyleModel",
            "_view_count": null,
            "_view_module": "@jupyter-widgets/base",
            "_view_module_version": "1.2.0",
            "_view_name": "StyleView",
            "bar_color": null,
            "description_width": ""
          }
        },
        "fdbf078181e34520a78fef5ee594df08": {
          "model_module": "@jupyter-widgets/base",
          "model_name": "LayoutModel",
          "model_module_version": "1.2.0",
          "state": {
            "_model_module": "@jupyter-widgets/base",
            "_model_module_version": "1.2.0",
            "_model_name": "LayoutModel",
            "_view_count": null,
            "_view_module": "@jupyter-widgets/base",
            "_view_module_version": "1.2.0",
            "_view_name": "LayoutView",
            "align_content": null,
            "align_items": null,
            "align_self": null,
            "border": null,
            "bottom": null,
            "display": null,
            "flex": null,
            "flex_flow": null,
            "grid_area": null,
            "grid_auto_columns": null,
            "grid_auto_flow": null,
            "grid_auto_rows": null,
            "grid_column": null,
            "grid_gap": null,
            "grid_row": null,
            "grid_template_areas": null,
            "grid_template_columns": null,
            "grid_template_rows": null,
            "height": null,
            "justify_content": null,
            "justify_items": null,
            "left": null,
            "margin": null,
            "max_height": null,
            "max_width": null,
            "min_height": null,
            "min_width": null,
            "object_fit": null,
            "object_position": null,
            "order": null,
            "overflow": null,
            "overflow_x": null,
            "overflow_y": null,
            "padding": null,
            "right": null,
            "top": null,
            "visibility": null,
            "width": null
          }
        },
        "fcef9496032746dd9176260cb416093f": {
          "model_module": "@jupyter-widgets/controls",
          "model_name": "DescriptionStyleModel",
          "model_module_version": "1.5.0",
          "state": {
            "_model_module": "@jupyter-widgets/controls",
            "_model_module_version": "1.5.0",
            "_model_name": "DescriptionStyleModel",
            "_view_count": null,
            "_view_module": "@jupyter-widgets/base",
            "_view_module_version": "1.2.0",
            "_view_name": "StyleView",
            "description_width": ""
          }
        },
        "fab26a8a190d4d4e993ddf86cf3ba8bd": {
          "model_module": "@jupyter-widgets/controls",
          "model_name": "HBoxModel",
          "model_module_version": "1.5.0",
          "state": {
            "_dom_classes": [],
            "_model_module": "@jupyter-widgets/controls",
            "_model_module_version": "1.5.0",
            "_model_name": "HBoxModel",
            "_view_count": null,
            "_view_module": "@jupyter-widgets/controls",
            "_view_module_version": "1.5.0",
            "_view_name": "HBoxView",
            "box_style": "",
            "children": [
              "IPY_MODEL_fa136cc62a384407a995e0d646f81900",
              "IPY_MODEL_4b904444fa2443ad9d3d91223e1d4249",
              "IPY_MODEL_27f05cadca7f43748dc08c4c98dd9407"
            ],
            "layout": "IPY_MODEL_4dfb1174132548c1bf0468c12eef2adb"
          }
        },
        "fa136cc62a384407a995e0d646f81900": {
          "model_module": "@jupyter-widgets/controls",
          "model_name": "HTMLModel",
          "model_module_version": "1.5.0",
          "state": {
            "_dom_classes": [],
            "_model_module": "@jupyter-widgets/controls",
            "_model_module_version": "1.5.0",
            "_model_name": "HTMLModel",
            "_view_count": null,
            "_view_module": "@jupyter-widgets/controls",
            "_view_module_version": "1.5.0",
            "_view_name": "HTMLView",
            "description": "",
            "description_tooltip": null,
            "layout": "IPY_MODEL_9e8477da94a549c9a6194340bb911546",
            "placeholder": "​",
            "style": "IPY_MODEL_804076ab1e454d449767aa1ff029c2b9",
            "value": "Map: 100%"
          }
        },
        "4b904444fa2443ad9d3d91223e1d4249": {
          "model_module": "@jupyter-widgets/controls",
          "model_name": "FloatProgressModel",
          "model_module_version": "1.5.0",
          "state": {
            "_dom_classes": [],
            "_model_module": "@jupyter-widgets/controls",
            "_model_module_version": "1.5.0",
            "_model_name": "FloatProgressModel",
            "_view_count": null,
            "_view_module": "@jupyter-widgets/controls",
            "_view_module_version": "1.5.0",
            "_view_name": "ProgressView",
            "bar_style": "success",
            "description": "",
            "description_tooltip": null,
            "layout": "IPY_MODEL_3dfc9e82ba4e45a796007d99533908f1",
            "max": 3817,
            "min": 0,
            "orientation": "horizontal",
            "style": "IPY_MODEL_c32cd916cd0e489f9836ac2bf87bbed4",
            "value": 3817
          }
        },
        "27f05cadca7f43748dc08c4c98dd9407": {
          "model_module": "@jupyter-widgets/controls",
          "model_name": "HTMLModel",
          "model_module_version": "1.5.0",
          "state": {
            "_dom_classes": [],
            "_model_module": "@jupyter-widgets/controls",
            "_model_module_version": "1.5.0",
            "_model_name": "HTMLModel",
            "_view_count": null,
            "_view_module": "@jupyter-widgets/controls",
            "_view_module_version": "1.5.0",
            "_view_name": "HTMLView",
            "description": "",
            "description_tooltip": null,
            "layout": "IPY_MODEL_6ff8d28a06a243edb8561f1348b6890c",
            "placeholder": "​",
            "style": "IPY_MODEL_cf990859b75c4a14873dee510d5b545b",
            "value": " 3817/3817 [00:04&lt;00:00, 824.39 examples/s]"
          }
        },
        "4dfb1174132548c1bf0468c12eef2adb": {
          "model_module": "@jupyter-widgets/base",
          "model_name": "LayoutModel",
          "model_module_version": "1.2.0",
          "state": {
            "_model_module": "@jupyter-widgets/base",
            "_model_module_version": "1.2.0",
            "_model_name": "LayoutModel",
            "_view_count": null,
            "_view_module": "@jupyter-widgets/base",
            "_view_module_version": "1.2.0",
            "_view_name": "LayoutView",
            "align_content": null,
            "align_items": null,
            "align_self": null,
            "border": null,
            "bottom": null,
            "display": null,
            "flex": null,
            "flex_flow": null,
            "grid_area": null,
            "grid_auto_columns": null,
            "grid_auto_flow": null,
            "grid_auto_rows": null,
            "grid_column": null,
            "grid_gap": null,
            "grid_row": null,
            "grid_template_areas": null,
            "grid_template_columns": null,
            "grid_template_rows": null,
            "height": null,
            "justify_content": null,
            "justify_items": null,
            "left": null,
            "margin": null,
            "max_height": null,
            "max_width": null,
            "min_height": null,
            "min_width": null,
            "object_fit": null,
            "object_position": null,
            "order": null,
            "overflow": null,
            "overflow_x": null,
            "overflow_y": null,
            "padding": null,
            "right": null,
            "top": null,
            "visibility": null,
            "width": null
          }
        },
        "9e8477da94a549c9a6194340bb911546": {
          "model_module": "@jupyter-widgets/base",
          "model_name": "LayoutModel",
          "model_module_version": "1.2.0",
          "state": {
            "_model_module": "@jupyter-widgets/base",
            "_model_module_version": "1.2.0",
            "_model_name": "LayoutModel",
            "_view_count": null,
            "_view_module": "@jupyter-widgets/base",
            "_view_module_version": "1.2.0",
            "_view_name": "LayoutView",
            "align_content": null,
            "align_items": null,
            "align_self": null,
            "border": null,
            "bottom": null,
            "display": null,
            "flex": null,
            "flex_flow": null,
            "grid_area": null,
            "grid_auto_columns": null,
            "grid_auto_flow": null,
            "grid_auto_rows": null,
            "grid_column": null,
            "grid_gap": null,
            "grid_row": null,
            "grid_template_areas": null,
            "grid_template_columns": null,
            "grid_template_rows": null,
            "height": null,
            "justify_content": null,
            "justify_items": null,
            "left": null,
            "margin": null,
            "max_height": null,
            "max_width": null,
            "min_height": null,
            "min_width": null,
            "object_fit": null,
            "object_position": null,
            "order": null,
            "overflow": null,
            "overflow_x": null,
            "overflow_y": null,
            "padding": null,
            "right": null,
            "top": null,
            "visibility": null,
            "width": null
          }
        },
        "804076ab1e454d449767aa1ff029c2b9": {
          "model_module": "@jupyter-widgets/controls",
          "model_name": "DescriptionStyleModel",
          "model_module_version": "1.5.0",
          "state": {
            "_model_module": "@jupyter-widgets/controls",
            "_model_module_version": "1.5.0",
            "_model_name": "DescriptionStyleModel",
            "_view_count": null,
            "_view_module": "@jupyter-widgets/base",
            "_view_module_version": "1.2.0",
            "_view_name": "StyleView",
            "description_width": ""
          }
        },
        "3dfc9e82ba4e45a796007d99533908f1": {
          "model_module": "@jupyter-widgets/base",
          "model_name": "LayoutModel",
          "model_module_version": "1.2.0",
          "state": {
            "_model_module": "@jupyter-widgets/base",
            "_model_module_version": "1.2.0",
            "_model_name": "LayoutModel",
            "_view_count": null,
            "_view_module": "@jupyter-widgets/base",
            "_view_module_version": "1.2.0",
            "_view_name": "LayoutView",
            "align_content": null,
            "align_items": null,
            "align_self": null,
            "border": null,
            "bottom": null,
            "display": null,
            "flex": null,
            "flex_flow": null,
            "grid_area": null,
            "grid_auto_columns": null,
            "grid_auto_flow": null,
            "grid_auto_rows": null,
            "grid_column": null,
            "grid_gap": null,
            "grid_row": null,
            "grid_template_areas": null,
            "grid_template_columns": null,
            "grid_template_rows": null,
            "height": null,
            "justify_content": null,
            "justify_items": null,
            "left": null,
            "margin": null,
            "max_height": null,
            "max_width": null,
            "min_height": null,
            "min_width": null,
            "object_fit": null,
            "object_position": null,
            "order": null,
            "overflow": null,
            "overflow_x": null,
            "overflow_y": null,
            "padding": null,
            "right": null,
            "top": null,
            "visibility": null,
            "width": null
          }
        },
        "c32cd916cd0e489f9836ac2bf87bbed4": {
          "model_module": "@jupyter-widgets/controls",
          "model_name": "ProgressStyleModel",
          "model_module_version": "1.5.0",
          "state": {
            "_model_module": "@jupyter-widgets/controls",
            "_model_module_version": "1.5.0",
            "_model_name": "ProgressStyleModel",
            "_view_count": null,
            "_view_module": "@jupyter-widgets/base",
            "_view_module_version": "1.2.0",
            "_view_name": "StyleView",
            "bar_color": null,
            "description_width": ""
          }
        },
        "6ff8d28a06a243edb8561f1348b6890c": {
          "model_module": "@jupyter-widgets/base",
          "model_name": "LayoutModel",
          "model_module_version": "1.2.0",
          "state": {
            "_model_module": "@jupyter-widgets/base",
            "_model_module_version": "1.2.0",
            "_model_name": "LayoutModel",
            "_view_count": null,
            "_view_module": "@jupyter-widgets/base",
            "_view_module_version": "1.2.0",
            "_view_name": "LayoutView",
            "align_content": null,
            "align_items": null,
            "align_self": null,
            "border": null,
            "bottom": null,
            "display": null,
            "flex": null,
            "flex_flow": null,
            "grid_area": null,
            "grid_auto_columns": null,
            "grid_auto_flow": null,
            "grid_auto_rows": null,
            "grid_column": null,
            "grid_gap": null,
            "grid_row": null,
            "grid_template_areas": null,
            "grid_template_columns": null,
            "grid_template_rows": null,
            "height": null,
            "justify_content": null,
            "justify_items": null,
            "left": null,
            "margin": null,
            "max_height": null,
            "max_width": null,
            "min_height": null,
            "min_width": null,
            "object_fit": null,
            "object_position": null,
            "order": null,
            "overflow": null,
            "overflow_x": null,
            "overflow_y": null,
            "padding": null,
            "right": null,
            "top": null,
            "visibility": null,
            "width": null
          }
        },
        "cf990859b75c4a14873dee510d5b545b": {
          "model_module": "@jupyter-widgets/controls",
          "model_name": "DescriptionStyleModel",
          "model_module_version": "1.5.0",
          "state": {
            "_model_module": "@jupyter-widgets/controls",
            "_model_module_version": "1.5.0",
            "_model_name": "DescriptionStyleModel",
            "_view_count": null,
            "_view_module": "@jupyter-widgets/base",
            "_view_module_version": "1.2.0",
            "_view_name": "StyleView",
            "description_width": ""
          }
        },
        "a84dc796c5ae4d9aba2b7557ba2a3245": {
          "model_module": "@jupyter-widgets/controls",
          "model_name": "HBoxModel",
          "model_module_version": "1.5.0",
          "state": {
            "_dom_classes": [],
            "_model_module": "@jupyter-widgets/controls",
            "_model_module_version": "1.5.0",
            "_model_name": "HBoxModel",
            "_view_count": null,
            "_view_module": "@jupyter-widgets/controls",
            "_view_module_version": "1.5.0",
            "_view_name": "HBoxView",
            "box_style": "",
            "children": [
              "IPY_MODEL_f7dff2fe31cd420d8f6a72942b836504",
              "IPY_MODEL_098ffa52d8694b1fad4d2cf542eaa5b4",
              "IPY_MODEL_9117185040554a3ca1d41291534a5093"
            ],
            "layout": "IPY_MODEL_55aeeee7592b45c29f9fb462991acbc8"
          }
        },
        "f7dff2fe31cd420d8f6a72942b836504": {
          "model_module": "@jupyter-widgets/controls",
          "model_name": "HTMLModel",
          "model_module_version": "1.5.0",
          "state": {
            "_dom_classes": [],
            "_model_module": "@jupyter-widgets/controls",
            "_model_module_version": "1.5.0",
            "_model_name": "HTMLModel",
            "_view_count": null,
            "_view_module": "@jupyter-widgets/controls",
            "_view_module_version": "1.5.0",
            "_view_name": "HTMLView",
            "description": "",
            "description_tooltip": null,
            "layout": "IPY_MODEL_13d2274ff3714d4dbd36491b01a60c93",
            "placeholder": "​",
            "style": "IPY_MODEL_32cb78796dd3402d94f6c002e1c4bc85",
            "value": "Map: 100%"
          }
        },
        "098ffa52d8694b1fad4d2cf542eaa5b4": {
          "model_module": "@jupyter-widgets/controls",
          "model_name": "FloatProgressModel",
          "model_module_version": "1.5.0",
          "state": {
            "_dom_classes": [],
            "_model_module": "@jupyter-widgets/controls",
            "_model_module_version": "1.5.0",
            "_model_name": "FloatProgressModel",
            "_view_count": null,
            "_view_module": "@jupyter-widgets/controls",
            "_view_module_version": "1.5.0",
            "_view_name": "ProgressView",
            "bar_style": "success",
            "description": "",
            "description_tooltip": null,
            "layout": "IPY_MODEL_53b198c6c0424bfb9c542f2e975e1949",
            "max": 955,
            "min": 0,
            "orientation": "horizontal",
            "style": "IPY_MODEL_7ba81943d12249bebbb157c0b9db3e4e",
            "value": 955
          }
        },
        "9117185040554a3ca1d41291534a5093": {
          "model_module": "@jupyter-widgets/controls",
          "model_name": "HTMLModel",
          "model_module_version": "1.5.0",
          "state": {
            "_dom_classes": [],
            "_model_module": "@jupyter-widgets/controls",
            "_model_module_version": "1.5.0",
            "_model_name": "HTMLModel",
            "_view_count": null,
            "_view_module": "@jupyter-widgets/controls",
            "_view_module_version": "1.5.0",
            "_view_name": "HTMLView",
            "description": "",
            "description_tooltip": null,
            "layout": "IPY_MODEL_e812e162382d4e89be4a85848d3141b8",
            "placeholder": "​",
            "style": "IPY_MODEL_2035cf7760574eaa92e7f973319c3f1b",
            "value": " 955/955 [00:00&lt;00:00, 1074.03 examples/s]"
          }
        },
        "55aeeee7592b45c29f9fb462991acbc8": {
          "model_module": "@jupyter-widgets/base",
          "model_name": "LayoutModel",
          "model_module_version": "1.2.0",
          "state": {
            "_model_module": "@jupyter-widgets/base",
            "_model_module_version": "1.2.0",
            "_model_name": "LayoutModel",
            "_view_count": null,
            "_view_module": "@jupyter-widgets/base",
            "_view_module_version": "1.2.0",
            "_view_name": "LayoutView",
            "align_content": null,
            "align_items": null,
            "align_self": null,
            "border": null,
            "bottom": null,
            "display": null,
            "flex": null,
            "flex_flow": null,
            "grid_area": null,
            "grid_auto_columns": null,
            "grid_auto_flow": null,
            "grid_auto_rows": null,
            "grid_column": null,
            "grid_gap": null,
            "grid_row": null,
            "grid_template_areas": null,
            "grid_template_columns": null,
            "grid_template_rows": null,
            "height": null,
            "justify_content": null,
            "justify_items": null,
            "left": null,
            "margin": null,
            "max_height": null,
            "max_width": null,
            "min_height": null,
            "min_width": null,
            "object_fit": null,
            "object_position": null,
            "order": null,
            "overflow": null,
            "overflow_x": null,
            "overflow_y": null,
            "padding": null,
            "right": null,
            "top": null,
            "visibility": null,
            "width": null
          }
        },
        "13d2274ff3714d4dbd36491b01a60c93": {
          "model_module": "@jupyter-widgets/base",
          "model_name": "LayoutModel",
          "model_module_version": "1.2.0",
          "state": {
            "_model_module": "@jupyter-widgets/base",
            "_model_module_version": "1.2.0",
            "_model_name": "LayoutModel",
            "_view_count": null,
            "_view_module": "@jupyter-widgets/base",
            "_view_module_version": "1.2.0",
            "_view_name": "LayoutView",
            "align_content": null,
            "align_items": null,
            "align_self": null,
            "border": null,
            "bottom": null,
            "display": null,
            "flex": null,
            "flex_flow": null,
            "grid_area": null,
            "grid_auto_columns": null,
            "grid_auto_flow": null,
            "grid_auto_rows": null,
            "grid_column": null,
            "grid_gap": null,
            "grid_row": null,
            "grid_template_areas": null,
            "grid_template_columns": null,
            "grid_template_rows": null,
            "height": null,
            "justify_content": null,
            "justify_items": null,
            "left": null,
            "margin": null,
            "max_height": null,
            "max_width": null,
            "min_height": null,
            "min_width": null,
            "object_fit": null,
            "object_position": null,
            "order": null,
            "overflow": null,
            "overflow_x": null,
            "overflow_y": null,
            "padding": null,
            "right": null,
            "top": null,
            "visibility": null,
            "width": null
          }
        },
        "32cb78796dd3402d94f6c002e1c4bc85": {
          "model_module": "@jupyter-widgets/controls",
          "model_name": "DescriptionStyleModel",
          "model_module_version": "1.5.0",
          "state": {
            "_model_module": "@jupyter-widgets/controls",
            "_model_module_version": "1.5.0",
            "_model_name": "DescriptionStyleModel",
            "_view_count": null,
            "_view_module": "@jupyter-widgets/base",
            "_view_module_version": "1.2.0",
            "_view_name": "StyleView",
            "description_width": ""
          }
        },
        "53b198c6c0424bfb9c542f2e975e1949": {
          "model_module": "@jupyter-widgets/base",
          "model_name": "LayoutModel",
          "model_module_version": "1.2.0",
          "state": {
            "_model_module": "@jupyter-widgets/base",
            "_model_module_version": "1.2.0",
            "_model_name": "LayoutModel",
            "_view_count": null,
            "_view_module": "@jupyter-widgets/base",
            "_view_module_version": "1.2.0",
            "_view_name": "LayoutView",
            "align_content": null,
            "align_items": null,
            "align_self": null,
            "border": null,
            "bottom": null,
            "display": null,
            "flex": null,
            "flex_flow": null,
            "grid_area": null,
            "grid_auto_columns": null,
            "grid_auto_flow": null,
            "grid_auto_rows": null,
            "grid_column": null,
            "grid_gap": null,
            "grid_row": null,
            "grid_template_areas": null,
            "grid_template_columns": null,
            "grid_template_rows": null,
            "height": null,
            "justify_content": null,
            "justify_items": null,
            "left": null,
            "margin": null,
            "max_height": null,
            "max_width": null,
            "min_height": null,
            "min_width": null,
            "object_fit": null,
            "object_position": null,
            "order": null,
            "overflow": null,
            "overflow_x": null,
            "overflow_y": null,
            "padding": null,
            "right": null,
            "top": null,
            "visibility": null,
            "width": null
          }
        },
        "7ba81943d12249bebbb157c0b9db3e4e": {
          "model_module": "@jupyter-widgets/controls",
          "model_name": "ProgressStyleModel",
          "model_module_version": "1.5.0",
          "state": {
            "_model_module": "@jupyter-widgets/controls",
            "_model_module_version": "1.5.0",
            "_model_name": "ProgressStyleModel",
            "_view_count": null,
            "_view_module": "@jupyter-widgets/base",
            "_view_module_version": "1.2.0",
            "_view_name": "StyleView",
            "bar_color": null,
            "description_width": ""
          }
        },
        "e812e162382d4e89be4a85848d3141b8": {
          "model_module": "@jupyter-widgets/base",
          "model_name": "LayoutModel",
          "model_module_version": "1.2.0",
          "state": {
            "_model_module": "@jupyter-widgets/base",
            "_model_module_version": "1.2.0",
            "_model_name": "LayoutModel",
            "_view_count": null,
            "_view_module": "@jupyter-widgets/base",
            "_view_module_version": "1.2.0",
            "_view_name": "LayoutView",
            "align_content": null,
            "align_items": null,
            "align_self": null,
            "border": null,
            "bottom": null,
            "display": null,
            "flex": null,
            "flex_flow": null,
            "grid_area": null,
            "grid_auto_columns": null,
            "grid_auto_flow": null,
            "grid_auto_rows": null,
            "grid_column": null,
            "grid_gap": null,
            "grid_row": null,
            "grid_template_areas": null,
            "grid_template_columns": null,
            "grid_template_rows": null,
            "height": null,
            "justify_content": null,
            "justify_items": null,
            "left": null,
            "margin": null,
            "max_height": null,
            "max_width": null,
            "min_height": null,
            "min_width": null,
            "object_fit": null,
            "object_position": null,
            "order": null,
            "overflow": null,
            "overflow_x": null,
            "overflow_y": null,
            "padding": null,
            "right": null,
            "top": null,
            "visibility": null,
            "width": null
          }
        },
        "2035cf7760574eaa92e7f973319c3f1b": {
          "model_module": "@jupyter-widgets/controls",
          "model_name": "DescriptionStyleModel",
          "model_module_version": "1.5.0",
          "state": {
            "_model_module": "@jupyter-widgets/controls",
            "_model_module_version": "1.5.0",
            "_model_name": "DescriptionStyleModel",
            "_view_count": null,
            "_view_module": "@jupyter-widgets/base",
            "_view_module_version": "1.2.0",
            "_view_name": "StyleView",
            "description_width": ""
          }
        },
        "37940038ad0948b28f3cfdc7431c9c18": {
          "model_module": "@jupyter-widgets/controls",
          "model_name": "HBoxModel",
          "model_module_version": "1.5.0",
          "state": {
            "_dom_classes": [],
            "_model_module": "@jupyter-widgets/controls",
            "_model_module_version": "1.5.0",
            "_model_name": "HBoxModel",
            "_view_count": null,
            "_view_module": "@jupyter-widgets/controls",
            "_view_module_version": "1.5.0",
            "_view_name": "HBoxView",
            "box_style": "",
            "children": [
              "IPY_MODEL_a5df36898d804ab98ff7f8af5dc45da2",
              "IPY_MODEL_08c5b292c85f469e985bb27ee62c437e",
              "IPY_MODEL_8e325804275b42b48fb7f2bc1daa27b2"
            ],
            "layout": "IPY_MODEL_db0a667304574f06b71401af2e878f1c"
          }
        },
        "a5df36898d804ab98ff7f8af5dc45da2": {
          "model_module": "@jupyter-widgets/controls",
          "model_name": "HTMLModel",
          "model_module_version": "1.5.0",
          "state": {
            "_dom_classes": [],
            "_model_module": "@jupyter-widgets/controls",
            "_model_module_version": "1.5.0",
            "_model_name": "HTMLModel",
            "_view_count": null,
            "_view_module": "@jupyter-widgets/controls",
            "_view_module_version": "1.5.0",
            "_view_name": "HTMLView",
            "description": "",
            "description_tooltip": null,
            "layout": "IPY_MODEL_4c7bc14aaa13417cb984148128cf8782",
            "placeholder": "​",
            "style": "IPY_MODEL_f718509afa4f4eaa90cafe5882ab409a",
            "value": "model.safetensors: 100%"
          }
        },
        "08c5b292c85f469e985bb27ee62c437e": {
          "model_module": "@jupyter-widgets/controls",
          "model_name": "FloatProgressModel",
          "model_module_version": "1.5.0",
          "state": {
            "_dom_classes": [],
            "_model_module": "@jupyter-widgets/controls",
            "_model_module_version": "1.5.0",
            "_model_name": "FloatProgressModel",
            "_view_count": null,
            "_view_module": "@jupyter-widgets/controls",
            "_view_module_version": "1.5.0",
            "_view_name": "ProgressView",
            "bar_style": "success",
            "description": "",
            "description_tooltip": null,
            "layout": "IPY_MODEL_eb6499778cb44d48a25bcef7e11ddc9a",
            "max": 440449768,
            "min": 0,
            "orientation": "horizontal",
            "style": "IPY_MODEL_ac31dd705ce4412889144f4fb408474a",
            "value": 440449768
          }
        },
        "8e325804275b42b48fb7f2bc1daa27b2": {
          "model_module": "@jupyter-widgets/controls",
          "model_name": "HTMLModel",
          "model_module_version": "1.5.0",
          "state": {
            "_dom_classes": [],
            "_model_module": "@jupyter-widgets/controls",
            "_model_module_version": "1.5.0",
            "_model_name": "HTMLModel",
            "_view_count": null,
            "_view_module": "@jupyter-widgets/controls",
            "_view_module_version": "1.5.0",
            "_view_name": "HTMLView",
            "description": "",
            "description_tooltip": null,
            "layout": "IPY_MODEL_bbdab5c28488451d948407ed63d62c5e",
            "placeholder": "​",
            "style": "IPY_MODEL_7d7b82f7e28b4215a2e9ba963743189c",
            "value": " 440M/440M [00:07&lt;00:00, 78.6MB/s]"
          }
        },
        "db0a667304574f06b71401af2e878f1c": {
          "model_module": "@jupyter-widgets/base",
          "model_name": "LayoutModel",
          "model_module_version": "1.2.0",
          "state": {
            "_model_module": "@jupyter-widgets/base",
            "_model_module_version": "1.2.0",
            "_model_name": "LayoutModel",
            "_view_count": null,
            "_view_module": "@jupyter-widgets/base",
            "_view_module_version": "1.2.0",
            "_view_name": "LayoutView",
            "align_content": null,
            "align_items": null,
            "align_self": null,
            "border": null,
            "bottom": null,
            "display": null,
            "flex": null,
            "flex_flow": null,
            "grid_area": null,
            "grid_auto_columns": null,
            "grid_auto_flow": null,
            "grid_auto_rows": null,
            "grid_column": null,
            "grid_gap": null,
            "grid_row": null,
            "grid_template_areas": null,
            "grid_template_columns": null,
            "grid_template_rows": null,
            "height": null,
            "justify_content": null,
            "justify_items": null,
            "left": null,
            "margin": null,
            "max_height": null,
            "max_width": null,
            "min_height": null,
            "min_width": null,
            "object_fit": null,
            "object_position": null,
            "order": null,
            "overflow": null,
            "overflow_x": null,
            "overflow_y": null,
            "padding": null,
            "right": null,
            "top": null,
            "visibility": null,
            "width": null
          }
        },
        "4c7bc14aaa13417cb984148128cf8782": {
          "model_module": "@jupyter-widgets/base",
          "model_name": "LayoutModel",
          "model_module_version": "1.2.0",
          "state": {
            "_model_module": "@jupyter-widgets/base",
            "_model_module_version": "1.2.0",
            "_model_name": "LayoutModel",
            "_view_count": null,
            "_view_module": "@jupyter-widgets/base",
            "_view_module_version": "1.2.0",
            "_view_name": "LayoutView",
            "align_content": null,
            "align_items": null,
            "align_self": null,
            "border": null,
            "bottom": null,
            "display": null,
            "flex": null,
            "flex_flow": null,
            "grid_area": null,
            "grid_auto_columns": null,
            "grid_auto_flow": null,
            "grid_auto_rows": null,
            "grid_column": null,
            "grid_gap": null,
            "grid_row": null,
            "grid_template_areas": null,
            "grid_template_columns": null,
            "grid_template_rows": null,
            "height": null,
            "justify_content": null,
            "justify_items": null,
            "left": null,
            "margin": null,
            "max_height": null,
            "max_width": null,
            "min_height": null,
            "min_width": null,
            "object_fit": null,
            "object_position": null,
            "order": null,
            "overflow": null,
            "overflow_x": null,
            "overflow_y": null,
            "padding": null,
            "right": null,
            "top": null,
            "visibility": null,
            "width": null
          }
        },
        "f718509afa4f4eaa90cafe5882ab409a": {
          "model_module": "@jupyter-widgets/controls",
          "model_name": "DescriptionStyleModel",
          "model_module_version": "1.5.0",
          "state": {
            "_model_module": "@jupyter-widgets/controls",
            "_model_module_version": "1.5.0",
            "_model_name": "DescriptionStyleModel",
            "_view_count": null,
            "_view_module": "@jupyter-widgets/base",
            "_view_module_version": "1.2.0",
            "_view_name": "StyleView",
            "description_width": ""
          }
        },
        "eb6499778cb44d48a25bcef7e11ddc9a": {
          "model_module": "@jupyter-widgets/base",
          "model_name": "LayoutModel",
          "model_module_version": "1.2.0",
          "state": {
            "_model_module": "@jupyter-widgets/base",
            "_model_module_version": "1.2.0",
            "_model_name": "LayoutModel",
            "_view_count": null,
            "_view_module": "@jupyter-widgets/base",
            "_view_module_version": "1.2.0",
            "_view_name": "LayoutView",
            "align_content": null,
            "align_items": null,
            "align_self": null,
            "border": null,
            "bottom": null,
            "display": null,
            "flex": null,
            "flex_flow": null,
            "grid_area": null,
            "grid_auto_columns": null,
            "grid_auto_flow": null,
            "grid_auto_rows": null,
            "grid_column": null,
            "grid_gap": null,
            "grid_row": null,
            "grid_template_areas": null,
            "grid_template_columns": null,
            "grid_template_rows": null,
            "height": null,
            "justify_content": null,
            "justify_items": null,
            "left": null,
            "margin": null,
            "max_height": null,
            "max_width": null,
            "min_height": null,
            "min_width": null,
            "object_fit": null,
            "object_position": null,
            "order": null,
            "overflow": null,
            "overflow_x": null,
            "overflow_y": null,
            "padding": null,
            "right": null,
            "top": null,
            "visibility": null,
            "width": null
          }
        },
        "ac31dd705ce4412889144f4fb408474a": {
          "model_module": "@jupyter-widgets/controls",
          "model_name": "ProgressStyleModel",
          "model_module_version": "1.5.0",
          "state": {
            "_model_module": "@jupyter-widgets/controls",
            "_model_module_version": "1.5.0",
            "_model_name": "ProgressStyleModel",
            "_view_count": null,
            "_view_module": "@jupyter-widgets/base",
            "_view_module_version": "1.2.0",
            "_view_name": "StyleView",
            "bar_color": null,
            "description_width": ""
          }
        },
        "bbdab5c28488451d948407ed63d62c5e": {
          "model_module": "@jupyter-widgets/base",
          "model_name": "LayoutModel",
          "model_module_version": "1.2.0",
          "state": {
            "_model_module": "@jupyter-widgets/base",
            "_model_module_version": "1.2.0",
            "_model_name": "LayoutModel",
            "_view_count": null,
            "_view_module": "@jupyter-widgets/base",
            "_view_module_version": "1.2.0",
            "_view_name": "LayoutView",
            "align_content": null,
            "align_items": null,
            "align_self": null,
            "border": null,
            "bottom": null,
            "display": null,
            "flex": null,
            "flex_flow": null,
            "grid_area": null,
            "grid_auto_columns": null,
            "grid_auto_flow": null,
            "grid_auto_rows": null,
            "grid_column": null,
            "grid_gap": null,
            "grid_row": null,
            "grid_template_areas": null,
            "grid_template_columns": null,
            "grid_template_rows": null,
            "height": null,
            "justify_content": null,
            "justify_items": null,
            "left": null,
            "margin": null,
            "max_height": null,
            "max_width": null,
            "min_height": null,
            "min_width": null,
            "object_fit": null,
            "object_position": null,
            "order": null,
            "overflow": null,
            "overflow_x": null,
            "overflow_y": null,
            "padding": null,
            "right": null,
            "top": null,
            "visibility": null,
            "width": null
          }
        },
        "7d7b82f7e28b4215a2e9ba963743189c": {
          "model_module": "@jupyter-widgets/controls",
          "model_name": "DescriptionStyleModel",
          "model_module_version": "1.5.0",
          "state": {
            "_model_module": "@jupyter-widgets/controls",
            "_model_module_version": "1.5.0",
            "_model_name": "DescriptionStyleModel",
            "_view_count": null,
            "_view_module": "@jupyter-widgets/base",
            "_view_module_version": "1.2.0",
            "_view_name": "StyleView",
            "description_width": ""
          }
        }
      }
    },
    "accelerator": "GPU"
  },
  "nbformat": 4,
  "nbformat_minor": 0
}
{
  "nbformat": 4,
  "nbformat_minor": 0,
  "metadata": {
    "colab": {
      "provenance": []
    },
    "kernelspec": {
      "name": "python3",
      "display_name": "Python 3"
    },
    "language_info": {
      "name": "python"
    }
  },
  "cells": [
    {
      "cell_type": "code",
      "execution_count": 2,
      "metadata": {
        "colab": {
          "base_uri": "https://localhost:8080/"
        },
        "id": "b2PftsKnNLTB",
        "outputId": "257e7830-72f6-4314-b48d-b925cd9f2f5c"
      },
      "outputs": [
        {
          "output_type": "stream",
          "name": "stdout",
          "text": [
            "1.26.4\n"
          ]
        }
      ],
      "source": [
        "import numpy as np\n",
        "print(np.__version__)"
      ]
    },
    {
      "cell_type": "markdown",
      "source": [
        "**Exercice 1:**\n",
        "\n",
        "*Array Creation and Manipulation*\n",
        "\n",
        "* Instructions\n",
        "\n",
        "*Create a 1D NumPy array containing numbers from 0 to 9.*"
      ],
      "metadata": {
        "id": "glPm7HHIhyw6"
      }
    },
    {
      "cell_type": "code",
      "source": [
        "table_1= np.arange(10)\n",
        "print(table_1)"
      ],
      "metadata": {
        "colab": {
          "base_uri": "https://localhost:8080/"
        },
        "id": "-q4uf0dlX6dA",
        "outputId": "68d47808-457e-490e-a958-663717ac6942"
      },
      "execution_count": 3,
      "outputs": [
        {
          "output_type": "stream",
          "name": "stdout",
          "text": [
            "[0 1 2 3 4 5 6 7 8 9]\n"
          ]
        }
      ]
    },
    {
      "cell_type": "markdown",
      "source": [
        "**Exercice 2:**\n",
        "\n",
        "*Type Conversion and Array Operations*\n",
        "\n",
        "* Instructions\n",
        "\n",
        "*Convert a list [3.14, 2.17, 0, 1, 2] into a NumPy array and convert its data type to integer.*"
      ],
      "metadata": {
        "id": "iNj9PiIBiGGV"
      }
    },
    {
      "cell_type": "code",
      "source": [
        "table_2= np.array([3.14, 2.17, 0, 1, 2]).astype(int)\n",
        "print(table_2)"
      ],
      "metadata": {
        "colab": {
          "base_uri": "https://localhost:8080/"
        },
        "id": "NdifDqeBiaUd",
        "outputId": "73d1cbf1-ecad-4d31-f309-241dd6699e65"
      },
      "execution_count": 4,
      "outputs": [
        {
          "output_type": "stream",
          "name": "stdout",
          "text": [
            "[3 2 0 1 2]\n"
          ]
        }
      ]
    },
    {
      "cell_type": "markdown",
      "source": [
        "**Exercice 3:**\n",
        "\n",
        "*Working with Multi-Dimensional Arrays*\n",
        "\n",
        "* Instructions\n",
        "\n",
        "*Create a 3x3 NumPy array with values ranging from 1 to 9.*"
      ],
      "metadata": {
        "id": "gg6e_hQLiwNF"
      }
    },
    {
      "cell_type": "code",
      "source": [
        "table_3 = np.array([[1,2,3], [4, 5, 6], [7, 8, 9]])\n",
        "table_3"
      ],
      "metadata": {
        "colab": {
          "base_uri": "https://localhost:8080/"
        },
        "id": "Oa9j5OBmi2-J",
        "outputId": "4309a201-1c75-45e9-f458-5986ff67495f"
      },
      "execution_count": 7,
      "outputs": [
        {
          "output_type": "execute_result",
          "data": {
            "text/plain": [
              "array([[1, 2, 3],\n",
              "       [4, 5, 6],\n",
              "       [7, 8, 9]])"
            ]
          },
          "metadata": {},
          "execution_count": 7
        }
      ]
    },
    {
      "cell_type": "markdown",
      "source": [
        "**Exercice 4:**\n",
        "\n",
        "*Creating Multi-Dimensional Array with Random Numbers*\n",
        "\n",
        "* Instructions\n",
        "\n",
        "*Create a 2D NumPy array of shape (4, 5) filled with random numbers.*"
      ],
      "metadata": {
        "id": "BeTCSWzrjTw_"
      }
    },
    {
      "cell_type": "code",
      "source": [
        "import random\n",
        "table_4 = np.random.rand(4, 5)\n",
        "table_4 = np.round(table_4, 2)\n",
        "table_4"
      ],
      "metadata": {
        "colab": {
          "base_uri": "https://localhost:8080/"
        },
        "id": "dStvhOE7jfx0",
        "outputId": "6fe0be29-000e-465a-fbc6-5b5c473cfa7b"
      },
      "execution_count": 12,
      "outputs": [
        {
          "output_type": "execute_result",
          "data": {
            "text/plain": [
              "array([[0.98, 0.33, 0.01, 0.29, 0.6 ],\n",
              "       [0.9 , 0.79, 0.19, 0.81, 0.48],\n",
              "       [0.22, 0.29, 0.71, 0.4 , 0.65],\n",
              "       [0.21, 0.24, 0.32, 0.26, 0.75]])"
            ]
          },
          "metadata": {},
          "execution_count": 12
        }
      ]
    },
    {
      "cell_type": "markdown",
      "source": [
        "**Exercice 5:**\n",
        "\n",
        "*Indexing Arrays*\n",
        "\n",
        "* Instructions\n",
        "\n",
        "*Select the second row from a given 2D NumPy array.*"
      ],
      "metadata": {
        "id": "MafLT_wOl3Ko"
      }
    },
    {
      "cell_type": "code",
      "source": [
        "array = np.array([[21,22,23,22,22],[20, 21, 22, 23, 24],[21,22,23,22,22]])\n",
        "array = array[1]\n",
        "array"
      ],
      "metadata": {
        "colab": {
          "base_uri": "https://localhost:8080/"
        },
        "id": "gW65VUM_ns4q",
        "outputId": "0cadc2cb-becc-4dbb-b4ed-1cb7ebd19835"
      },
      "execution_count": 14,
      "outputs": [
        {
          "output_type": "execute_result",
          "data": {
            "text/plain": [
              "array([20, 21, 22, 23, 24])"
            ]
          },
          "metadata": {},
          "execution_count": 14
        }
      ]
    },
    {
      "cell_type": "markdown",
      "source": [
        "**Exercice 6:**\n",
        "\n",
        "*Reversing elements*\n",
        "\n",
        "* Instructions\n",
        "\n",
        "*Reverse the order of elements in a given 1D NumPy array (first element becomes last).*"
      ],
      "metadata": {
        "id": "6XPg46stoOMF"
      }
    },
    {
      "cell_type": "code",
      "source": [
        "table_1_inversed = table_1[::-1]\n",
        "table_1_inversed"
      ],
      "metadata": {
        "colab": {
          "base_uri": "https://localhost:8080/"
        },
        "id": "eCzUU6BxohD_",
        "outputId": "29ea0611-0fab-4433-e716-5b196837ecc4"
      },
      "execution_count": 15,
      "outputs": [
        {
          "output_type": "execute_result",
          "data": {
            "text/plain": [
              "array([9, 8, 7, 6, 5, 4, 3, 2, 1, 0])"
            ]
          },
          "metadata": {},
          "execution_count": 15
        }
      ]
    },
    {
      "cell_type": "markdown",
      "source": [
        "**Exercice 7:**\n",
        "\n",
        "*Reversing elements*\n",
        "\n",
        "* Instructions\n",
        "\n",
        "*Reverse the order of elements in a given 1D NumPy array (first element becomes last).*"
      ],
      "metadata": {
        "id": "BZjlIKTKp1PB"
      }
    },
    {
      "cell_type": "code",
      "source": [
        "table_7 = np.eye(4, dtype= 'float')\n",
        "table_7"
      ],
      "metadata": {
        "colab": {
          "base_uri": "https://localhost:8080/"
        },
        "id": "k3fVnR9BqBDp",
        "outputId": "6a237806-858b-4ee5-e28b-17c275ef73c5"
      },
      "execution_count": 16,
      "outputs": [
        {
          "output_type": "execute_result",
          "data": {
            "text/plain": [
              "array([[1., 0., 0., 0.],\n",
              "       [0., 1., 0., 0.],\n",
              "       [0., 0., 1., 0.],\n",
              "       [0., 0., 0., 1.]])"
            ]
          },
          "metadata": {},
          "execution_count": 16
        }
      ]
    },
    {
      "cell_type": "markdown",
      "source": [
        "**Exercice 8:**\n",
        "\n",
        "*Simple Aggregate Funcs*\n",
        "\n",
        "* Instructions\n",
        "\n",
        "*Find the sum and average of a given 1D array.*"
      ],
      "metadata": {
        "id": "2QN0TppYuzvH"
      }
    },
    {
      "cell_type": "code",
      "source": [
        "sum_1 = table_1.sum()\n",
        "mean_1 = table_1.mean()\n",
        "print(f\"The sum of the array table_1 is {sum_1}\")\n",
        "print(f\"The mean of the array table_1 is {mean_1}\")"
      ],
      "metadata": {
        "colab": {
          "base_uri": "https://localhost:8080/"
        },
        "id": "y6ezc0l7vAOZ",
        "outputId": "a6583921-d0f6-4669-da89-7aa9ac5f7d16"
      },
      "execution_count": 20,
      "outputs": [
        {
          "output_type": "stream",
          "name": "stdout",
          "text": [
            "The sum of the array table_1 is 45\n",
            "The mean of the array table_1 is 4.5\n"
          ]
        }
      ]
    },
    {
      "cell_type": "markdown",
      "source": [
        "**Exercice 9 :**\n",
        "\n",
        "*Create Array and Change its Structure*\n",
        "\n",
        "* Instructions\n",
        "\n",
        "*Create a NumPy array with elements from 1 to 20; then reshape it into a 4x5 matrix.*"
      ],
      "metadata": {
        "id": "MY1g-464we8h"
      }
    },
    {
      "cell_type": "code",
      "source": [
        "table_9 = np.arange(1, 21)\n",
        "table_9 = table_9.reshape(4, 5)\n",
        "table_9"
      ],
      "metadata": {
        "colab": {
          "base_uri": "https://localhost:8080/"
        },
        "id": "iluBdkExwrIG",
        "outputId": "96c58d5d-e9e0-48d7-bfde-70557f642c3d"
      },
      "execution_count": 21,
      "outputs": [
        {
          "output_type": "execute_result",
          "data": {
            "text/plain": [
              "array([[ 1,  2,  3,  4,  5],\n",
              "       [ 6,  7,  8,  9, 10],\n",
              "       [11, 12, 13, 14, 15],\n",
              "       [16, 17, 18, 19, 20]])"
            ]
          },
          "metadata": {},
          "execution_count": 21
        }
      ]
    },
    {
      "cell_type": "markdown",
      "source": [
        "**Exercice 10 :**\n",
        "\n",
        "*Conditional Selection of Values*\n",
        "\n",
        "* Instructions\n",
        "\n",
        "*Extract all odd numbers from a given NumPy array.*"
      ],
      "metadata": {
        "id": "xgKYk-VPw02_"
      }
    },
    {
      "cell_type": "code",
      "source": [
        "table_10 = table_9[table_9 % 2 != 0]\n",
        "table_10"
      ],
      "metadata": {
        "colab": {
          "base_uri": "https://localhost:8080/"
        },
        "id": "0nlXuS-hw-6y",
        "outputId": "810ddf2b-eb37-4326-c5db-ed02675f171f"
      },
      "execution_count": 22,
      "outputs": [
        {
          "output_type": "execute_result",
          "data": {
            "text/plain": [
              "array([ 1,  3,  5,  7,  9, 11, 13, 15, 17, 19])"
            ]
          },
          "metadata": {},
          "execution_count": 22
        }
      ]
    }
  ]
}